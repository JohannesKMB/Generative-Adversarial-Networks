{
 "cells": [
  {
   "cell_type": "code",
   "execution_count": 3,
   "metadata": {},
   "outputs": [],
   "source": [
    "import torch.nn as nn\n",
    "import torch\n",
    "import torch.optim as optim\n",
    "import numpy as np\n",
    "import matplotlib.pyplot as plt\n",
    "from sklearn.datasets import fetch_openml\n",
    "from sklearn.preprocessing import OneHotEncoder\n",
    "import torchvision.datasets as datasets\n",
    "from torch.utils.data import DataLoader\n",
    "import torchvision.transforms as transforms\n",
    "import cv2\n",
    "from mpl_toolkits.axes_grid1 import ImageGrid\n",
    "import os\n",
    "device = 'cuda' if torch.cuda.is_available() else 'cpu'\n",
    "\n",
    "images = []\n",
    "images.append(np.array(cv2.imread('slice24.png')).transpose(2,0,1)/255)\n",
    "images.append(np.array(cv2.imread('slice7.png')).transpose(2,0,1)/255)\n",
    "images.append(np.array(cv2.imread('slice202.png')).transpose(2,0,1)/255)\n",
    "images.append(np.array(cv2.imread('slice431.png')).transpose(2,0,1)/255)\n",
    "images.append(np.array(cv2.imread('slice593.png')).transpose(2,0,1)/255)\n",
    "\n",
    "def forward_pass(image_batch):\n",
    "    out=image_batch.clone()\n",
    "    out[:,:,8:26,8:26] = 0.\n",
    "    return out\n",
    "\n",
    "\n",
    "\n",
    "def take_random_patch(img): \n",
    "    rand_no = np.random.randint(low = 0, high = 567, size = (2))\n",
    "    return img[:,rand_no[0]:rand_no[0]+28,rand_no[1]:rand_no[1]+28]\n",
    "\n",
    "DIMENSION = (1,18,18)\n",
    "DIMENSION_COND = (1,18,18)\n",
    "\n"
   ]
  },
  {
   "cell_type": "code",
   "execution_count": 4,
   "metadata": {},
   "outputs": [
    {
     "name": "stdout",
     "output_type": "stream",
     "text": [
      "[[0. 0. 0. 0. 0. 0. 0. 0. 0. 0.]\n",
      " [0. 0. 0. 0. 0. 0. 0. 0. 0. 0.]\n",
      " [0. 0. 0. 0. 0. 0. 0. 0. 0. 0.]\n",
      " [0. 0. 0. 0. 0. 0. 0. 0. 0. 0.]\n",
      " [0. 0. 0. 0. 0. 0. 0. 0. 0. 0.]\n",
      " [0. 0. 0. 0. 0. 0. 0. 0. 0. 0.]]\n",
      "[1 2 3 1 2 3]\n",
      "[[0. 1. 0. 0. 0. 0. 0. 0. 0. 0.]\n",
      " [0. 0. 1. 0. 0. 0. 0. 0. 0. 0.]\n",
      " [0. 0. 0. 1. 0. 0. 0. 0. 0. 0.]\n",
      " [0. 1. 0. 0. 0. 0. 0. 0. 0. 0.]\n",
      " [0. 0. 1. 0. 0. 0. 0. 0. 0. 0.]\n",
      " [0. 0. 0. 1. 0. 0. 0. 0. 0. 0.]]\n"
     ]
    }
   ],
   "source": [
    "q = np.zeros((6,10))\n",
    "print(q)\n",
    "l = np.array([1,2,3,1,2,3], dtype=np.int).reshape(-1)\n",
    "print(l)\n",
    "q[np.arange(6), l] = 1\n",
    "print(q)"
   ]
  },
  {
   "cell_type": "code",
   "execution_count": 5,
   "metadata": {},
   "outputs": [
    {
     "data": {
      "text/plain": [
       "'cpu'"
      ]
     },
     "execution_count": 5,
     "metadata": {},
     "output_type": "execute_result"
    }
   ],
   "source": [
    "device"
   ]
  },
  {
   "cell_type": "code",
   "execution_count": 6,
   "metadata": {},
   "outputs": [],
   "source": [
    "\n",
    "class Generator_mlp(nn.Module):\n",
    "    def __init__(self, z_dim, img_dim):\n",
    "        super().__init__()\n",
    "        self.gen = nn.Sequential(\n",
    "            nn.Linear(z_dim, 512),\n",
    "            #nn.ReLU(),\n",
    "            nn.LeakyReLU(0.1),\n",
    "            nn.Linear(512, img_dim),\n",
    "            nn.Tanh(),\n",
    "            #nn.Sigmoid(),\n",
    "            #nn.LeakyReLU(0.1),\n",
    "        )\n",
    "    def forward(self, x):\n",
    "            return self.gen(x)"
   ]
  },
  {
   "cell_type": "code",
   "execution_count": 7,
   "metadata": {},
   "outputs": [],
   "source": [
    "def glue_together(y,y_cond):\n",
    "    im = y.clone()\n",
    "    im[:,:,8:26,8:26] = y_cond\n",
    "    return im"
   ]
  },
  {
   "cell_type": "code",
   "execution_count": 8,
   "metadata": {},
   "outputs": [],
   "source": [
    "z_dim = 200\n",
    "lr = 1e-3\n",
    "device = 'cuda' if torch.cuda.is_available() else 'cpu'\n",
    "class Generator(nn.Module):\n",
    "    def __init__(self, z_dim, channels_img, features_g):\n",
    "        super(Generator, self).__init__()\n",
    "        self.gen = nn.Sequential(\n",
    "            self._block(z_dim, features_g * 16, 5, 2, 0),\n",
    "            self._block(features_g * 16, features_g * 8, 5, 2, 1),\n",
    "            self._block(features_g * 8, features_g * 4, 5, 1, 1),\n",
    "            self._block(features_g * 4, features_g * 2, 5, 1, 1),\n",
    "            nn.ConvTranspose2d(features_g * 2, channels_img, kernel_size=4, stride=1, padding=0),\n",
    "            nn.Sigmoid()\n",
    "        )\n",
    "    def _block(self, in_channels, out_channels, kernel_size, stride, padding):\n",
    "        return nn.Sequential(\n",
    "            nn.ConvTranspose2d(\n",
    "            in_channels,\n",
    "            out_channels,\n",
    "            kernel_size,\n",
    "            stride,\n",
    "            padding,\n",
    "            bias=False\n",
    "            ),\n",
    "            nn.BatchNorm2d(out_channels),\n",
    "            nn.ReLU()\n",
    "\n",
    "        )\n",
    "\n",
    "    def forward(self, x):\n",
    "            return self.gen(x)\n",
    "class cond_net(nn.Module):\n",
    "    def __init__(self):\n",
    "        super(cond_net, self).__init__()\n",
    "        \n",
    "        self.cnn_layers = nn.Sequential(nn.Conv2d(in_channels=3,\n",
    "                                                  out_channels=4,\n",
    "                                                  kernel_size=3,\n",
    "                                                 stride=1,\n",
    "                                                 padding=0), nn.ReLU(),\n",
    "                                       nn.Conv2d(4, 8,   5, stride=1), nn.ReLU(),\n",
    "                                        nn.Conv2d(8, 16,   5, stride=1, padding=0),nn.ReLU(),\n",
    "                                       nn.Conv2d(16, 8,   1, stride=1, padding=0), nn.ReLU(),\n",
    "                                       nn.Conv2d(8, 3,   1, stride=1, padding=0))\n",
    "        \n",
    "\n",
    "    def forward(self, x):\n",
    "        x = self.cnn_layers(x)\n",
    "        #print(x.shape)\n",
    "        return x\n",
    "    \n",
    "    \n",
    "connie = cond_net()\n",
    "#gen = Generator(z_dim + 1*28*28, 1, 16).to(device)\n",
    "gen = Generator(z_dim + 3*18*18, 3, 4).to(device)\n",
    "optimizer = torch.optim.Adam(list(gen.parameters())+list(connie.parameters()), lr = lr)\n",
    "\n",
    "batch_size = 8\n",
    "\n",
    "\n",
    "class disc(nn.Module):\n",
    "    def __init__(self):\n",
    "        super(disc, self).__init__()\n",
    "        \n",
    "        self.cnn_layers = nn.Sequential(nn.Conv2d(3, 16,   3), nn.ReLU(),\n",
    "                                       nn.Conv2d(16, 32,   5,2), nn.ReLU(),\n",
    "                                        nn.Conv2d(32, 32,   5, stride = 2),nn.ReLU(), nn.Flatten())\n",
    "        \n",
    "        self.linear_layers = nn.Sequential(nn.Linear(512,128), nn.ReLU(), nn.Linear(128,1), nn.Sigmoid())\n",
    "\n",
    "    def forward(self, x):\n",
    "        x = self.cnn_layers(x)\n",
    "        #print(x.shape)\n",
    "        x = self.linear_layers(x)\n",
    "        return x\n",
    "discr = disc().to(device)\n",
    "\n",
    "optimizer2 = torch.optim.Adam(discr.parameters(), lr = 3e-4)\n",
    "eps = 1e-6"
   ]
  },
  {
   "cell_type": "code",
   "execution_count": 9,
   "metadata": {},
   "outputs": [],
   "source": [
    "def ms_criterion(noise, noise2, fake, fake2):\n",
    "    return 1/(torch.mean(torch.abs(fake - fake2)) / torch.mean(torch.abs(noise - noise2)) + 1e-5)"
   ]
  },
  {
   "cell_type": "code",
   "execution_count": 20,
   "metadata": {},
   "outputs": [],
   "source": [
    "def train_SNF_epoch_new():\n",
    "    for i in range(5):\n",
    "        x = torch.zeros(batch_size,3,28,28, device = device)\n",
    "        for k in range(batch_size):\n",
    "            x[k] = torch.from_numpy(take_random_patch(images[i])).float().to(device)\n",
    "        y = forward_pass(x)\n",
    "        y_inp = connie(y).to(device)\n",
    "        #print(f'yinp {y_inp.shape}')\n",
    "        y_inp = y_inp.reshape(-1, 3*18*18,1,1)\n",
    "\n",
    "        z = torch.randn((batch_size,z_dim,1,1))\n",
    "        z2 = torch.randn((batch_size,z_dim,1,1))\n",
    "\n",
    "        inp = torch.cat([z, y_inp],1)\n",
    "        inp2 = torch.cat([z2, y_inp],1)\n",
    "        #print(inp.shape)\n",
    "        loss = 0\n",
    "        #print(f'generated {gen(inp).shape}')\n",
    "        out_for = gen(inp)#[:,:,:-1,:-1]\n",
    "        out_for2 = gen(inp2)#[:,:,:-1,:-1]\n",
    "        out_for_glued = glue_together(y, out_for)\n",
    "        print(out_for_glued.shape)\n",
    "        disc_fake = discr(out_for_glued)\n",
    "        #disc_fake = discr(torch.cat((out_for,y),1))\n",
    "        #loss_gen = -1*torch.mean(torch.log(eps+discr(torch.cat((out_for,y),1))))\n",
    "        loss_gen = -torch.mean(torch.log(disc_fake + 1e-10)) + 0.05* ms_criterion(z, z2, out_for, out_for2)\n",
    "        #l5 = 0.5* torch.sum(invs**2, dim=(1,2,3)) - jac_inv\n",
    "        #print(loss_gen)\n",
    "        optimizer.zero_grad()\n",
    "        loss_gen.backward()\n",
    "        optimizer.step()\n",
    "        \n",
    "        for p in range(1):\n",
    "            x = torch.zeros(batch_size,3,28,28, device = device)\n",
    "            for k in range(batch_size):\n",
    "                x[k] = torch.from_numpy(take_random_patch(images[i])).float().to(device)\n",
    "            y = forward_pass(x)\n",
    "            #print(y.shape)\n",
    "            y_inp = connie(y).to(device)\n",
    "            y_inp = y_inp.reshape(-1, 3*18*18,1,1)\n",
    "\n",
    "            z = torch.randn((batch_size,z_dim,1,1))\n",
    "            inp = torch.cat([z,y_inp],1)\n",
    "            out_for = gen(inp)\n",
    "            #print(f'out for {out_for.shape}')\n",
    "            out_for = out_for.reshape(-1,3,18,18)\n",
    "            out_for_glued = glue_together(y,out_for)\n",
    "            #out_for = gen(inp)[:,:,:-1,:-1]\n",
    "            disc_real = discr(x)\n",
    "            disc_fake = discr(out_for_glued)\n",
    "            #disc_fake = discr(torch.cat((out_for.detach(),y),1))\n",
    "            loss_disc = -torch.mean(torch.log(disc_real + 1e-10) + torch.log(1 - disc_fake + 1e-10))\n",
    "            optimizer2.zero_grad()\n",
    "            #loss_disc = -torch.mean(torch.log(eps+discr(torch.cat((x,y),1))))\n",
    "            #loss_disc += -torch.mean(torch.log(eps+1-discr(torch.cat((out_for.detach(),y),1))))\n",
    "            loss_disc.backward()\n",
    "            optimizer2.step()\n",
    "        #print('disc classification of fake samples')\n",
    "        #print(torch.mean(discr(out_for_glued)))\n",
    "        #print('disc classification of correct samples')\n",
    "        #print(torch.mean(discr(x)))\n",
    "    return loss"
   ]
  },
  {
   "cell_type": "code",
   "execution_count": 21,
   "metadata": {
    "scrolled": true
   },
   "outputs": [
    {
     "name": "stdout",
     "output_type": "stream",
     "text": [
      "0\n",
      "torch.Size([8, 3, 28, 28])\n",
      "torch.Size([8, 3, 28, 28])\n",
      "torch.Size([8, 3, 28, 28])\n",
      "torch.Size([8, 3, 28, 28])\n",
      "torch.Size([8, 3, 28, 28])\n",
      "1\n",
      "torch.Size([8, 3, 28, 28])\n",
      "torch.Size([8, 3, 28, 28])\n",
      "torch.Size([8, 3, 28, 28])\n",
      "torch.Size([8, 3, 28, 28])\n",
      "torch.Size([8, 3, 28, 28])\n",
      "2\n",
      "torch.Size([8, 3, 28, 28])\n",
      "torch.Size([8, 3, 28, 28])\n",
      "torch.Size([8, 3, 28, 28])\n",
      "torch.Size([8, 3, 28, 28])\n",
      "torch.Size([8, 3, 28, 28])\n",
      "3\n",
      "torch.Size([8, 3, 28, 28])\n",
      "torch.Size([8, 3, 28, 28])\n",
      "torch.Size([8, 3, 28, 28])\n",
      "torch.Size([8, 3, 28, 28])\n",
      "torch.Size([8, 3, 28, 28])\n",
      "4\n",
      "torch.Size([8, 3, 28, 28])\n",
      "torch.Size([8, 3, 28, 28])\n",
      "torch.Size([8, 3, 28, 28])\n",
      "torch.Size([8, 3, 28, 28])\n",
      "torch.Size([8, 3, 28, 28])\n",
      "5\n",
      "torch.Size([8, 3, 28, 28])\n",
      "torch.Size([8, 3, 28, 28])\n",
      "torch.Size([8, 3, 28, 28])\n",
      "torch.Size([8, 3, 28, 28])\n",
      "torch.Size([8, 3, 28, 28])\n",
      "6\n",
      "torch.Size([8, 3, 28, 28])\n",
      "torch.Size([8, 3, 28, 28])\n",
      "torch.Size([8, 3, 28, 28])\n",
      "torch.Size([8, 3, 28, 28])\n"
     ]
    },
    {
     "ename": "KeyboardInterrupt",
     "evalue": "",
     "output_type": "error",
     "traceback": [
      "\u001b[1;31m---------------------------------------------------------------------------\u001b[0m",
      "\u001b[1;31mKeyboardInterrupt\u001b[0m                         Traceback (most recent call last)",
      "\u001b[1;32m<ipython-input-21-0cc4facc1c49>\u001b[0m in \u001b[0;36m<module>\u001b[1;34m\u001b[0m\n\u001b[0;32m      1\u001b[0m \u001b[1;32mfor\u001b[0m \u001b[0mi\u001b[0m \u001b[1;32min\u001b[0m \u001b[0mrange\u001b[0m\u001b[1;33m(\u001b[0m\u001b[1;36m500000000\u001b[0m\u001b[1;33m)\u001b[0m\u001b[1;33m:\u001b[0m\u001b[1;33m\u001b[0m\u001b[1;33m\u001b[0m\u001b[0m\n\u001b[0;32m      2\u001b[0m     \u001b[0mprint\u001b[0m\u001b[1;33m(\u001b[0m\u001b[0mi\u001b[0m\u001b[1;33m)\u001b[0m\u001b[1;33m\u001b[0m\u001b[1;33m\u001b[0m\u001b[0m\n\u001b[1;32m----> 3\u001b[1;33m     \u001b[0mtrain_SNF_epoch_new\u001b[0m\u001b[1;33m(\u001b[0m\u001b[1;33m)\u001b[0m\u001b[1;33m\u001b[0m\u001b[1;33m\u001b[0m\u001b[0m\n\u001b[0m\u001b[0;32m      4\u001b[0m \u001b[1;33m\u001b[0m\u001b[0m\n",
      "\u001b[1;32m<ipython-input-20-96ea140644c5>\u001b[0m in \u001b[0;36mtrain_SNF_epoch_new\u001b[1;34m()\u001b[0m\n\u001b[0;32m     18\u001b[0m         \u001b[1;31m#print(f'generated {gen(inp).shape}')\u001b[0m\u001b[1;33m\u001b[0m\u001b[1;33m\u001b[0m\u001b[1;33m\u001b[0m\u001b[0m\n\u001b[0;32m     19\u001b[0m         \u001b[0mout_for\u001b[0m \u001b[1;33m=\u001b[0m \u001b[0mgen\u001b[0m\u001b[1;33m(\u001b[0m\u001b[0minp\u001b[0m\u001b[1;33m)\u001b[0m\u001b[1;31m#[:,:,:-1,:-1]\u001b[0m\u001b[1;33m\u001b[0m\u001b[1;33m\u001b[0m\u001b[0m\n\u001b[1;32m---> 20\u001b[1;33m         \u001b[0mout_for2\u001b[0m \u001b[1;33m=\u001b[0m \u001b[0mgen\u001b[0m\u001b[1;33m(\u001b[0m\u001b[0minp2\u001b[0m\u001b[1;33m)\u001b[0m\u001b[1;31m#[:,:,:-1,:-1]\u001b[0m\u001b[1;33m\u001b[0m\u001b[1;33m\u001b[0m\u001b[0m\n\u001b[0m\u001b[0;32m     21\u001b[0m         \u001b[0mout_for_glued\u001b[0m \u001b[1;33m=\u001b[0m \u001b[0mglue_together\u001b[0m\u001b[1;33m(\u001b[0m\u001b[0my\u001b[0m\u001b[1;33m,\u001b[0m \u001b[0mout_for\u001b[0m\u001b[1;33m)\u001b[0m\u001b[1;33m\u001b[0m\u001b[1;33m\u001b[0m\u001b[0m\n\u001b[0;32m     22\u001b[0m         \u001b[0mprint\u001b[0m\u001b[1;33m(\u001b[0m\u001b[0mout_for_glued\u001b[0m\u001b[1;33m.\u001b[0m\u001b[0mshape\u001b[0m\u001b[1;33m)\u001b[0m\u001b[1;33m\u001b[0m\u001b[1;33m\u001b[0m\u001b[0m\n",
      "\u001b[1;32m~\\anaconda3\\lib\\site-packages\\torch\\nn\\modules\\module.py\u001b[0m in \u001b[0;36m_call_impl\u001b[1;34m(self, *input, **kwargs)\u001b[0m\n\u001b[0;32m    887\u001b[0m             \u001b[0mresult\u001b[0m \u001b[1;33m=\u001b[0m \u001b[0mself\u001b[0m\u001b[1;33m.\u001b[0m\u001b[0m_slow_forward\u001b[0m\u001b[1;33m(\u001b[0m\u001b[1;33m*\u001b[0m\u001b[0minput\u001b[0m\u001b[1;33m,\u001b[0m \u001b[1;33m**\u001b[0m\u001b[0mkwargs\u001b[0m\u001b[1;33m)\u001b[0m\u001b[1;33m\u001b[0m\u001b[1;33m\u001b[0m\u001b[0m\n\u001b[0;32m    888\u001b[0m         \u001b[1;32melse\u001b[0m\u001b[1;33m:\u001b[0m\u001b[1;33m\u001b[0m\u001b[1;33m\u001b[0m\u001b[0m\n\u001b[1;32m--> 889\u001b[1;33m             \u001b[0mresult\u001b[0m \u001b[1;33m=\u001b[0m \u001b[0mself\u001b[0m\u001b[1;33m.\u001b[0m\u001b[0mforward\u001b[0m\u001b[1;33m(\u001b[0m\u001b[1;33m*\u001b[0m\u001b[0minput\u001b[0m\u001b[1;33m,\u001b[0m \u001b[1;33m**\u001b[0m\u001b[0mkwargs\u001b[0m\u001b[1;33m)\u001b[0m\u001b[1;33m\u001b[0m\u001b[1;33m\u001b[0m\u001b[0m\n\u001b[0m\u001b[0;32m    890\u001b[0m         for hook in itertools.chain(\n\u001b[0;32m    891\u001b[0m                 \u001b[0m_global_forward_hooks\u001b[0m\u001b[1;33m.\u001b[0m\u001b[0mvalues\u001b[0m\u001b[1;33m(\u001b[0m\u001b[1;33m)\u001b[0m\u001b[1;33m,\u001b[0m\u001b[1;33m\u001b[0m\u001b[1;33m\u001b[0m\u001b[0m\n",
      "\u001b[1;32m<ipython-input-8-706d2b034d84>\u001b[0m in \u001b[0;36mforward\u001b[1;34m(self, x)\u001b[0m\n\u001b[0;32m     29\u001b[0m \u001b[1;33m\u001b[0m\u001b[0m\n\u001b[0;32m     30\u001b[0m     \u001b[1;32mdef\u001b[0m \u001b[0mforward\u001b[0m\u001b[1;33m(\u001b[0m\u001b[0mself\u001b[0m\u001b[1;33m,\u001b[0m \u001b[0mx\u001b[0m\u001b[1;33m)\u001b[0m\u001b[1;33m:\u001b[0m\u001b[1;33m\u001b[0m\u001b[1;33m\u001b[0m\u001b[0m\n\u001b[1;32m---> 31\u001b[1;33m             \u001b[1;32mreturn\u001b[0m \u001b[0mself\u001b[0m\u001b[1;33m.\u001b[0m\u001b[0mgen\u001b[0m\u001b[1;33m(\u001b[0m\u001b[0mx\u001b[0m\u001b[1;33m)\u001b[0m\u001b[1;33m\u001b[0m\u001b[1;33m\u001b[0m\u001b[0m\n\u001b[0m\u001b[0;32m     32\u001b[0m \u001b[1;32mclass\u001b[0m \u001b[0mcond_net\u001b[0m\u001b[1;33m(\u001b[0m\u001b[0mnn\u001b[0m\u001b[1;33m.\u001b[0m\u001b[0mModule\u001b[0m\u001b[1;33m)\u001b[0m\u001b[1;33m:\u001b[0m\u001b[1;33m\u001b[0m\u001b[1;33m\u001b[0m\u001b[0m\n\u001b[0;32m     33\u001b[0m     \u001b[1;32mdef\u001b[0m \u001b[0m__init__\u001b[0m\u001b[1;33m(\u001b[0m\u001b[0mself\u001b[0m\u001b[1;33m)\u001b[0m\u001b[1;33m:\u001b[0m\u001b[1;33m\u001b[0m\u001b[1;33m\u001b[0m\u001b[0m\n",
      "\u001b[1;32m~\\anaconda3\\lib\\site-packages\\torch\\nn\\modules\\module.py\u001b[0m in \u001b[0;36m_call_impl\u001b[1;34m(self, *input, **kwargs)\u001b[0m\n\u001b[0;32m    887\u001b[0m             \u001b[0mresult\u001b[0m \u001b[1;33m=\u001b[0m \u001b[0mself\u001b[0m\u001b[1;33m.\u001b[0m\u001b[0m_slow_forward\u001b[0m\u001b[1;33m(\u001b[0m\u001b[1;33m*\u001b[0m\u001b[0minput\u001b[0m\u001b[1;33m,\u001b[0m \u001b[1;33m**\u001b[0m\u001b[0mkwargs\u001b[0m\u001b[1;33m)\u001b[0m\u001b[1;33m\u001b[0m\u001b[1;33m\u001b[0m\u001b[0m\n\u001b[0;32m    888\u001b[0m         \u001b[1;32melse\u001b[0m\u001b[1;33m:\u001b[0m\u001b[1;33m\u001b[0m\u001b[1;33m\u001b[0m\u001b[0m\n\u001b[1;32m--> 889\u001b[1;33m             \u001b[0mresult\u001b[0m \u001b[1;33m=\u001b[0m \u001b[0mself\u001b[0m\u001b[1;33m.\u001b[0m\u001b[0mforward\u001b[0m\u001b[1;33m(\u001b[0m\u001b[1;33m*\u001b[0m\u001b[0minput\u001b[0m\u001b[1;33m,\u001b[0m \u001b[1;33m**\u001b[0m\u001b[0mkwargs\u001b[0m\u001b[1;33m)\u001b[0m\u001b[1;33m\u001b[0m\u001b[1;33m\u001b[0m\u001b[0m\n\u001b[0m\u001b[0;32m    890\u001b[0m         for hook in itertools.chain(\n\u001b[0;32m    891\u001b[0m                 \u001b[0m_global_forward_hooks\u001b[0m\u001b[1;33m.\u001b[0m\u001b[0mvalues\u001b[0m\u001b[1;33m(\u001b[0m\u001b[1;33m)\u001b[0m\u001b[1;33m,\u001b[0m\u001b[1;33m\u001b[0m\u001b[1;33m\u001b[0m\u001b[0m\n",
      "\u001b[1;32m~\\anaconda3\\lib\\site-packages\\torch\\nn\\modules\\container.py\u001b[0m in \u001b[0;36mforward\u001b[1;34m(self, input)\u001b[0m\n\u001b[0;32m    117\u001b[0m     \u001b[1;32mdef\u001b[0m \u001b[0mforward\u001b[0m\u001b[1;33m(\u001b[0m\u001b[0mself\u001b[0m\u001b[1;33m,\u001b[0m \u001b[0minput\u001b[0m\u001b[1;33m)\u001b[0m\u001b[1;33m:\u001b[0m\u001b[1;33m\u001b[0m\u001b[1;33m\u001b[0m\u001b[0m\n\u001b[0;32m    118\u001b[0m         \u001b[1;32mfor\u001b[0m \u001b[0mmodule\u001b[0m \u001b[1;32min\u001b[0m \u001b[0mself\u001b[0m\u001b[1;33m:\u001b[0m\u001b[1;33m\u001b[0m\u001b[1;33m\u001b[0m\u001b[0m\n\u001b[1;32m--> 119\u001b[1;33m             \u001b[0minput\u001b[0m \u001b[1;33m=\u001b[0m \u001b[0mmodule\u001b[0m\u001b[1;33m(\u001b[0m\u001b[0minput\u001b[0m\u001b[1;33m)\u001b[0m\u001b[1;33m\u001b[0m\u001b[1;33m\u001b[0m\u001b[0m\n\u001b[0m\u001b[0;32m    120\u001b[0m         \u001b[1;32mreturn\u001b[0m \u001b[0minput\u001b[0m\u001b[1;33m\u001b[0m\u001b[1;33m\u001b[0m\u001b[0m\n\u001b[0;32m    121\u001b[0m \u001b[1;33m\u001b[0m\u001b[0m\n",
      "\u001b[1;32m~\\anaconda3\\lib\\site-packages\\torch\\nn\\modules\\module.py\u001b[0m in \u001b[0;36m_call_impl\u001b[1;34m(self, *input, **kwargs)\u001b[0m\n\u001b[0;32m    887\u001b[0m             \u001b[0mresult\u001b[0m \u001b[1;33m=\u001b[0m \u001b[0mself\u001b[0m\u001b[1;33m.\u001b[0m\u001b[0m_slow_forward\u001b[0m\u001b[1;33m(\u001b[0m\u001b[1;33m*\u001b[0m\u001b[0minput\u001b[0m\u001b[1;33m,\u001b[0m \u001b[1;33m**\u001b[0m\u001b[0mkwargs\u001b[0m\u001b[1;33m)\u001b[0m\u001b[1;33m\u001b[0m\u001b[1;33m\u001b[0m\u001b[0m\n\u001b[0;32m    888\u001b[0m         \u001b[1;32melse\u001b[0m\u001b[1;33m:\u001b[0m\u001b[1;33m\u001b[0m\u001b[1;33m\u001b[0m\u001b[0m\n\u001b[1;32m--> 889\u001b[1;33m             \u001b[0mresult\u001b[0m \u001b[1;33m=\u001b[0m \u001b[0mself\u001b[0m\u001b[1;33m.\u001b[0m\u001b[0mforward\u001b[0m\u001b[1;33m(\u001b[0m\u001b[1;33m*\u001b[0m\u001b[0minput\u001b[0m\u001b[1;33m,\u001b[0m \u001b[1;33m**\u001b[0m\u001b[0mkwargs\u001b[0m\u001b[1;33m)\u001b[0m\u001b[1;33m\u001b[0m\u001b[1;33m\u001b[0m\u001b[0m\n\u001b[0m\u001b[0;32m    890\u001b[0m         for hook in itertools.chain(\n\u001b[0;32m    891\u001b[0m                 \u001b[0m_global_forward_hooks\u001b[0m\u001b[1;33m.\u001b[0m\u001b[0mvalues\u001b[0m\u001b[1;33m(\u001b[0m\u001b[1;33m)\u001b[0m\u001b[1;33m,\u001b[0m\u001b[1;33m\u001b[0m\u001b[1;33m\u001b[0m\u001b[0m\n",
      "\u001b[1;32m~\\anaconda3\\lib\\site-packages\\torch\\nn\\modules\\container.py\u001b[0m in \u001b[0;36mforward\u001b[1;34m(self, input)\u001b[0m\n\u001b[0;32m    117\u001b[0m     \u001b[1;32mdef\u001b[0m \u001b[0mforward\u001b[0m\u001b[1;33m(\u001b[0m\u001b[0mself\u001b[0m\u001b[1;33m,\u001b[0m \u001b[0minput\u001b[0m\u001b[1;33m)\u001b[0m\u001b[1;33m:\u001b[0m\u001b[1;33m\u001b[0m\u001b[1;33m\u001b[0m\u001b[0m\n\u001b[0;32m    118\u001b[0m         \u001b[1;32mfor\u001b[0m \u001b[0mmodule\u001b[0m \u001b[1;32min\u001b[0m \u001b[0mself\u001b[0m\u001b[1;33m:\u001b[0m\u001b[1;33m\u001b[0m\u001b[1;33m\u001b[0m\u001b[0m\n\u001b[1;32m--> 119\u001b[1;33m             \u001b[0minput\u001b[0m \u001b[1;33m=\u001b[0m \u001b[0mmodule\u001b[0m\u001b[1;33m(\u001b[0m\u001b[0minput\u001b[0m\u001b[1;33m)\u001b[0m\u001b[1;33m\u001b[0m\u001b[1;33m\u001b[0m\u001b[0m\n\u001b[0m\u001b[0;32m    120\u001b[0m         \u001b[1;32mreturn\u001b[0m \u001b[0minput\u001b[0m\u001b[1;33m\u001b[0m\u001b[1;33m\u001b[0m\u001b[0m\n\u001b[0;32m    121\u001b[0m \u001b[1;33m\u001b[0m\u001b[0m\n",
      "\u001b[1;32m~\\anaconda3\\lib\\site-packages\\torch\\nn\\modules\\module.py\u001b[0m in \u001b[0;36m_call_impl\u001b[1;34m(self, *input, **kwargs)\u001b[0m\n\u001b[0;32m    887\u001b[0m             \u001b[0mresult\u001b[0m \u001b[1;33m=\u001b[0m \u001b[0mself\u001b[0m\u001b[1;33m.\u001b[0m\u001b[0m_slow_forward\u001b[0m\u001b[1;33m(\u001b[0m\u001b[1;33m*\u001b[0m\u001b[0minput\u001b[0m\u001b[1;33m,\u001b[0m \u001b[1;33m**\u001b[0m\u001b[0mkwargs\u001b[0m\u001b[1;33m)\u001b[0m\u001b[1;33m\u001b[0m\u001b[1;33m\u001b[0m\u001b[0m\n\u001b[0;32m    888\u001b[0m         \u001b[1;32melse\u001b[0m\u001b[1;33m:\u001b[0m\u001b[1;33m\u001b[0m\u001b[1;33m\u001b[0m\u001b[0m\n\u001b[1;32m--> 889\u001b[1;33m             \u001b[0mresult\u001b[0m \u001b[1;33m=\u001b[0m \u001b[0mself\u001b[0m\u001b[1;33m.\u001b[0m\u001b[0mforward\u001b[0m\u001b[1;33m(\u001b[0m\u001b[1;33m*\u001b[0m\u001b[0minput\u001b[0m\u001b[1;33m,\u001b[0m \u001b[1;33m**\u001b[0m\u001b[0mkwargs\u001b[0m\u001b[1;33m)\u001b[0m\u001b[1;33m\u001b[0m\u001b[1;33m\u001b[0m\u001b[0m\n\u001b[0m\u001b[0;32m    890\u001b[0m         for hook in itertools.chain(\n\u001b[0;32m    891\u001b[0m                 \u001b[0m_global_forward_hooks\u001b[0m\u001b[1;33m.\u001b[0m\u001b[0mvalues\u001b[0m\u001b[1;33m(\u001b[0m\u001b[1;33m)\u001b[0m\u001b[1;33m,\u001b[0m\u001b[1;33m\u001b[0m\u001b[1;33m\u001b[0m\u001b[0m\n",
      "\u001b[1;32m~\\anaconda3\\lib\\site-packages\\torch\\nn\\modules\\conv.py\u001b[0m in \u001b[0;36mforward\u001b[1;34m(self, input, output_size)\u001b[0m\n\u001b[0;32m    838\u001b[0m             input, output_size, self.stride, self.padding, self.kernel_size, self.dilation)  # type: ignore\n\u001b[0;32m    839\u001b[0m \u001b[1;33m\u001b[0m\u001b[0m\n\u001b[1;32m--> 840\u001b[1;33m         return F.conv_transpose2d(\n\u001b[0m\u001b[0;32m    841\u001b[0m             \u001b[0minput\u001b[0m\u001b[1;33m,\u001b[0m \u001b[0mself\u001b[0m\u001b[1;33m.\u001b[0m\u001b[0mweight\u001b[0m\u001b[1;33m,\u001b[0m \u001b[0mself\u001b[0m\u001b[1;33m.\u001b[0m\u001b[0mbias\u001b[0m\u001b[1;33m,\u001b[0m \u001b[0mself\u001b[0m\u001b[1;33m.\u001b[0m\u001b[0mstride\u001b[0m\u001b[1;33m,\u001b[0m \u001b[0mself\u001b[0m\u001b[1;33m.\u001b[0m\u001b[0mpadding\u001b[0m\u001b[1;33m,\u001b[0m\u001b[1;33m\u001b[0m\u001b[1;33m\u001b[0m\u001b[0m\n\u001b[0;32m    842\u001b[0m             output_padding, self.groups, self.dilation)\n",
      "\u001b[1;31mKeyboardInterrupt\u001b[0m: "
     ]
    }
   ],
   "source": [
    "for i in range(500000000):\n",
    "    print(i)\n",
    "    train_SNF_epoch_new()\n",
    "    "
   ]
  },
  {
   "cell_type": "code",
   "execution_count": 28,
   "metadata": {},
   "outputs": [
    {
     "data": {
      "image/png": "[encoded data removed]",
      "text/plain": [
       "<Figure size 432x288 with 1 Axes>"
      ]
     },
     "metadata": {
      "needs_background": "light"
     },
     "output_type": "display_data"
    }
   ],
   "source": [
    "mnist = fetch_openml('mnist_784')\n",
    "X = (mnist.data>127.5)*1.0\n",
    "X = np.array(X)\n",
    "i = 2000\n",
    "ax = plt.subplot(1,2,1); ax.set_title('before'); ax.imshow(X[i].reshape(28,28),cmap='gray')\n",
    "plt.show()"
   ]
  },
  {
   "cell_type": "code",
   "execution_count": 29,
   "metadata": {},
   "outputs": [
    {
     "name": "stdout",
     "output_type": "stream",
     "text": [
      "y1 torch.Size([1, 3, 28, 28])\n",
      "y2 (1, 3, 28, 28)\n",
      "y3 (28, 28, 3)\n"
     ]
    },
    {
     "name": "stderr",
     "output_type": "stream",
     "text": [
      "<ipython-input-29-3e2d3dc2f108>:28: UserWarning: To copy construct from a tensor, it is recommended to use sourceTensor.clone().detach() or sourceTensor.clone().detach().requires_grad_(True), rather than torch.tensor(sourceTensor).\n",
      "  out_for = glue_together(torch.tensor(ys),out_for).detach().numpy()\n"
     ]
    },
    {
     "data": {
      "image/png": "[encoded data removed]",
      "text/plain": [
       "<Figure size 432x288 with 1 Axes>"
      ]
     },
     "metadata": {
      "needs_background": "light"
     },
     "output_type": "display_data"
    },
    {
     "data": {
      "image/png": "[encoded data removed]",
      "text/plain": [
       "<Figure size 432x288 with 1 Axes>"
      ]
     },
     "metadata": {
      "needs_background": "light"
     },
     "output_type": "display_data"
    },
    {
     "data": {
      "image/png": "[encoded data removed]",
      "text/plain": [
       "<Figure size 1440x864 with 10 Axes>"
      ]
     },
     "metadata": {},
     "output_type": "display_data"
    },
    {
     "data": {
      "text/plain": [
       "<Figure size 432x288 with 0 Axes>"
      ]
     },
     "metadata": {},
     "output_type": "display_data"
    },
    {
     "data": {
      "text/plain": [
       "<Figure size 432x288 with 0 Axes>"
      ]
     },
     "metadata": {},
     "output_type": "display_data"
    },
    {
     "data": {
      "text/plain": [
       "<Figure size 432x288 with 0 Axes>"
      ]
     },
     "metadata": {},
     "output_type": "display_data"
    },
    {
     "data": {
      "text/plain": [
       "<Figure size 432x288 with 0 Axes>"
      ]
     },
     "metadata": {},
     "output_type": "display_data"
    },
    {
     "data": {
      "text/plain": [
       "<Figure size 432x288 with 0 Axes>"
      ]
     },
     "metadata": {},
     "output_type": "display_data"
    },
    {
     "data": {
      "text/plain": [
       "<Figure size 432x288 with 0 Axes>"
      ]
     },
     "metadata": {},
     "output_type": "display_data"
    },
    {
     "data": {
      "text/plain": [
       "<Figure size 432x288 with 0 Axes>"
      ]
     },
     "metadata": {},
     "output_type": "display_data"
    },
    {
     "data": {
      "text/plain": [
       "<Figure size 432x288 with 0 Axes>"
      ]
     },
     "metadata": {},
     "output_type": "display_data"
    },
    {
     "data": {
      "text/plain": [
       "<Figure size 432x288 with 0 Axes>"
      ]
     },
     "metadata": {},
     "output_type": "display_data"
    },
    {
     "data": {
      "text/plain": [
       "<Figure size 432x288 with 0 Axes>"
      ]
     },
     "metadata": {},
     "output_type": "display_data"
    }
   ],
   "source": [
    "gene = gen.eval()\n",
    "x = torch.from_numpy(take_random_patch(images[2])).float().to(device)\n",
    "bs = 10\n",
    "y = forward_pass(x.view(1,3,28,28))\n",
    "ys = torch.zeros(bs,3,28,28, device = device)\n",
    "ys+= y.to(device)\n",
    "\n",
    "plt.figure()\n",
    "\n",
    "x = x.cpu().data.numpy().reshape(1,3,28,28)\n",
    "x = np.transpose(np.reshape(x,(3, 28,28)), (1,2,0))\n",
    "\n",
    "plt.imshow(x)\n",
    "\n",
    "plt.figure()\n",
    "with torch.no_grad():\n",
    "    y_inp = connie(ys).reshape(-1,3 * 18*18,1,1)\n",
    "    z = torch.randn((bs,z_dim,1,1))\n",
    "    inp = torch.cat([z,y_inp],1)\n",
    "    print(f'y1 {y.shape}')\n",
    "    y = y.cpu().data.numpy()#.reshape(1,3,28,28)\n",
    "    print(f'y2 {y.shape}')\n",
    "    y = np.transpose(np.reshape(y,(3, 28,28)), (1,2,0))\n",
    "    print(f'y3 {y.shape}')\n",
    "    plt.imshow(y)\n",
    "\n",
    "    out_for = gene(inp).reshape(-1,3,18,18)#.detach().numpy()\n",
    "    out_for = glue_together(torch.tensor(ys),out_for).detach().numpy()\n",
    "\n",
    "\n",
    "    #print(out_for.shape)\n",
    "    #plt.figure()\n",
    "    #plt.imshow(out_for)\n",
    "    fig, axes = plt.subplots(2, 5, sharey=True, figsize = (20,12))\n",
    "    fig.tight_layout(pad=0,h_pad=0, w_pad=0)\n",
    "\n",
    "    for i in range(2):\n",
    "        for j in range(5):\n",
    "            plt.figure()\n",
    "            axes[i,j].tick_params(\n",
    "    axis='both',          # changes apply to the x-axis\n",
    "    which='both',      # both major and minor ticks are affected\n",
    "    bottom=False,      # ticks along the bottom edge are off\n",
    "    top=False,\n",
    "    left=False,# ticks along the top edge are off\n",
    "    labelbottom=False,\n",
    "    labelleft=False)\n",
    "            \n",
    "            #estimated_x_image = np.transpose(np.reshape(estimated_x[5*i+j],(3, 32,32)), (1,2,0))\n",
    "            out_for1 = np.transpose(np.reshape(out_for[5*i+j],(3, 28,28)), (1,2,0))\n",
    "            axes[i,j].imshow(out_for1)\n",
    "            \n",
    "    fig.subplots_adjust( \n",
    "                    wspace=0, \n",
    "                    hspace=0)\n",
    "    plt.show()"
   ]
  },
  {
   "cell_type": "code",
   "execution_count": 27,
   "metadata": {},
   "outputs": [
    {
     "name": "stderr",
     "output_type": "stream",
     "text": [
      "Clipping input data to the valid range for imshow with RGB data ([0..1] for floats or [0..255] for integers).\n"
     ]
    },
    {
     "name": "stdout",
     "output_type": "stream",
     "text": [
      "x torch.Size([3, 28, 28])\n",
      "x2 (28, 28, 3)\n"
     ]
    },
    {
     "name": "stderr",
     "output_type": "stream",
     "text": [
      "<ipython-input-27-7152ffb48f2e>:58: UserWarning: To copy construct from a tensor, it is recommended to use sourceTensor.clone().detach() or sourceTensor.clone().detach().requires_grad_(True), rather than torch.tensor(sourceTensor).\n",
      "  out_for = glue_together(torch.tensor(ys),out_for).detach().numpy()\n"
     ]
    },
    {
     "data": {
      "image/png": "[encoded data removed]",
      "text/plain": [
       "<Figure size 432x288 with 1 Axes>"
      ]
     },
     "metadata": {},
     "output_type": "display_data"
    },
    {
     "data": {
      "text/plain": [
       "<Figure size 432x288 with 0 Axes>"
      ]
     },
     "metadata": {},
     "output_type": "display_data"
    },
    {
     "data": {
      "image/png": "[encoded data removed]",
      "text/plain": [
       "<Figure size 432x288 with 1 Axes>"
      ]
     },
     "metadata": {},
     "output_type": "display_data"
    },
    {
     "data": {
      "image/png": "[encoded data removed]",
      "text/plain": [
       "<Figure size 432x288 with 1 Axes>"
      ]
     },
     "metadata": {},
     "output_type": "display_data"
    },
    {
     "data": {
      "image/png": "[encoded data removed]",
      "text/plain": [
       "<Figure size 1440x1440 with 56 Axes>"
      ]
     },
     "metadata": {
      "needs_background": "light"
     },
     "output_type": "display_data"
    }
   ],
   "source": [
    "gene = gen.eval()\n",
    "folder = r'7'\n",
    "os.makedirs(folder, exist_ok=True)\n",
    "x = torch.from_numpy(take_random_patch(images[2])).float().to(device)\n",
    "print('x', x.shape)\n",
    "bs = 28\n",
    "y = forward_pass(x.view(1,3,28,28))\n",
    "ys = torch.zeros(bs,3,28,28, device = device)\n",
    "ys+= y.to(device)\n",
    "\n",
    "plt.figure()\n",
    "\n",
    "x = x.cpu().data.numpy().reshape(1,3,28,28)\n",
    "x = np.transpose(np.reshape(x,(3, 28,28)), (1,2,0))\n",
    "print('x2', x.shape)\n",
    "plt.tick_params(\n",
    "    axis='both',          # changes apply to the x-axis\n",
    "    which='both',      # both major and minor ticks are affected\n",
    "    bottom=False,      # ticks along the bottom edge are off\n",
    "    top=False,\n",
    "    left=False,# ticks along the top edge are off\n",
    "    labelbottom=False,\n",
    "    labelleft=False)\n",
    "plt.imshow(x)\n",
    "plt.savefig(os.path.join(folder,'x.png'), bbox_inches='tight')\n",
    "plt.figure()\n",
    "with torch.no_grad():\n",
    "    y_inp = connie(ys)\n",
    "    plt.figure()\n",
    "    plt.tick_params(\n",
    "    axis='both',          # changes apply to the x-axis\n",
    "    which='both',      # both major and minor ticks are affected\n",
    "    bottom=False,      # ticks along the bottom edge are off\n",
    "    top=False,\n",
    "    left=False,# ticks along the top edge are off\n",
    "    labelbottom=False,\n",
    "    labelleft=False)\n",
    "    plt.imshow(np.transpose(np.reshape(y_inp[0].cpu().data.numpy(),(3, 18,18)), (1,2,0)), cmap=plt.cm.gray)\n",
    "    plt.savefig(os.path.join(folder,'yinp.png'), bbox_inches='tight')\n",
    "    \n",
    "    y_inp = y_inp.reshape(-1,3 * 18*18,1,1)\n",
    "    z = torch.randn((bs,z_dim,1,1))\n",
    "    inp = torch.cat([z,y_inp],1)\n",
    "    plt.figure()\n",
    "    y = y.cpu().data.numpy().reshape(1,3,28,28)\n",
    "    y = np.transpose(np.reshape(y,(3, 28,28)), (1,2,0))\n",
    "    plt.tick_params(\n",
    "    axis='both',          # changes apply to the x-axis\n",
    "    which='both',      # both major and minor ticks are affected\n",
    "    bottom=False,      # ticks along the bottom edge are off\n",
    "    top=False,\n",
    "    left=False,# ticks along the top edge are off\n",
    "    labelbottom=False,\n",
    "    labelleft=False)\n",
    "    plt.imshow(y)\n",
    "    plt.savefig(os.path.join(folder,'y.png'), bbox_inches='tight')\n",
    "    out_for = gene(inp).reshape(-1,3,18,18)#.detach().numpy()\n",
    "    out_for = glue_together(torch.tensor(ys),out_for).detach().numpy()\n",
    "    out_for1 = []\n",
    "    for i in range(4):\n",
    "            for j in range(7):\n",
    "\n",
    "\n",
    "                #estimated_x_image = np.transpose(np.reshape(estimated_x[5*i+j],(3, 32,32)), (1,2,0))\n",
    "                out_for1 += [np.transpose(np.reshape(out_for[7*i+j],(3, 28,28)), (1,2,0))]\n",
    "    fig = plt.figure(figsize=(20, 20))\n",
    "\n",
    "    grid = ImageGrid(fig,111,  # similar to subplot(111)\n",
    "                 nrows_ncols=(4, 7),  # creates 2x2 grid of axes\n",
    "                 axes_pad=0,  # pad between axes in inch.\n",
    "                 )\n",
    "    for ax, im in zip(grid, out_for1):\n",
    "        # Iterating over the grid returns the Axes.\n",
    "        ax.tick_params(\n",
    "    axis='both',          # changes apply to the x-axis\n",
    "    which='both',      # both major and minor ticks are affected\n",
    "    bottom=False,      # ticks along the bottom edge are off\n",
    "    top=False,\n",
    "    left=False,# ticks along the top edge are off\n",
    "    labelbottom=False,\n",
    "    labelleft=False)\n",
    "        ax.imshow(im)\n",
    "    plt.savefig(os.path.join(folder,'gen.png'), bbox_inches='tight')\n",
    "    plt.show()"
   ]
  },
  {
   "cell_type": "code",
   "execution_count": 16,
   "metadata": {},
   "outputs": [],
   "source": [
    "#torch.save(discr.state_dict(), r'C:\\Users\\Karl\\TUB\\Master Thesis\\disc_13k_epochs.pt')\n",
    "#torch.save(gen.state_dict(), r'C:\\Users\\Karl\\TUB\\Master Thesis\\gen_13k_epochs.pt')\n",
    "#torch.save(connie.state_dict(), r'C:\\Users\\Karl\\TUB\\Master Thesis\\connie_13k_epochs.pt')\n"
   ]
  },
  {
   "cell_type": "code",
   "execution_count": 8,
   "metadata": {},
   "outputs": [
    {
     "data": {
      "text/plain": [
       "<All keys matched successfully>"
      ]
     },
     "execution_count": 8,
     "metadata": {},
     "output_type": "execute_result"
    }
   ],
   "source": [
    "gen.load_state_dict(torch.load('gen_13k_epochs.pt'))\n",
    "connie.load_state_dict(torch.load('connie_13k_epochs.pt'))\n",
    "discr.load_state_dict(torch.load('disc_13k_epochs.pt'))"
   ]
  },
  {
   "cell_type": "code",
   "execution_count": null,
   "metadata": {},
   "outputs": [],
   "source": []
  }
 ],
 "metadata": {
  "kernelspec": {
   "display_name": "Python 3",
   "language": "python",
   "name": "python3"
  },
  "language_info": {
   "codemirror_mode": {
    "name": "ipython",
    "version": 3
   },
   "file_extension": ".py",
   "mimetype": "text/x-python",
   "name": "python",
   "nbconvert_exporter": "python",
   "pygments_lexer": "ipython3",
   "version": "3.8.5"
  }
 },
 "nbformat": 4,
 "nbformat_minor": 4
}
