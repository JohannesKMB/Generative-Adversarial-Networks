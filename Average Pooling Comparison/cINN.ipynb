{
 "cells": [
  {
   "cell_type": "code",
   "execution_count": 1,
   "metadata": {},
   "outputs": [],
   "source": [
    "from torch.optim import Adam, SGD\n",
    "import torch\n",
    "import numpy as np\n",
    "import ot\n",
    "import matplotlib.pyplot as plt\n",
    "from tqdm import tqdm\n",
    "from Util_mixture import *\n",
    "import matplotlib.pyplot as plt\n",
    "import numpy as np"
   ]
  },
  {
   "cell_type": "code",
   "execution_count": 4,
   "metadata": {},
   "outputs": [],
   "source": [
    "def train(testing_ys, mat_dim, z_dim):\n",
    "    num_layers, sub_net_size = 7, 64\n",
    "    model = create_INN(num_layers, sub_net_size,dimension=mat_dim**2,dimension_condition=int(mat_dim**2/4))\n",
    "    lr = 1e-4\n",
    "    optimizer = Adam(model.parameters(), lr=lr)\n",
    "    num_epochs = 400\n",
    "    batch_size = 128\n",
    "    num_samples_per_epoch = 1024\n",
    "    optimizer = Adam(model.parameters(), lr = 1e-4)\n",
    "    num_epochs = 100    \n",
    "    batch_size = 64    \n",
    "    num_samples_per_epoch = 2048\n",
    "\n",
    "    prog_bar = tqdm(total=num_epochs)\n",
    "    for i in range(num_epochs):\n",
    "        data_loader = get_epoch_data_loader_new(num_samples_per_epoch, batch_size, mat_dim)\n",
    "        loss = train_inn_epoch_mat(optimizer, model, data_loader, mat_dim)\n",
    "        prog_bar.set_description('loss: {:.4f}'.format(loss))\n",
    "        prog_bar.update()\n",
    "    prog_bar.close()\n",
    "\n",
    "    return model"
   ]
  },
  {
   "cell_type": "code",
   "execution_count": 5,
   "metadata": {},
   "outputs": [],
   "source": [
    "def eval(testing_ys, mat_dim, z_dim):\n",
    "    result = []\n",
    "    testing_x_per_y = 2048\n",
    "    \n",
    "    weights1, weights2 = np.ones((testing_x_per_y,)) / testing_x_per_y, np.ones((testing_x_per_y,)) / testing_x_per_y\n",
    "    weights1 = weights1.astype(np.float64)\n",
    "    weights2 = weights2.astype(np.float64)\n",
    "    w1 = 0.\n",
    "\n",
    "    testing_num_y = len(testing_ys)\n",
    "    prog_bar = tqdm(total=testing_num_y)\n",
    "    prog_bar.set_description('Computing Wasserstein distances')\n",
    "    for i, y in enumerate(testing_ys):\n",
    "        true_posterior_samples = draw_posterior_matrix(y, mat_dim, testing_x_per_y)\n",
    "        inflated_ys = y.flatten()[None, :].repeat(testing_x_per_y, 1)\n",
    "        true_post = true_posterior_samples.reshape(-1, mat_dim ** 2)\n",
    "        noise1 = torch.randn(testing_x_per_y, z_dim).to(device)\n",
    "        rtarget = inflated_ys\n",
    "        samples1 = model(torch.randn(testing_x_per_y, mat_dim**2, device=device), c= inflated_ys)[0].detach().cpu().numpy()\n",
    "        samples1 = samples1.reshape(testing_x_per_y, mat_dim* mat_dim)\n",
    "        result += [samples1]\n",
    "\n",
    "        M1 = ot.dist(samples1, true_post)\n",
    "        w1 += ot.emd2(weights1, weights2, M1)\n",
    "        prog_bar.set_description('W: {:.3f}'.format(w1 / (i + 1)))\n",
    "        prog_bar.update()\n",
    "    return result"
   ]
  },
  {
   "cell_type": "code",
   "execution_count": 6,
   "metadata": {},
   "outputs": [],
   "source": [
    "result_list = []\n",
    "testing_num_y = 100\n",
    "mat_dim = 8\n",
    "z_dim = mat_dim\n"
   ]
  },
  {
   "cell_type": "code",
   "execution_count": 8,
   "metadata": {},
   "outputs": [],
   "source": [
    "testing_xs = draw_x_mats(100, mat_dim)                \n",
    "testing_ys = forward_mat(testing_xs)"
   ]
  },
  {
   "cell_type": "code",
   "execution_count": 9,
   "metadata": {},
   "outputs": [
    {
     "name": "stderr",
     "output_type": "stream",
     "text": [
      "loss: -29.3082: 100%|██████████| 100/100 [00:55<00:00,  1.81it/s]\n"
     ]
    }
   ],
   "source": [
    "\n",
    "model = train(testing_ys, mat_dim, z_dim)\n"
   ]
  },
  {
   "cell_type": "code",
   "execution_count": 10,
   "metadata": {},
   "outputs": [
    {
     "name": "stderr",
     "output_type": "stream",
     "text": [
      "Computing Wasserstein distances:   0%|          | 0/100 [00:00<?, ?it/s]"
     ]
    },
    {
     "name": "stdout",
     "output_type": "stream",
     "text": [
      "torch.Size([100, 8, 8]) torch.Size([100, 4, 4])\n",
      "4\n",
      "samples: (2048, 64), true: torch.Size([2048, 64])\n"
     ]
    },
    {
     "name": "stderr",
     "output_type": "stream",
     "text": [
      "W: 14.466:   1%|          | 1/100 [00:02<03:37,  2.20s/it]              "
     ]
    },
    {
     "name": "stdout",
     "output_type": "stream",
     "text": [
      "samples: (2048, 64), true: torch.Size([2048, 64])\n"
     ]
    },
    {
     "name": "stderr",
     "output_type": "stream",
     "text": [
      "W: 14.826:   2%|▏         | 2/100 [00:04<03:33,  2.17s/it]"
     ]
    },
    {
     "name": "stdout",
     "output_type": "stream",
     "text": [
      "samples: (2048, 64), true: torch.Size([2048, 64])\n"
     ]
    },
    {
     "name": "stderr",
     "output_type": "stream",
     "text": [
      "W: 14.240:   3%|▎         | 3/100 [00:06<03:34,  2.21s/it]"
     ]
    },
    {
     "name": "stdout",
     "output_type": "stream",
     "text": [
      "samples: (2048, 64), true: torch.Size([2048, 64])\n"
     ]
    },
    {
     "name": "stderr",
     "output_type": "stream",
     "text": [
      "W: 14.584:   4%|▍         | 4/100 [00:08<03:33,  2.22s/it]"
     ]
    },
    {
     "name": "stdout",
     "output_type": "stream",
     "text": [
      "samples: (2048, 64), true: torch.Size([2048, 64])\n"
     ]
    },
    {
     "name": "stderr",
     "output_type": "stream",
     "text": [
      "W: 14.505:   5%|▌         | 5/100 [00:10<03:28,  2.19s/it]"
     ]
    },
    {
     "name": "stdout",
     "output_type": "stream",
     "text": [
      "samples: (2048, 64), true: torch.Size([2048, 64])\n"
     ]
    },
    {
     "name": "stderr",
     "output_type": "stream",
     "text": [
      "W: 14.741:   6%|▌         | 6/100 [00:13<03:24,  2.18s/it]"
     ]
    },
    {
     "name": "stdout",
     "output_type": "stream",
     "text": [
      "samples: (2048, 64), true: torch.Size([2048, 64])\n"
     ]
    },
    {
     "name": "stderr",
     "output_type": "stream",
     "text": [
      "W: 14.871:   7%|▋         | 7/100 [00:15<03:21,  2.17s/it]"
     ]
    },
    {
     "name": "stdout",
     "output_type": "stream",
     "text": [
      "samples: (2048, 64), true: torch.Size([2048, 64])\n"
     ]
    },
    {
     "name": "stderr",
     "output_type": "stream",
     "text": [
      "W: 14.990:   8%|▊         | 8/100 [00:17<03:16,  2.14s/it]"
     ]
    },
    {
     "name": "stdout",
     "output_type": "stream",
     "text": [
      "samples: (2048, 64), true: torch.Size([2048, 64])\n"
     ]
    },
    {
     "name": "stderr",
     "output_type": "stream",
     "text": [
      "W: 15.083:   9%|▉         | 9/100 [00:19<03:13,  2.13s/it]"
     ]
    },
    {
     "name": "stdout",
     "output_type": "stream",
     "text": [
      "samples: (2048, 64), true: torch.Size([2048, 64])\n"
     ]
    },
    {
     "name": "stderr",
     "output_type": "stream",
     "text": [
      "W: 14.947:  10%|█         | 10/100 [00:21<03:10,  2.11s/it]"
     ]
    },
    {
     "name": "stdout",
     "output_type": "stream",
     "text": [
      "samples: (2048, 64), true: torch.Size([2048, 64])\n"
     ]
    },
    {
     "name": "stderr",
     "output_type": "stream",
     "text": [
      "W: 14.784:  11%|█         | 11/100 [00:23<03:07,  2.11s/it]"
     ]
    },
    {
     "name": "stdout",
     "output_type": "stream",
     "text": [
      "samples: (2048, 64), true: torch.Size([2048, 64])\n"
     ]
    },
    {
     "name": "stderr",
     "output_type": "stream",
     "text": [
      "W: 14.716:  12%|█▏        | 12/100 [00:25<03:07,  2.13s/it]"
     ]
    },
    {
     "name": "stdout",
     "output_type": "stream",
     "text": [
      "samples: (2048, 64), true: torch.Size([2048, 64])\n"
     ]
    },
    {
     "name": "stderr",
     "output_type": "stream",
     "text": [
      "W: 14.861:  13%|█▎        | 13/100 [00:28<03:09,  2.17s/it]"
     ]
    },
    {
     "name": "stdout",
     "output_type": "stream",
     "text": [
      "samples: (2048, 64), true: torch.Size([2048, 64])\n"
     ]
    },
    {
     "name": "stderr",
     "output_type": "stream",
     "text": [
      "W: 14.792:  14%|█▍        | 14/100 [00:30<03:05,  2.16s/it]"
     ]
    },
    {
     "name": "stdout",
     "output_type": "stream",
     "text": [
      "samples: (2048, 64), true: torch.Size([2048, 64])\n"
     ]
    },
    {
     "name": "stderr",
     "output_type": "stream",
     "text": [
      "W: 14.637:  15%|█▌        | 15/100 [00:32<03:02,  2.14s/it]"
     ]
    },
    {
     "name": "stdout",
     "output_type": "stream",
     "text": [
      "samples: (2048, 64), true: torch.Size([2048, 64])\n"
     ]
    },
    {
     "name": "stderr",
     "output_type": "stream",
     "text": [
      "W: 14.667:  16%|█▌        | 16/100 [00:34<03:01,  2.17s/it]"
     ]
    },
    {
     "name": "stdout",
     "output_type": "stream",
     "text": [
      "samples: (2048, 64), true: torch.Size([2048, 64])\n"
     ]
    },
    {
     "name": "stderr",
     "output_type": "stream",
     "text": [
      "W: 14.641:  17%|█▋        | 17/100 [00:36<03:03,  2.21s/it]"
     ]
    },
    {
     "name": "stdout",
     "output_type": "stream",
     "text": [
      "samples: (2048, 64), true: torch.Size([2048, 64])\n"
     ]
    },
    {
     "name": "stderr",
     "output_type": "stream",
     "text": [
      "W: 14.587:  18%|█▊        | 18/100 [00:38<02:58,  2.17s/it]"
     ]
    },
    {
     "name": "stdout",
     "output_type": "stream",
     "text": [
      "samples: (2048, 64), true: torch.Size([2048, 64])\n"
     ]
    },
    {
     "name": "stderr",
     "output_type": "stream",
     "text": [
      "W: 14.599:  19%|█▉        | 19/100 [00:41<02:55,  2.16s/it]"
     ]
    },
    {
     "name": "stdout",
     "output_type": "stream",
     "text": [
      "samples: (2048, 64), true: torch.Size([2048, 64])\n"
     ]
    },
    {
     "name": "stderr",
     "output_type": "stream",
     "text": [
      "W: 14.701:  20%|██        | 20/100 [00:43<02:52,  2.16s/it]"
     ]
    },
    {
     "name": "stdout",
     "output_type": "stream",
     "text": [
      "samples: (2048, 64), true: torch.Size([2048, 64])\n"
     ]
    },
    {
     "name": "stderr",
     "output_type": "stream",
     "text": [
      "W: 14.685:  21%|██        | 21/100 [00:45<02:49,  2.15s/it]"
     ]
    },
    {
     "name": "stdout",
     "output_type": "stream",
     "text": [
      "samples: (2048, 64), true: torch.Size([2048, 64])\n"
     ]
    },
    {
     "name": "stderr",
     "output_type": "stream",
     "text": [
      "W: 14.757:  22%|██▏       | 22/100 [00:47<02:47,  2.15s/it]"
     ]
    },
    {
     "name": "stdout",
     "output_type": "stream",
     "text": [
      "samples: (2048, 64), true: torch.Size([2048, 64])\n"
     ]
    },
    {
     "name": "stderr",
     "output_type": "stream",
     "text": [
      "W: 14.831:  23%|██▎       | 23/100 [00:49<02:45,  2.15s/it]"
     ]
    },
    {
     "name": "stdout",
     "output_type": "stream",
     "text": [
      "samples: (2048, 64), true: torch.Size([2048, 64])\n"
     ]
    },
    {
     "name": "stderr",
     "output_type": "stream",
     "text": [
      "W: 14.960:  24%|██▍       | 24/100 [00:52<02:52,  2.28s/it]"
     ]
    },
    {
     "name": "stdout",
     "output_type": "stream",
     "text": [
      "samples: (2048, 64), true: torch.Size([2048, 64])\n"
     ]
    },
    {
     "name": "stderr",
     "output_type": "stream",
     "text": [
      "W: 14.929:  25%|██▌       | 25/100 [00:54<02:46,  2.22s/it]"
     ]
    },
    {
     "name": "stdout",
     "output_type": "stream",
     "text": [
      "samples: (2048, 64), true: torch.Size([2048, 64])\n"
     ]
    },
    {
     "name": "stderr",
     "output_type": "stream",
     "text": [
      "W: 15.002:  26%|██▌       | 26/100 [00:56<02:47,  2.26s/it]"
     ]
    },
    {
     "name": "stdout",
     "output_type": "stream",
     "text": [
      "samples: (2048, 64), true: torch.Size([2048, 64])\n"
     ]
    },
    {
     "name": "stderr",
     "output_type": "stream",
     "text": [
      "W: 15.055:  27%|██▋       | 27/100 [00:58<02:46,  2.29s/it]"
     ]
    },
    {
     "name": "stdout",
     "output_type": "stream",
     "text": [
      "samples: (2048, 64), true: torch.Size([2048, 64])\n"
     ]
    },
    {
     "name": "stderr",
     "output_type": "stream",
     "text": [
      "W: 15.073:  28%|██▊       | 28/100 [01:01<02:40,  2.23s/it]"
     ]
    },
    {
     "name": "stdout",
     "output_type": "stream",
     "text": [
      "samples: (2048, 64), true: torch.Size([2048, 64])\n"
     ]
    },
    {
     "name": "stderr",
     "output_type": "stream",
     "text": [
      "W: 15.038:  29%|██▉       | 29/100 [01:03<02:35,  2.20s/it]"
     ]
    },
    {
     "name": "stdout",
     "output_type": "stream",
     "text": [
      "samples: (2048, 64), true: torch.Size([2048, 64])\n"
     ]
    },
    {
     "name": "stderr",
     "output_type": "stream",
     "text": [
      "W: 15.124:  30%|███       | 30/100 [01:05<02:40,  2.29s/it]"
     ]
    },
    {
     "name": "stdout",
     "output_type": "stream",
     "text": [
      "samples: (2048, 64), true: torch.Size([2048, 64])\n"
     ]
    },
    {
     "name": "stderr",
     "output_type": "stream",
     "text": [
      "W: 15.169:  31%|███       | 31/100 [01:07<02:36,  2.27s/it]"
     ]
    },
    {
     "name": "stdout",
     "output_type": "stream",
     "text": [
      "samples: (2048, 64), true: torch.Size([2048, 64])\n"
     ]
    },
    {
     "name": "stderr",
     "output_type": "stream",
     "text": [
      "W: 15.198:  32%|███▏      | 32/100 [01:10<02:37,  2.31s/it]"
     ]
    },
    {
     "name": "stdout",
     "output_type": "stream",
     "text": [
      "samples: (2048, 64), true: torch.Size([2048, 64])\n"
     ]
    },
    {
     "name": "stderr",
     "output_type": "stream",
     "text": [
      "W: 15.157:  33%|███▎      | 33/100 [01:12<02:32,  2.28s/it]"
     ]
    },
    {
     "name": "stdout",
     "output_type": "stream",
     "text": [
      "samples: (2048, 64), true: torch.Size([2048, 64])\n"
     ]
    },
    {
     "name": "stderr",
     "output_type": "stream",
     "text": [
      "W: 15.166:  34%|███▍      | 34/100 [01:14<02:26,  2.22s/it]"
     ]
    },
    {
     "name": "stdout",
     "output_type": "stream",
     "text": [
      "samples: (2048, 64), true: torch.Size([2048, 64])\n"
     ]
    },
    {
     "name": "stderr",
     "output_type": "stream",
     "text": [
      "W: 15.127:  35%|███▌      | 35/100 [01:16<02:22,  2.19s/it]"
     ]
    },
    {
     "name": "stdout",
     "output_type": "stream",
     "text": [
      "samples: (2048, 64), true: torch.Size([2048, 64])\n"
     ]
    },
    {
     "name": "stderr",
     "output_type": "stream",
     "text": [
      "W: 15.127:  36%|███▌      | 36/100 [01:18<02:18,  2.16s/it]"
     ]
    },
    {
     "name": "stdout",
     "output_type": "stream",
     "text": [
      "samples: (2048, 64), true: torch.Size([2048, 64])\n"
     ]
    },
    {
     "name": "stderr",
     "output_type": "stream",
     "text": [
      "W: 15.170:  37%|███▋      | 37/100 [01:21<02:21,  2.25s/it]"
     ]
    },
    {
     "name": "stdout",
     "output_type": "stream",
     "text": [
      "samples: (2048, 64), true: torch.Size([2048, 64])\n"
     ]
    },
    {
     "name": "stderr",
     "output_type": "stream",
     "text": [
      "W: 15.194:  38%|███▊      | 38/100 [01:23<02:19,  2.25s/it]"
     ]
    },
    {
     "name": "stdout",
     "output_type": "stream",
     "text": [
      "samples: (2048, 64), true: torch.Size([2048, 64])\n"
     ]
    },
    {
     "name": "stderr",
     "output_type": "stream",
     "text": [
      "W: 15.230:  39%|███▉      | 39/100 [01:25<02:18,  2.27s/it]"
     ]
    },
    {
     "name": "stdout",
     "output_type": "stream",
     "text": [
      "samples: (2048, 64), true: torch.Size([2048, 64])\n"
     ]
    },
    {
     "name": "stderr",
     "output_type": "stream",
     "text": [
      "W: 15.276:  40%|████      | 40/100 [01:28<02:18,  2.31s/it]"
     ]
    },
    {
     "name": "stdout",
     "output_type": "stream",
     "text": [
      "samples: (2048, 64), true: torch.Size([2048, 64])\n"
     ]
    },
    {
     "name": "stderr",
     "output_type": "stream",
     "text": [
      "W: 15.290:  41%|████      | 41/100 [01:30<02:17,  2.34s/it]"
     ]
    },
    {
     "name": "stdout",
     "output_type": "stream",
     "text": [
      "samples: (2048, 64), true: torch.Size([2048, 64])\n"
     ]
    },
    {
     "name": "stderr",
     "output_type": "stream",
     "text": [
      "W: 15.267:  42%|████▏     | 42/100 [01:33<02:21,  2.44s/it]"
     ]
    },
    {
     "name": "stdout",
     "output_type": "stream",
     "text": [
      "samples: (2048, 64), true: torch.Size([2048, 64])\n"
     ]
    },
    {
     "name": "stderr",
     "output_type": "stream",
     "text": [
      "W: 15.264:  43%|████▎     | 43/100 [01:35<02:17,  2.42s/it]"
     ]
    },
    {
     "name": "stdout",
     "output_type": "stream",
     "text": [
      "samples: (2048, 64), true: torch.Size([2048, 64])\n"
     ]
    },
    {
     "name": "stderr",
     "output_type": "stream",
     "text": [
      "W: 15.274:  44%|████▍     | 44/100 [01:38<02:14,  2.41s/it]"
     ]
    },
    {
     "name": "stdout",
     "output_type": "stream",
     "text": [
      "samples: (2048, 64), true: torch.Size([2048, 64])\n"
     ]
    },
    {
     "name": "stderr",
     "output_type": "stream",
     "text": [
      "W: 15.293:  45%|████▌     | 45/100 [01:40<02:11,  2.39s/it]"
     ]
    },
    {
     "name": "stdout",
     "output_type": "stream",
     "text": [
      "samples: (2048, 64), true: torch.Size([2048, 64])\n"
     ]
    },
    {
     "name": "stderr",
     "output_type": "stream",
     "text": [
      "W: 15.270:  46%|████▌     | 46/100 [01:43<02:12,  2.45s/it]"
     ]
    },
    {
     "name": "stdout",
     "output_type": "stream",
     "text": [
      "samples: (2048, 64), true: torch.Size([2048, 64])\n"
     ]
    },
    {
     "name": "stderr",
     "output_type": "stream",
     "text": [
      "W: 15.291:  47%|████▋     | 47/100 [01:45<02:08,  2.42s/it]"
     ]
    },
    {
     "name": "stdout",
     "output_type": "stream",
     "text": [
      "samples: (2048, 64), true: torch.Size([2048, 64])\n"
     ]
    },
    {
     "name": "stderr",
     "output_type": "stream",
     "text": [
      "W: 15.243:  48%|████▊     | 48/100 [01:47<02:02,  2.36s/it]"
     ]
    },
    {
     "name": "stdout",
     "output_type": "stream",
     "text": [
      "samples: (2048, 64), true: torch.Size([2048, 64])\n"
     ]
    },
    {
     "name": "stderr",
     "output_type": "stream",
     "text": [
      "W: 15.215:  49%|████▉     | 49/100 [01:49<01:56,  2.28s/it]"
     ]
    },
    {
     "name": "stdout",
     "output_type": "stream",
     "text": [
      "samples: (2048, 64), true: torch.Size([2048, 64])\n"
     ]
    },
    {
     "name": "stderr",
     "output_type": "stream",
     "text": [
      "W: 15.222:  50%|█████     | 50/100 [01:51<01:52,  2.26s/it]"
     ]
    },
    {
     "name": "stdout",
     "output_type": "stream",
     "text": [
      "samples: (2048, 64), true: torch.Size([2048, 64])\n"
     ]
    },
    {
     "name": "stderr",
     "output_type": "stream",
     "text": [
      "W: 15.226:  51%|█████     | 51/100 [01:53<01:47,  2.20s/it]"
     ]
    },
    {
     "name": "stdout",
     "output_type": "stream",
     "text": [
      "samples: (2048, 64), true: torch.Size([2048, 64])\n"
     ]
    },
    {
     "name": "stderr",
     "output_type": "stream",
     "text": [
      "W: 15.220:  52%|█████▏    | 52/100 [01:56<01:45,  2.20s/it]"
     ]
    },
    {
     "name": "stdout",
     "output_type": "stream",
     "text": [
      "samples: (2048, 64), true: torch.Size([2048, 64])\n"
     ]
    },
    {
     "name": "stderr",
     "output_type": "stream",
     "text": [
      "W: 15.262:  53%|█████▎    | 53/100 [01:58<01:40,  2.15s/it]"
     ]
    },
    {
     "name": "stdout",
     "output_type": "stream",
     "text": [
      "samples: (2048, 64), true: torch.Size([2048, 64])\n"
     ]
    },
    {
     "name": "stderr",
     "output_type": "stream",
     "text": [
      "W: 15.261:  54%|█████▍    | 54/100 [02:00<01:37,  2.13s/it]"
     ]
    },
    {
     "name": "stdout",
     "output_type": "stream",
     "text": [
      "samples: (2048, 64), true: torch.Size([2048, 64])\n"
     ]
    },
    {
     "name": "stderr",
     "output_type": "stream",
     "text": [
      "W: 15.277:  55%|█████▌    | 55/100 [02:02<01:34,  2.09s/it]"
     ]
    },
    {
     "name": "stdout",
     "output_type": "stream",
     "text": [
      "samples: (2048, 64), true: torch.Size([2048, 64])\n"
     ]
    },
    {
     "name": "stderr",
     "output_type": "stream",
     "text": [
      "W: 15.286:  56%|█████▌    | 56/100 [02:04<01:31,  2.08s/it]"
     ]
    },
    {
     "name": "stdout",
     "output_type": "stream",
     "text": [
      "samples: (2048, 64), true: torch.Size([2048, 64])\n"
     ]
    },
    {
     "name": "stderr",
     "output_type": "stream",
     "text": [
      "W: 15.335:  57%|█████▋    | 57/100 [02:06<01:30,  2.10s/it]"
     ]
    },
    {
     "name": "stdout",
     "output_type": "stream",
     "text": [
      "samples: (2048, 64), true: torch.Size([2048, 64])\n"
     ]
    },
    {
     "name": "stderr",
     "output_type": "stream",
     "text": [
      "W: 15.343:  58%|█████▊    | 58/100 [02:08<01:27,  2.09s/it]"
     ]
    },
    {
     "name": "stdout",
     "output_type": "stream",
     "text": [
      "samples: (2048, 64), true: torch.Size([2048, 64])\n"
     ]
    },
    {
     "name": "stderr",
     "output_type": "stream",
     "text": [
      "W: 15.330:  59%|█████▉    | 59/100 [02:10<01:26,  2.11s/it]"
     ]
    },
    {
     "name": "stdout",
     "output_type": "stream",
     "text": [
      "samples: (2048, 64), true: torch.Size([2048, 64])\n"
     ]
    },
    {
     "name": "stderr",
     "output_type": "stream",
     "text": [
      "W: 15.360:  60%|██████    | 60/100 [02:12<01:24,  2.11s/it]"
     ]
    },
    {
     "name": "stdout",
     "output_type": "stream",
     "text": [
      "samples: (2048, 64), true: torch.Size([2048, 64])\n"
     ]
    },
    {
     "name": "stderr",
     "output_type": "stream",
     "text": [
      "W: 15.345:  61%|██████    | 61/100 [02:14<01:20,  2.06s/it]"
     ]
    },
    {
     "name": "stdout",
     "output_type": "stream",
     "text": [
      "samples: (2048, 64), true: torch.Size([2048, 64])\n"
     ]
    },
    {
     "name": "stderr",
     "output_type": "stream",
     "text": [
      "W: 15.329:  62%|██████▏   | 62/100 [02:16<01:17,  2.04s/it]"
     ]
    },
    {
     "name": "stdout",
     "output_type": "stream",
     "text": [
      "samples: (2048, 64), true: torch.Size([2048, 64])\n"
     ]
    },
    {
     "name": "stderr",
     "output_type": "stream",
     "text": [
      "W: 15.316:  63%|██████▎   | 63/100 [02:18<01:15,  2.04s/it]"
     ]
    },
    {
     "name": "stdout",
     "output_type": "stream",
     "text": [
      "samples: (2048, 64), true: torch.Size([2048, 64])\n"
     ]
    },
    {
     "name": "stderr",
     "output_type": "stream",
     "text": [
      "W: 15.302:  64%|██████▍   | 64/100 [02:20<01:13,  2.04s/it]"
     ]
    },
    {
     "name": "stdout",
     "output_type": "stream",
     "text": [
      "samples: (2048, 64), true: torch.Size([2048, 64])\n"
     ]
    },
    {
     "name": "stderr",
     "output_type": "stream",
     "text": [
      "W: 15.309:  65%|██████▌   | 65/100 [02:22<01:12,  2.07s/it]"
     ]
    },
    {
     "name": "stdout",
     "output_type": "stream",
     "text": [
      "samples: (2048, 64), true: torch.Size([2048, 64])\n"
     ]
    },
    {
     "name": "stderr",
     "output_type": "stream",
     "text": [
      "W: 15.332:  66%|██████▌   | 66/100 [02:25<01:11,  2.10s/it]"
     ]
    },
    {
     "name": "stdout",
     "output_type": "stream",
     "text": [
      "samples: (2048, 64), true: torch.Size([2048, 64])\n"
     ]
    },
    {
     "name": "stderr",
     "output_type": "stream",
     "text": [
      "W: 15.352:  67%|██████▋   | 67/100 [02:27<01:09,  2.12s/it]"
     ]
    },
    {
     "name": "stdout",
     "output_type": "stream",
     "text": [
      "samples: (2048, 64), true: torch.Size([2048, 64])\n"
     ]
    },
    {
     "name": "stderr",
     "output_type": "stream",
     "text": [
      "W: 15.371:  68%|██████▊   | 68/100 [02:29<01:07,  2.12s/it]"
     ]
    },
    {
     "name": "stdout",
     "output_type": "stream",
     "text": [
      "samples: (2048, 64), true: torch.Size([2048, 64])\n"
     ]
    },
    {
     "name": "stderr",
     "output_type": "stream",
     "text": [
      "W: 15.367:  69%|██████▉   | 69/100 [02:31<01:05,  2.13s/it]"
     ]
    },
    {
     "name": "stdout",
     "output_type": "stream",
     "text": [
      "samples: (2048, 64), true: torch.Size([2048, 64])\n"
     ]
    },
    {
     "name": "stderr",
     "output_type": "stream",
     "text": [
      "W: 15.378:  70%|███████   | 70/100 [02:34<01:07,  2.24s/it]"
     ]
    },
    {
     "name": "stdout",
     "output_type": "stream",
     "text": [
      "samples: (2048, 64), true: torch.Size([2048, 64])\n"
     ]
    },
    {
     "name": "stderr",
     "output_type": "stream",
     "text": [
      "W: 15.384:  71%|███████   | 71/100 [02:36<01:04,  2.22s/it]"
     ]
    },
    {
     "name": "stdout",
     "output_type": "stream",
     "text": [
      "samples: (2048, 64), true: torch.Size([2048, 64])\n"
     ]
    },
    {
     "name": "stderr",
     "output_type": "stream",
     "text": [
      "W: 15.363:  72%|███████▏  | 72/100 [02:38<01:01,  2.18s/it]"
     ]
    },
    {
     "name": "stdout",
     "output_type": "stream",
     "text": [
      "samples: (2048, 64), true: torch.Size([2048, 64])\n"
     ]
    },
    {
     "name": "stderr",
     "output_type": "stream",
     "text": [
      "W: 15.347:  73%|███████▎  | 73/100 [02:40<00:57,  2.12s/it]"
     ]
    },
    {
     "name": "stdout",
     "output_type": "stream",
     "text": [
      "samples: (2048, 64), true: torch.Size([2048, 64])\n"
     ]
    },
    {
     "name": "stderr",
     "output_type": "stream",
     "text": [
      "W: 15.337:  74%|███████▍  | 74/100 [02:42<00:54,  2.11s/it]"
     ]
    },
    {
     "name": "stdout",
     "output_type": "stream",
     "text": [
      "samples: (2048, 64), true: torch.Size([2048, 64])\n"
     ]
    },
    {
     "name": "stderr",
     "output_type": "stream",
     "text": [
      "W: 15.348:  75%|███████▌  | 75/100 [02:44<00:53,  2.14s/it]"
     ]
    },
    {
     "name": "stdout",
     "output_type": "stream",
     "text": [
      "samples: (2048, 64), true: torch.Size([2048, 64])\n"
     ]
    },
    {
     "name": "stderr",
     "output_type": "stream",
     "text": [
      "W: 15.359:  76%|███████▌  | 76/100 [02:46<00:51,  2.13s/it]"
     ]
    },
    {
     "name": "stdout",
     "output_type": "stream",
     "text": [
      "samples: (2048, 64), true: torch.Size([2048, 64])\n"
     ]
    },
    {
     "name": "stderr",
     "output_type": "stream",
     "text": [
      "W: 15.367:  77%|███████▋  | 77/100 [02:48<00:48,  2.12s/it]"
     ]
    },
    {
     "name": "stdout",
     "output_type": "stream",
     "text": [
      "samples: (2048, 64), true: torch.Size([2048, 64])\n"
     ]
    },
    {
     "name": "stderr",
     "output_type": "stream",
     "text": [
      "W: 15.392:  78%|███████▊  | 78/100 [02:50<00:46,  2.11s/it]"
     ]
    },
    {
     "name": "stdout",
     "output_type": "stream",
     "text": [
      "samples: (2048, 64), true: torch.Size([2048, 64])\n"
     ]
    },
    {
     "name": "stderr",
     "output_type": "stream",
     "text": [
      "W: 15.389:  79%|███████▉  | 79/100 [02:53<00:46,  2.21s/it]"
     ]
    },
    {
     "name": "stdout",
     "output_type": "stream",
     "text": [
      "samples: (2048, 64), true: torch.Size([2048, 64])\n"
     ]
    },
    {
     "name": "stderr",
     "output_type": "stream",
     "text": [
      "W: 15.384:  80%|████████  | 80/100 [02:55<00:45,  2.30s/it]"
     ]
    },
    {
     "name": "stdout",
     "output_type": "stream",
     "text": [
      "samples: (2048, 64), true: torch.Size([2048, 64])\n"
     ]
    },
    {
     "name": "stderr",
     "output_type": "stream",
     "text": [
      "W: 15.392:  81%|████████  | 81/100 [02:58<00:44,  2.34s/it]"
     ]
    },
    {
     "name": "stdout",
     "output_type": "stream",
     "text": [
      "samples: (2048, 64), true: torch.Size([2048, 64])\n"
     ]
    },
    {
     "name": "stderr",
     "output_type": "stream",
     "text": [
      "W: 15.403:  82%|████████▏ | 82/100 [03:00<00:42,  2.35s/it]"
     ]
    },
    {
     "name": "stdout",
     "output_type": "stream",
     "text": [
      "samples: (2048, 64), true: torch.Size([2048, 64])\n"
     ]
    },
    {
     "name": "stderr",
     "output_type": "stream",
     "text": [
      "W: 15.401:  83%|████████▎ | 83/100 [03:03<00:40,  2.35s/it]"
     ]
    },
    {
     "name": "stdout",
     "output_type": "stream",
     "text": [
      "samples: (2048, 64), true: torch.Size([2048, 64])\n"
     ]
    },
    {
     "name": "stderr",
     "output_type": "stream",
     "text": [
      "W: 15.377:  84%|████████▍ | 84/100 [03:05<00:37,  2.32s/it]"
     ]
    },
    {
     "name": "stdout",
     "output_type": "stream",
     "text": [
      "samples: (2048, 64), true: torch.Size([2048, 64])\n"
     ]
    },
    {
     "name": "stderr",
     "output_type": "stream",
     "text": [
      "W: 15.357:  85%|████████▌ | 85/100 [03:07<00:34,  2.30s/it]"
     ]
    },
    {
     "name": "stdout",
     "output_type": "stream",
     "text": [
      "samples: (2048, 64), true: torch.Size([2048, 64])\n"
     ]
    },
    {
     "name": "stderr",
     "output_type": "stream",
     "text": [
      "W: 15.346:  86%|████████▌ | 86/100 [03:10<00:33,  2.36s/it]"
     ]
    },
    {
     "name": "stdout",
     "output_type": "stream",
     "text": [
      "samples: (2048, 64), true: torch.Size([2048, 64])\n"
     ]
    },
    {
     "name": "stderr",
     "output_type": "stream",
     "text": [
      "W: 15.374:  87%|████████▋ | 87/100 [03:12<00:30,  2.37s/it]"
     ]
    },
    {
     "name": "stdout",
     "output_type": "stream",
     "text": [
      "samples: (2048, 64), true: torch.Size([2048, 64])\n"
     ]
    },
    {
     "name": "stderr",
     "output_type": "stream",
     "text": [
      "W: 15.357:  88%|████████▊ | 88/100 [03:14<00:28,  2.35s/it]"
     ]
    },
    {
     "name": "stdout",
     "output_type": "stream",
     "text": [
      "samples: (2048, 64), true: torch.Size([2048, 64])\n"
     ]
    },
    {
     "name": "stderr",
     "output_type": "stream",
     "text": [
      "W: 15.338:  89%|████████▉ | 89/100 [03:16<00:25,  2.28s/it]"
     ]
    },
    {
     "name": "stdout",
     "output_type": "stream",
     "text": [
      "samples: (2048, 64), true: torch.Size([2048, 64])\n"
     ]
    },
    {
     "name": "stderr",
     "output_type": "stream",
     "text": [
      "W: 15.308:  90%|█████████ | 90/100 [03:19<00:23,  2.33s/it]"
     ]
    },
    {
     "name": "stdout",
     "output_type": "stream",
     "text": [
      "samples: (2048, 64), true: torch.Size([2048, 64])\n"
     ]
    },
    {
     "name": "stderr",
     "output_type": "stream",
     "text": [
      "W: 15.317:  91%|█████████ | 91/100 [03:21<00:20,  2.29s/it]"
     ]
    },
    {
     "name": "stdout",
     "output_type": "stream",
     "text": [
      "samples: (2048, 64), true: torch.Size([2048, 64])\n"
     ]
    },
    {
     "name": "stderr",
     "output_type": "stream",
     "text": [
      "W: 15.328:  92%|█████████▏| 92/100 [03:23<00:18,  2.29s/it]"
     ]
    },
    {
     "name": "stdout",
     "output_type": "stream",
     "text": [
      "samples: (2048, 64), true: torch.Size([2048, 64])\n"
     ]
    },
    {
     "name": "stderr",
     "output_type": "stream",
     "text": [
      "W: 15.326:  93%|█████████▎| 93/100 [03:26<00:15,  2.28s/it]"
     ]
    },
    {
     "name": "stdout",
     "output_type": "stream",
     "text": [
      "samples: (2048, 64), true: torch.Size([2048, 64])\n"
     ]
    },
    {
     "name": "stderr",
     "output_type": "stream",
     "text": [
      "W: 15.336:  94%|█████████▍| 94/100 [03:28<00:13,  2.29s/it]"
     ]
    },
    {
     "name": "stdout",
     "output_type": "stream",
     "text": [
      "samples: (2048, 64), true: torch.Size([2048, 64])\n"
     ]
    },
    {
     "name": "stderr",
     "output_type": "stream",
     "text": [
      "W: 15.353:  95%|█████████▌| 95/100 [03:30<00:11,  2.39s/it]"
     ]
    },
    {
     "name": "stdout",
     "output_type": "stream",
     "text": [
      "samples: (2048, 64), true: torch.Size([2048, 64])\n"
     ]
    },
    {
     "name": "stderr",
     "output_type": "stream",
     "text": [
      "W: 15.358:  96%|█████████▌| 96/100 [03:33<00:09,  2.42s/it]"
     ]
    },
    {
     "name": "stdout",
     "output_type": "stream",
     "text": [
      "samples: (2048, 64), true: torch.Size([2048, 64])\n"
     ]
    },
    {
     "name": "stderr",
     "output_type": "stream",
     "text": [
      "W: 15.335:  97%|█████████▋| 97/100 [03:35<00:07,  2.42s/it]"
     ]
    },
    {
     "name": "stdout",
     "output_type": "stream",
     "text": [
      "samples: (2048, 64), true: torch.Size([2048, 64])\n"
     ]
    },
    {
     "name": "stderr",
     "output_type": "stream",
     "text": [
      "W: 15.337:  98%|█████████▊| 98/100 [03:38<00:04,  2.37s/it]"
     ]
    },
    {
     "name": "stdout",
     "output_type": "stream",
     "text": [
      "samples: (2048, 64), true: torch.Size([2048, 64])\n"
     ]
    },
    {
     "name": "stderr",
     "output_type": "stream",
     "text": [
      "W: 15.350:  99%|█████████▉| 99/100 [03:40<00:02,  2.35s/it]"
     ]
    },
    {
     "name": "stdout",
     "output_type": "stream",
     "text": [
      "samples: (2048, 64), true: torch.Size([2048, 64])\n"
     ]
    },
    {
     "name": "stderr",
     "output_type": "stream",
     "text": [
      "W: 15.342: 100%|██████████| 100/100 [03:42<00:00,  2.31s/it]"
     ]
    },
    {
     "name": "stdout",
     "output_type": "stream",
     "text": [
      "[array([[-0.49589783,  0.61328113,  0.6305553 , ...,  0.7592481 ,\n",
      "         1.4477004 ,  0.8806828 ],\n",
      "       [ 0.5551277 , -0.14914364,  1.531405  , ...,  1.069781  ,\n",
      "         0.5428651 ,  0.78692555],\n",
      "       [ 1.0524828 ,  0.903377  ,  0.25060523, ...,  1.2989255 ,\n",
      "         1.0647309 , -0.22277427],\n",
      "       ...,\n",
      "       [-0.33901373,  0.58017653,  1.149852  , ...,  0.9020556 ,\n",
      "         0.8783412 ,  0.7507312 ],\n",
      "       [-0.1299917 ,  0.5575352 ,  1.1343086 , ...,  0.8882068 ,\n",
      "         0.7960025 ,  0.7952117 ],\n",
      "       [-0.08245399,  0.28573114,  0.5146859 , ...,  0.49233532,\n",
      "         0.8182048 ,  1.3119425 ]], dtype=float32), array([[ 1.0502943 ,  0.9162462 ,  0.54398346, ...,  0.7479236 ,\n",
      "         1.1868901 ,  0.72786516],\n",
      "       [-0.01978268,  0.1924966 ,  0.52045643, ...,  0.49247065,\n",
      "         0.2107952 , -0.5426641 ],\n",
      "       [ 0.37672612,  0.5686444 ,  0.58832467, ...,  0.10252452,\n",
      "         1.0972012 ,  0.7217022 ],\n",
      "       ...,\n",
      "       [-0.41554093,  0.21634758,  0.20076889, ...,  1.0185256 ,\n",
      "         0.32007074,  1.0669355 ],\n",
      "       [ 1.0541983 ,  1.3489141 ,  0.3510858 , ..., -0.11410063,\n",
      "         0.23559248,  0.915895  ],\n",
      "       [ 1.4445543 ,  0.98537403,  1.2703426 , ...,  0.01159315,\n",
      "         0.6539287 ,  0.46697414]], dtype=float32), array([[ 0.36798573,  1.2492983 , -0.6179821 , ...,  0.6360953 ,\n",
      "         0.34919533,  0.3174411 ],\n",
      "       [-0.3084712 ,  0.21856247,  0.63501924, ..., -0.29556495,\n",
      "         0.69293046,  1.1804583 ],\n",
      "       [ 0.24539134,  0.9589021 , -0.1765385 , ...,  1.2880323 ,\n",
      "         1.4561181 ,  0.41961172],\n",
      "       ...,\n",
      "       [ 0.92680335,  0.994297  , -0.01108027, ...,  0.29613632,\n",
      "         0.8090627 ,  1.3651078 ],\n",
      "       [ 0.7817698 ,  0.9239372 , -0.19901383, ...,  0.3527695 ,\n",
      "         1.1567049 ,  0.7210448 ],\n",
      "       [ 0.73125535,  1.222955  ,  0.29620808, ...,  0.78290606,\n",
      "         0.9127586 ,  0.76671267]], dtype=float32), array([[ 4.4597921e-01,  4.3266636e-01,  3.6587971e-01, ...,\n",
      "         1.2851689e+00,  8.1691295e-01,  7.0753694e-01],\n",
      "       [ 8.8156119e-02,  4.7420755e-01,  2.9101691e-01, ...,\n",
      "        -4.5512584e-01,  4.1401172e-01, -3.5495389e-01],\n",
      "       [ 1.2893489e-01,  3.4546548e-01,  6.9501400e-01, ...,\n",
      "        -1.6735455e-01,  8.2468045e-01,  1.0873046e+00],\n",
      "       ...,\n",
      "       [ 3.0429599e-01, -3.7359029e-02,  7.9542822e-01, ...,\n",
      "         1.0544062e-03,  4.5874476e-01,  6.5691495e-01],\n",
      "       [-2.6170248e-01,  1.0985041e-01,  6.0664368e-01, ...,\n",
      "         4.9688116e-01,  7.2562814e-02,  4.5925674e-01],\n",
      "       [ 5.7762855e-01, -2.6196301e-01,  1.2293508e+00, ...,\n",
      "        -4.3217212e-01,  7.9852998e-01,  2.3263189e-01]], dtype=float32), array([[ 2.5362289e-01, -2.6688367e-01, -2.0514530e-01, ...,\n",
      "         2.7999410e-01,  1.0787846e-01,  1.7366797e-01],\n",
      "       [-6.1204576e-01,  2.1247502e-01,  1.1907822e+00, ...,\n",
      "         6.2063038e-01,  7.2743076e-01,  9.5606238e-01],\n",
      "       [ 6.8499893e-02,  9.9551886e-02,  5.1529312e-01, ...,\n",
      "        -1.7150807e-01,  1.1510643e-01, -9.1316730e-02],\n",
      "       ...,\n",
      "       [ 4.3027306e-01,  9.0711713e-02,  4.4902840e-01, ...,\n",
      "         5.4623014e-01,  1.2607000e+00,  1.7225230e-01],\n",
      "       [ 3.4360617e-01, -4.7296286e-05,  2.5384384e-01, ...,\n",
      "        -4.8751765e-01,  3.3963692e-01,  2.9106078e-01],\n",
      "       [-1.6314259e-01, -5.8282125e-01,  1.0991603e+00, ...,\n",
      "         3.3147314e-01,  3.7094548e-01,  7.5431252e-01]], dtype=float32), array([[ 1.4769651 ,  1.0411541 ,  1.1395731 , ...,  0.4285696 ,\n",
      "         0.9036024 ,  1.2101601 ],\n",
      "       [ 0.7304006 ,  1.0233862 ,  1.0748284 , ...,  0.6318394 ,\n",
      "         0.19992408,  1.7111971 ],\n",
      "       [ 1.7499129 ,  0.9506091 ,  0.76892865, ...,  0.34332803,\n",
      "         1.2940304 , -0.3123128 ],\n",
      "       ...,\n",
      "       [ 0.35370642,  0.99288213,  1.3708006 , ...,  0.06904142,\n",
      "         0.91362727,  1.1967882 ],\n",
      "       [ 1.270108  ,  0.98525643,  0.60312515, ...,  0.48765337,\n",
      "         1.5414227 ,  0.6607306 ],\n",
      "       [ 0.48440802,  1.0905218 ,  1.9267131 , ...,  0.15775616,\n",
      "         0.76993203,  1.3732128 ]], dtype=float32), array([[-0.23511507,  0.8646884 , -0.19956186, ...,  0.75233394,\n",
      "        -0.03737019,  0.56322813],\n",
      "       [-0.14670518,  0.11480066,  0.4946818 , ...,  0.87509406,\n",
      "        -0.12460613,  0.626979  ],\n",
      "       [ 0.76687026, -0.25628033, -0.4745572 , ...,  0.9873231 ,\n",
      "         0.41664225,  0.08953303],\n",
      "       ...,\n",
      "       [-0.5065612 ,  0.99851435,  1.0117738 , ...,  0.5693156 ,\n",
      "         0.6589749 ,  0.2645803 ],\n",
      "       [ 1.0134563 ,  0.492396  ,  0.09103662, ...,  0.420019  ,\n",
      "        -0.09015287,  0.35208356],\n",
      "       [-0.02525602, -0.09340039, -0.37825713, ...,  0.9599363 ,\n",
      "         0.5214781 ,  0.42915258]], dtype=float32), array([[ 0.43224815,  0.19004947, -0.27778503, ...,  0.70019406,\n",
      "        -0.13509768,  0.031115  ],\n",
      "       [ 0.4689515 ,  0.46210158,  0.08854806, ...,  1.089617  ,\n",
      "         0.8275057 ,  0.48554718],\n",
      "       [ 0.5924927 , -0.3682434 ,  0.11513945, ...,  0.04317058,\n",
      "         1.0775697 ,  0.11768499],\n",
      "       ...,\n",
      "       [-0.06757711,  0.08119363,  0.70659065, ...,  0.43514627,\n",
      "        -0.04818061, -0.08681025],\n",
      "       [-0.27631485,  1.0560596 , -0.06539004, ...,  0.7251511 ,\n",
      "         0.66151094,  1.043677  ],\n",
      "       [-0.22854108, -0.6770769 ,  0.19381437, ...,  0.7744287 ,\n",
      "         0.5230595 ,  0.71947956]], dtype=float32), array([[ 0.81837946,  0.3189891 , -0.42626148, ...,  0.94988954,\n",
      "         0.48921716,  0.58944625],\n",
      "       [ 1.1441587 ,  0.27446806,  0.51931   , ..., -0.04971089,\n",
      "        -0.0376364 , -0.04581498],\n",
      "       [ 1.2832301 ,  1.34381   ,  1.1408654 , ...,  1.762596  ,\n",
      "         0.05213633,  0.17530528],\n",
      "       ...,\n",
      "       [ 1.2340233 ,  0.85497934,  0.03483409, ...,  0.7452827 ,\n",
      "         1.300313  , -0.07815701],\n",
      "       [ 0.6470747 ,  0.6261791 ,  1.4493244 , ...,  0.8678385 ,\n",
      "         1.0538012 , -0.32526994],\n",
      "       [ 0.9367158 ,  1.0068891 ,  1.062705  , ...,  1.0397424 ,\n",
      "         0.5006996 ,  1.6418127 ]], dtype=float32), array([[ 0.6407693 ,  0.06978504,  1.1598998 , ..., -0.37108597,\n",
      "         0.21826074, -0.74866885],\n",
      "       [ 0.2906337 ,  0.5859102 ,  0.27689838, ...,  0.8172077 ,\n",
      "         0.12213597, -0.28720328],\n",
      "       [ 0.48534736,  0.8365397 ,  0.51908576, ...,  0.09392011,\n",
      "         0.51996017,  0.23346971],\n",
      "       ...,\n",
      "       [-0.3746542 ,  0.22052282,  1.3475906 , ...,  0.13876455,\n",
      "        -0.62309635, -0.17227043],\n",
      "       [ 0.48401952,  1.3065488 ,  0.4494851 , ...,  0.6684563 ,\n",
      "         0.03520855, -0.47523594],\n",
      "       [ 0.07208614, -0.61685264,  1.4384065 , ..., -0.159027  ,\n",
      "        -0.45932856, -0.19548644]], dtype=float32), array([[ 0.24587414,  0.01181823,  1.032712  , ...,  1.144076  ,\n",
      "         0.8152191 ,  0.52748615],\n",
      "       [ 0.18804543, -0.31082073, -0.33511287, ...,  0.07373518,\n",
      "         1.3751785 ,  0.24826498],\n",
      "       [ 0.43085912,  0.23532212,  0.12774968, ..., -0.199448  ,\n",
      "         0.75601393,  0.7590657 ],\n",
      "       ...,\n",
      "       [ 1.1500503 ,  0.4572464 ,  1.2241622 , ...,  1.4121578 ,\n",
      "         0.58492273,  0.8949634 ],\n",
      "       [ 0.5144219 ,  0.59360874,  1.4504204 , ...,  0.9262743 ,\n",
      "         1.3405492 ,  0.46664104],\n",
      "       [ 0.37837386,  0.45796958,  0.63369966, ...,  0.74617386,\n",
      "         1.1853386 ,  0.7080709 ]], dtype=float32), array([[-0.20473774,  0.4009408 ,  0.16666746, ...,  0.4498433 ,\n",
      "         1.6049889 ,  1.3782213 ],\n",
      "       [ 0.3962665 ,  0.79900575,  0.4277078 , ..., -0.11644062,\n",
      "         0.50833964,  0.2524011 ],\n",
      "       [-0.04575613,  0.20138985,  0.71452796, ...,  0.0854128 ,\n",
      "         0.4497957 ,  0.5063538 ],\n",
      "       ...,\n",
      "       [-0.13272274,  0.28702524,  0.7260827 , ...,  0.45907497,\n",
      "         0.3487679 ,  0.43135557],\n",
      "       [-0.8017215 ,  0.07471809, -0.2935961 , ...,  0.4634477 ,\n",
      "         0.6213057 ,  1.1482484 ],\n",
      "       [ 1.1790993 ,  0.09538552, -0.18536918, ...,  0.01849982,\n",
      "         1.0486803 ,  0.67637795]], dtype=float32), array([[ 0.42038336,  0.24744847,  0.97275996, ...,  0.7191559 ,\n",
      "         0.08129232,  1.1888101 ],\n",
      "       [ 1.4435239 , -0.03767067,  0.23333055, ...,  1.160466  ,\n",
      "         0.9325981 ,  0.6335737 ],\n",
      "       [ 0.2837257 ,  0.06814012,  0.30124867, ...,  1.0852561 ,\n",
      "         0.47660393,  0.93468475],\n",
      "       ...,\n",
      "       [ 0.9794184 ,  0.03280443,  1.1812145 , ...,  1.1219883 ,\n",
      "         0.88802874,  1.0150585 ],\n",
      "       [ 0.5611616 ,  1.0108972 ,  1.5394015 , ...,  0.5048204 ,\n",
      "         0.20990424,  0.3676323 ],\n",
      "       [ 0.7530086 ,  0.08828181,  0.98165494, ...,  0.09008557,\n",
      "         2.07657   ,  0.93407834]], dtype=float32), array([[ 0.5291805 ,  1.2250521 ,  0.64204204, ...,  0.6899541 ,\n",
      "         0.36511722, -0.20333523],\n",
      "       [ 0.29124537,  0.16015527,  0.23041031, ...,  0.72112453,\n",
      "         0.05576319,  0.61547273],\n",
      "       [ 0.584317  ,  0.17477264,  0.5105481 , ...,  1.108855  ,\n",
      "         0.7237362 ,  1.0518284 ],\n",
      "       ...,\n",
      "       [-0.2589143 ,  1.1337227 ,  0.63298863, ...,  0.55018574,\n",
      "         0.83922786,  0.36476484],\n",
      "       [ 1.149201  ,  0.33921427,  0.5166352 , ...,  0.9556798 ,\n",
      "         0.8448329 ,  0.3737831 ],\n",
      "       [ 0.44240335,  0.06581181,  0.65934336, ...,  0.69313145,\n",
      "         0.38951296,  0.8898787 ]], dtype=float32), array([[ 0.10105918,  0.6174882 ,  0.4053047 , ..., -0.15162283,\n",
      "         0.62648773,  0.61823076],\n",
      "       [-0.3509634 ,  0.65464306,  0.33278006, ...,  0.04649283,\n",
      "         0.328248  ,  0.02558988],\n",
      "       [ 0.17539917, -0.20463812,  0.21940738, ...,  0.26057303,\n",
      "         0.48215324,  0.91960776],\n",
      "       ...,\n",
      "       [ 0.10561264,  0.1883426 , -0.9716534 , ..., -0.22586834,\n",
      "        -0.0739684 ,  0.8655411 ],\n",
      "       [ 1.4378695 ,  0.32091808, -0.13075319, ..., -0.39570302,\n",
      "         0.9962477 ,  0.17008957],\n",
      "       [ 0.26093084,  1.1444014 , -0.5176195 , ..., -0.29287964,\n",
      "         0.38552254,  0.26897484]], dtype=float32), array([[ 0.5129775 ,  0.90291554,  0.21349534, ...,  0.9710763 ,\n",
      "         0.6978354 ,  1.0840456 ],\n",
      "       [ 0.6406991 , -0.56621563,  0.26779947, ...,  0.26687887,\n",
      "         0.24520914,  0.70244527],\n",
      "       [ 0.81008804,  1.3126305 ,  0.7375792 , ...,  0.8479769 ,\n",
      "         0.29422474,  0.37450063],\n",
      "       ...,\n",
      "       [ 0.28045622,  0.16759181, -0.00477606, ...,  0.84194183,\n",
      "         0.47422242,  0.5177247 ],\n",
      "       [ 0.7690782 ,  0.5941691 , -0.16494009, ...,  1.0644883 ,\n",
      "         0.11586571,  1.2957315 ],\n",
      "       [ 1.1011775 ,  0.1278323 ,  0.2149142 , ...,  0.42954034,\n",
      "         0.95176363,  1.040596  ]], dtype=float32), array([[ 0.82089376,  0.30412352,  0.03225973, ...,  0.70219165,\n",
      "         0.40651277,  0.1861282 ],\n",
      "       [-0.54730934,  0.4779743 ,  0.6701908 , ...,  1.5507722 ,\n",
      "         0.0485879 , -0.03039172],\n",
      "       [ 0.67680925,  0.08850832,  0.35388392, ...,  1.6117171 ,\n",
      "         1.2182016 ,  0.57096285],\n",
      "       ...,\n",
      "       [ 0.45836234,  0.73933446,  0.9069529 , ...,  0.61690134,\n",
      "         0.14413989,  0.5604457 ],\n",
      "       [ 1.0371661 , -0.5514567 ,  0.05236474, ...,  1.1696526 ,\n",
      "        -0.3780697 ,  0.40403706],\n",
      "       [-0.41790542,  0.37850413, -0.51217556, ...,  1.0194185 ,\n",
      "         0.6347836 ,  0.6342499 ]], dtype=float32), array([[ 0.33956972,  0.1742377 , -0.44077027, ...,  0.76243937,\n",
      "         0.97421   ,  0.9215858 ],\n",
      "       [ 0.17899728,  0.38557863, -0.3217103 , ...,  0.52487385,\n",
      "         0.7394484 ,  0.0432989 ],\n",
      "       [-0.29452634,  1.0489433 ,  0.14438409, ...,  0.5989351 ,\n",
      "         1.6850898 ,  0.98725975],\n",
      "       ...,\n",
      "       [ 0.7516181 ,  0.0613398 ,  0.01618439, ...,  1.0147305 ,\n",
      "         1.1739928 ,  0.5977397 ],\n",
      "       [ 1.0651238 ,  0.07678592, -0.51092726, ...,  0.9618376 ,\n",
      "         0.3987468 ,  1.1843861 ],\n",
      "       [ 0.65988123,  0.5960007 , -0.11812964, ...,  0.45257428,\n",
      "         0.76217717,  0.3524054 ]], dtype=float32), array([[ 0.00792198,  0.2569927 ,  0.49313337, ...,  0.4787825 ,\n",
      "         0.4832133 ,  0.4088538 ],\n",
      "       [ 0.10032132,  0.42702895, -0.00551319, ..., -0.46641576,\n",
      "         0.19271314, -0.22221717],\n",
      "       [-0.3389513 , -0.07147807,  0.8911576 , ...,  0.3537433 ,\n",
      "        -0.15788412,  0.65441924],\n",
      "       ...,\n",
      "       [ 1.1589718 ,  0.64757335,  0.19672418, ...,  0.6225565 ,\n",
      "         1.2151902 ,  0.94877875],\n",
      "       [ 0.23085836,  0.8991319 ,  0.43861154, ...,  0.06337215,\n",
      "         0.6772873 ,  0.37972844],\n",
      "       [ 0.433509  ,  0.834001  , -0.32935348, ..., -0.11294542,\n",
      "         0.39318588,  0.83167994]], dtype=float32), array([[ 0.39359534, -0.18511975, -0.14832309, ..., -0.18631084,\n",
      "         0.4020608 ,  0.437539  ],\n",
      "       [ 0.8551587 ,  0.81292796, -0.70635337, ...,  0.2125122 ,\n",
      "         0.6693535 ,  0.3192152 ],\n",
      "       [ 0.7915989 ,  0.17006357, -0.20854178, ..., -0.6836469 ,\n",
      "         0.5784627 ,  0.2079769 ],\n",
      "       ...,\n",
      "       [ 0.69013286,  0.21890587,  0.17885467, ...,  0.7316365 ,\n",
      "        -0.19928205,  0.78669024],\n",
      "       [ 0.58488524, -0.22171429, -0.19219086, ...,  0.92784184,\n",
      "        -0.23348622,  0.5254979 ],\n",
      "       [ 0.62396663,  0.9273536 ,  0.15715203, ...,  1.0861404 ,\n",
      "        -0.09182882,  0.15742955]], dtype=float32), array([[ 1.0750986 ,  0.8987288 ,  0.51325315, ...,  1.4845676 ,\n",
      "        -0.29864994,  0.07820907],\n",
      "       [ 1.1359061 ,  0.424153  ,  1.0695894 , ...,  0.61828595,\n",
      "        -0.02862686, -0.03296164],\n",
      "       [ 0.39705098,  0.49758744,  0.31703797, ...,  1.1436985 ,\n",
      "        -0.18136385,  0.3779019 ],\n",
      "       ...,\n",
      "       [ 0.47973478,  0.5036799 , -0.6165623 , ...,  1.0102262 ,\n",
      "         0.9333892 , -0.58459115],\n",
      "       [ 1.5046316 ,  0.6051063 ,  2.4313736 , ...,  0.9844861 ,\n",
      "        -0.29856804,  0.36254767],\n",
      "       [ 0.65285695,  0.57316643,  0.27278236, ...,  1.4809622 ,\n",
      "         0.10661769, -0.6026495 ]], dtype=float32), array([[ 0.30330393,  0.16231412,  0.5363912 , ...,  1.029719  ,\n",
      "         1.1945769 ,  0.55592626],\n",
      "       [ 0.7319081 ,  0.4683128 ,  1.3209168 , ..., -0.3538858 ,\n",
      "         0.8053311 ,  0.48238373],\n",
      "       [ 0.06020473,  0.08275628, -0.61614716, ..., -0.45993024,\n",
      "         1.2596347 ,  0.03044644],\n",
      "       ...,\n",
      "       [ 0.16665715,  0.67943996,  0.4314966 , ...,  0.6599363 ,\n",
      "         1.3039625 , -0.36299598],\n",
      "       [-0.30535555, -0.33658662, -0.00451335, ..., -0.43479586,\n",
      "         0.14304174,  0.55804616],\n",
      "       [-0.08831954,  0.40711248, -0.20124502, ...,  0.75667834,\n",
      "         0.46015137, -0.46700972]], dtype=float32), array([[ 6.94980845e-02,  1.54546022e-01,  2.05213934e-01, ...,\n",
      "         1.14611566e+00, -3.14403772e-02,  3.07511479e-01],\n",
      "       [ 1.06528425e+00,  5.65548182e-01, -3.21767539e-01, ...,\n",
      "         5.45568526e-01,  1.21110165e+00,  3.76640797e-01],\n",
      "       [ 1.24633992e+00,  7.69220710e-01,  1.03113055e-02, ...,\n",
      "         1.72911584e-03,  8.80858183e-01,  7.82535911e-01],\n",
      "       ...,\n",
      "       [ 6.12803459e-01,  2.92322189e-01, -1.74897894e-01, ...,\n",
      "         1.17244518e+00,  1.99366271e-01,  4.60772783e-01],\n",
      "       [ 8.80310297e-01,  8.30961227e-01,  2.24713117e-01, ...,\n",
      "         7.85416305e-01,  1.34512886e-01, -8.31067562e-04],\n",
      "       [ 1.18649030e+00,  8.52556586e-01,  1.61852300e-01, ...,\n",
      "         8.92464817e-01,  1.32516778e+00,  1.37167543e-01]], dtype=float32), array([[ 0.2656504 ,  0.03985938,  0.49666375, ...,  0.76221347,\n",
      "         0.04952198,  0.10904224],\n",
      "       [ 0.49450773,  0.18944001,  0.9047141 , ...,  0.325219  ,\n",
      "         0.442885  ,  0.6524713 ],\n",
      "       [ 0.98523736,  1.1825215 ,  0.33167237, ...,  1.5337057 ,\n",
      "         0.20997971,  0.11985126],\n",
      "       ...,\n",
      "       [ 0.63599896,  0.45711976, -0.6038837 , ...,  0.26257223,\n",
      "         0.37030512,  0.15171435],\n",
      "       [ 0.27271384,  0.80187595,  0.30888775, ...,  0.37009084,\n",
      "         0.70139563,  0.7088189 ],\n",
      "       [-0.20523405,  0.6226433 ,  0.47348145, ...,  0.4017338 ,\n",
      "         0.5132711 ,  0.29306436]], dtype=float32), array([[ 0.9159825 ,  0.7766446 ,  1.1192895 , ...,  0.98657036,\n",
      "         0.24871966, -0.53410363],\n",
      "       [ 0.46613023,  0.01058573,  0.7891339 , ...,  1.7075758 ,\n",
      "         0.98054636,  0.7219503 ],\n",
      "       [-0.49025097,  0.6912025 ,  0.87049913, ...,  1.4057959 ,\n",
      "         0.04963727,  0.8149986 ],\n",
      "       ...,\n",
      "       [ 0.4821301 ,  0.08418214,  0.6201181 , ...,  0.9897558 ,\n",
      "        -0.13263509,  0.13633844],\n",
      "       [-0.07877782,  0.6893235 , -0.2000831 , ...,  1.1687092 ,\n",
      "         0.26147586, -0.32305616],\n",
      "       [ 0.77742165, -0.45988694,  0.4428525 , ...,  0.73872614,\n",
      "         0.5150318 ,  0.6153033 ]], dtype=float32), array([[ 0.06553142,  1.2070925 ,  0.93026304, ...,  0.7407178 ,\n",
      "         1.026848  ,  0.32357615],\n",
      "       [ 0.27957648, -0.17289087,  1.6269264 , ...,  1.1571128 ,\n",
      "         0.2115764 ,  0.36459947],\n",
      "       [ 0.50924534,  0.6253945 ,  0.84233934, ...,  0.680175  ,\n",
      "         0.9925802 ,  0.17449534],\n",
      "       ...,\n",
      "       [ 0.01501866,  0.68061936,  1.0502387 , ...,  0.60051423,\n",
      "         0.9962103 ,  1.9907666 ],\n",
      "       [ 0.5417564 ,  0.39006963,  1.6796529 , ...,  0.5228308 ,\n",
      "         0.9401187 , -0.34384716],\n",
      "       [ 0.16301385,  0.24166903,  0.7342408 , ...,  0.2356841 ,\n",
      "         2.037404  ,  0.43495587]], dtype=float32), array([[ 1.88231635e+00,  9.01631117e-01, -1.67879462e-03, ...,\n",
      "         2.43094847e-01,  6.71415865e-01,  9.45753336e-01],\n",
      "       [ 1.07060003e+00,  9.18760657e-01,  1.42534590e+00, ...,\n",
      "         1.46375179e+00, -2.21371651e-03,  4.02058572e-01],\n",
      "       [ 4.69053388e-01,  7.38864183e-01,  1.28544152e+00, ...,\n",
      "         7.33530939e-01,  2.63572395e-01,  9.94610190e-01],\n",
      "       ...,\n",
      "       [ 2.69321471e-01,  1.57065809e-01,  7.50420809e-01, ...,\n",
      "         7.45408356e-01, -2.75712609e-01,  1.23031005e-01],\n",
      "       [ 6.40520453e-01,  4.58306551e-01,  7.29480743e-01, ...,\n",
      "         1.22977340e+00,  9.40638185e-02,  6.14119291e-01],\n",
      "       [ 1.07959855e+00,  6.60105050e-01,  1.14987087e+00, ...,\n",
      "         3.96680743e-01,  1.48398352e+00,  1.08285117e+00]], dtype=float32), array([[ 0.19664553,  1.073951  ,  0.7628985 , ...,  0.76587075,\n",
      "        -0.8556911 ,  1.1804138 ],\n",
      "       [-0.10266128,  0.46514744, -0.15448678, ...,  0.81350857,\n",
      "        -0.07949132,  0.28919303],\n",
      "       [ 1.3953837 ,  0.8912343 ,  0.32068515, ..., -0.7003343 ,\n",
      "         0.5123799 , -0.11366173],\n",
      "       ...,\n",
      "       [ 1.2674168 ,  1.07145   ,  0.2274465 , ..., -0.4876887 ,\n",
      "         0.82680714,  0.7765596 ],\n",
      "       [ 0.71361756,  0.75733316,  0.6834251 , ..., -0.15601861,\n",
      "         0.4400356 ,  0.5307832 ],\n",
      "       [ 0.15241621,  1.2288433 ,  0.7515081 , ...,  1.1388491 ,\n",
      "         0.49831563,  0.17870477]], dtype=float32), array([[ 0.9091419 ,  0.60913044,  0.40313458, ...,  0.45367545,\n",
      "        -0.2389032 , -0.0830102 ],\n",
      "       [-0.10917316,  0.48633823,  0.77687854, ...,  1.1382478 ,\n",
      "         0.37133905,  0.24918602],\n",
      "       [ 0.04919539,  0.6231602 ,  0.43923828, ...,  1.0501679 ,\n",
      "        -0.40914887,  0.43036175],\n",
      "       ...,\n",
      "       [ 0.2912582 ,  0.8890681 , -0.251137  , ...,  1.065407  ,\n",
      "         0.03439616,  0.02864301],\n",
      "       [ 0.6485465 ,  0.70536894,  0.05507892, ..., -0.35969213,\n",
      "        -0.15445827, -0.31945318],\n",
      "       [ 1.6678813 ,  0.4686559 ,  0.41021797, ...,  0.76981145,\n",
      "        -0.144167  , -0.6498399 ]], dtype=float32), array([[ 0.8757772 , -0.3530499 , -0.2819142 , ...,  0.1629611 ,\n",
      "         0.07270576,  0.82709295],\n",
      "       [ 0.33648214,  0.8610584 , -0.0121671 , ...,  0.46521908,\n",
      "        -0.23721552,  1.3660858 ],\n",
      "       [ 0.28097653,  0.5216157 ,  0.6262613 , ...,  1.1715033 ,\n",
      "         0.1745463 ,  0.08948433],\n",
      "       ...,\n",
      "       [ 0.00762601,  0.11864468,  0.5709046 , ...,  0.439319  ,\n",
      "        -0.13910086,  0.45181093],\n",
      "       [ 0.50000435,  0.4243588 , -0.31624636, ...,  0.35007095,\n",
      "         0.09184185,  0.30834755],\n",
      "       [ 0.2289455 ,  0.2107122 ,  1.188034  , ...,  0.24876106,\n",
      "         0.4872275 ,  1.3327559 ]], dtype=float32), array([[ 1.0608865 ,  1.0393958 , -0.02951479, ..., -0.01235577,\n",
      "         0.3288656 , -0.65250397],\n",
      "       [ 0.7671759 ,  0.38650203,  0.9714292 , ...,  0.63559943,\n",
      "         0.475766  ,  0.863814  ],\n",
      "       [ 0.8121526 ,  0.8324342 , -0.35808885, ...,  0.5442382 ,\n",
      "         1.0640028 , -0.02371505],\n",
      "       ...,\n",
      "       [ 0.5212054 ,  1.4278101 ,  0.6705886 , ..., -0.16795057,\n",
      "         0.10148036, -0.3812592 ],\n",
      "       [ 1.211651  ,  0.74370384,  0.07698452, ...,  0.63524795,\n",
      "         0.25327986, -0.20711106],\n",
      "       [ 1.2645924 ,  0.36737198, -0.49658322, ...,  0.353544  ,\n",
      "         0.93283737,  0.6793889 ]], dtype=float32), array([[ 0.70936453,  0.31629747,  0.8638879 , ...,  0.6434822 ,\n",
      "         2.3520532 ,  1.4264021 ],\n",
      "       [ 0.39001375, -0.4224785 ,  0.64441   , ...,  0.6511489 ,\n",
      "         0.71506727,  1.0541142 ],\n",
      "       [ 0.7674114 ,  0.8706695 ,  0.30316857, ...,  0.9983498 ,\n",
      "         0.12469396,  0.49109155],\n",
      "       ...,\n",
      "       [ 0.3110662 ,  0.54688436, -0.63514435, ...,  0.9892826 ,\n",
      "         1.020447  ,  0.6438539 ],\n",
      "       [ 0.7949936 ,  0.34780282,  0.55447626, ...,  1.0364625 ,\n",
      "         0.67137575,  1.0371037 ],\n",
      "       [ 0.0751802 ,  0.394677  ,  0.7617274 , ...,  1.3913114 ,\n",
      "         1.7954813 ,  0.8394803 ]], dtype=float32), array([[ 5.2456604e-04,  1.8591423e-01,  3.1520042e-01, ...,\n",
      "         1.1552722e+00,  6.0111129e-01,  3.8455296e-01],\n",
      "       [ 4.8188409e-01,  2.6246926e-01,  1.6066967e+00, ...,\n",
      "         4.5062220e-01,  5.9570825e-01, -2.6039380e-01],\n",
      "       [ 3.6759794e-01,  1.0265998e+00,  1.2446952e+00, ...,\n",
      "         1.9389619e-01,  9.2358994e-01, -8.6663127e-02],\n",
      "       ...,\n",
      "       [-3.0298305e-01,  4.7003740e-01,  6.0097587e-01, ...,\n",
      "         9.8331499e-01,  5.5224544e-01,  2.5036389e-01],\n",
      "       [ 7.6791221e-01,  2.4694958e-01,  8.8566148e-01, ...,\n",
      "         1.1481519e+00, -4.8997012e-01,  8.7726992e-01],\n",
      "       [ 5.4959342e-02, -9.1407984e-02,  9.8383456e-02, ...,\n",
      "         2.8254673e-02, -7.8274906e-03, -6.5762997e-02]], dtype=float32), array([[ 0.74915427,  0.524476  , -0.01543014, ..., -0.12087572,\n",
      "        -0.03685743,  1.201922  ],\n",
      "       [ 0.840726  ,  0.10391012,  1.7559072 , ..., -0.45101857,\n",
      "         0.18276224, -0.10189179],\n",
      "       [ 0.1766693 , -0.313835  ,  0.7467894 , ...,  0.33209535,\n",
      "         0.7279613 ,  0.61750555],\n",
      "       ...,\n",
      "       [ 1.3675561 ,  1.0416281 ,  0.6443245 , ..., -0.24034311,\n",
      "         0.70713925,  0.06971347],\n",
      "       [ 0.80458033,  0.65741163,  1.3711224 , ..., -0.04616781,\n",
      "         0.18687539,  0.37193412],\n",
      "       [ 0.23317206,  0.9656742 ,  1.1296206 , ...,  0.5018769 ,\n",
      "         0.05571717,  0.25216877]], dtype=float32), array([[ 7.1202499e-01, -1.1618069e-01,  2.5951922e-02, ...,\n",
      "         9.5894063e-01,  9.7653019e-01,  6.3253891e-01],\n",
      "       [ 5.5899388e-01,  6.8125075e-01, -4.9583051e-01, ...,\n",
      "         1.4374995e-01,  9.9802601e-01,  9.4377190e-01],\n",
      "       [ 7.2675928e-02,  9.5143604e-01,  8.1956983e-02, ...,\n",
      "         7.8545742e-02,  6.8298668e-01,  6.1880296e-01],\n",
      "       ...,\n",
      "       [ 7.2818786e-01,  7.3056889e-01, -1.9442838e-01, ...,\n",
      "         1.2820212e+00,  6.1098248e-01,  1.2197268e+00],\n",
      "       [ 3.9760321e-01, -4.3996000e-01,  9.6111685e-02, ...,\n",
      "         9.3735451e-01,  1.4124081e+00,  4.6691096e-01],\n",
      "       [-2.7914345e-04,  7.1550834e-01, -3.0681080e-01, ...,\n",
      "         1.1796575e+00,  1.9004121e+00,  6.6430116e-01]], dtype=float32), array([[ 1.21588903e-02, -2.80350447e-04, -1.92068607e-01, ...,\n",
      "         2.48164997e-01,  4.58301216e-01,  2.00763047e-01],\n",
      "       [ 3.63689005e-01, -6.51841909e-02,  1.49465466e+00, ...,\n",
      "         3.84595960e-01,  4.14278269e-01,  8.22520971e-01],\n",
      "       [-4.26263273e-01,  5.06395519e-01,  6.63062155e-01, ...,\n",
      "        -2.82451451e-01,  7.34996378e-01,  8.49595368e-01],\n",
      "       ...,\n",
      "       [ 6.80751562e-01, -1.59813106e-01,  6.62022471e-01, ...,\n",
      "         6.87040091e-01, -8.10322046e-01,  2.63835013e-01],\n",
      "       [-5.79903662e-01, -1.22447938e-01,  4.51915354e-01, ...,\n",
      "         6.22007906e-01,  1.45439878e-02,  3.88790727e-01],\n",
      "       [ 1.16821922e-01,  2.70576477e-02,  6.20826483e-02, ...,\n",
      "         1.22360215e-01,  1.45976806e+00,  7.65426755e-01]], dtype=float32), array([[-0.32951498, -0.2982934 ,  0.28737056, ...,  0.3904197 ,\n",
      "         0.61866903,  0.12915431],\n",
      "       [ 0.4682093 , -0.00310999,  0.2364591 , ...,  0.9115121 ,\n",
      "         1.5311598 ,  0.51831675],\n",
      "       [ 0.7818403 ,  0.62549525, -0.43688428, ...,  0.9281454 ,\n",
      "         0.6472497 ,  0.74044263],\n",
      "       ...,\n",
      "       [ 0.2999862 ,  0.9282025 ,  0.6899698 , ...,  0.4499076 ,\n",
      "        -0.48262873,  0.3284471 ],\n",
      "       [ 0.5965963 ,  0.27709532,  1.605826  , ...,  0.6645335 ,\n",
      "         1.3401186 , -0.04582179],\n",
      "       [ 0.17161268,  0.42826426,  0.00215873, ...,  0.7895192 ,\n",
      "         0.09364484,  0.8001304 ]], dtype=float32), array([[ 1.4198953 ,  1.3379459 ,  0.473904  , ...,  1.3880006 ,\n",
      "         0.82241714, -0.14051042],\n",
      "       [ 0.9242159 ,  0.7001496 , -0.2595848 , ..., -0.04231233,\n",
      "         1.0169483 ,  1.2448071 ],\n",
      "       [ 1.0702767 ,  0.52281165,  0.36532903, ...,  0.6542795 ,\n",
      "         0.42504248,  1.18962   ],\n",
      "       ...,\n",
      "       [ 1.2181067 ,  0.4565098 ,  1.1312336 , ...,  1.0508496 ,\n",
      "         0.4819498 , -0.20233592],\n",
      "       [ 1.2980996 ,  0.9504949 ,  1.1280361 , ...,  1.0972074 ,\n",
      "         0.3740687 ,  0.10342416],\n",
      "       [ 0.9576514 ,  1.1700323 ,  0.7915772 , ...,  0.5181344 ,\n",
      "         0.7433711 ,  0.85460615]], dtype=float32), array([[ 0.55380756,  0.44574305, -0.4430308 , ...,  1.3343383 ,\n",
      "         0.51814896,  0.5623185 ],\n",
      "       [ 0.8524816 ,  0.2188896 ,  1.6909863 , ...,  1.2719004 ,\n",
      "         1.3781914 ,  0.9590878 ],\n",
      "       [ 0.91245914,  0.67812854, -0.04342234, ...,  0.8778682 ,\n",
      "         1.6397353 ,  0.8861077 ],\n",
      "       ...,\n",
      "       [ 0.8484003 , -0.32604772,  0.85622275, ...,  0.75364006,\n",
      "         1.0621942 ,  0.9277658 ],\n",
      "       [ 1.2083751 ,  0.05098075,  1.3495712 , ...,  0.29377228,\n",
      "        -0.33748767,  0.5181009 ],\n",
      "       [ 0.36791912,  1.3043001 ,  0.3687182 , ...,  0.6636529 ,\n",
      "         0.86250985,  1.2717505 ]], dtype=float32), array([[ 0.40925962,  0.4331863 ,  0.5386863 , ...,  0.4465007 ,\n",
      "         0.8415117 , -0.22774746],\n",
      "       [ 1.0991822 ,  1.097176  ,  1.0939267 , ...,  1.7574856 ,\n",
      "        -0.00605723,  1.0788486 ],\n",
      "       [ 1.5031694 , -0.4438707 ,  0.3768322 , ...,  0.329411  ,\n",
      "         0.44400296,  0.35331494],\n",
      "       ...,\n",
      "       [ 1.367526  ,  0.43693042,  0.84883237, ...,  0.17836441,\n",
      "         0.64691806, -0.77730364],\n",
      "       [ 0.823511  ,  0.7269952 ,  0.21117383, ..., -0.23591706,\n",
      "         0.07463769,  0.78126967],\n",
      "       [ 0.36382753,  0.95256084,  1.9312243 , ...,  0.22410193,\n",
      "         0.43031874,  0.30393273]], dtype=float32), array([[ 0.29390836,  0.4005119 ,  0.8029823 , ...,  0.3639403 ,\n",
      "         0.07375322, -0.04120696],\n",
      "       [-0.39801005,  0.61363524, -0.5274503 , ...,  1.300001  ,\n",
      "         0.7571728 ,  0.6382731 ],\n",
      "       [ 0.67844003,  1.3335702 ,  0.61888504, ...,  0.4664715 ,\n",
      "         1.1143956 ,  0.15586922],\n",
      "       ...,\n",
      "       [ 0.29040962,  0.09467787,  0.8134293 , ...,  1.0276917 ,\n",
      "        -0.05848148,  0.54332924],\n",
      "       [-0.10790668,  0.10472229,  0.7805414 , ...,  0.5310155 ,\n",
      "        -0.0581111 ,  0.63048244],\n",
      "       [-0.33128932,  0.8486446 ,  1.2396369 , ...,  0.635262  ,\n",
      "         0.13956991,  0.38761306]], dtype=float32), array([[ 1.1082791 ,  1.2339873 ,  0.6554246 , ..., -0.11214027,\n",
      "         0.79383206,  0.14689179],\n",
      "       [ 0.1766225 ,  1.481499  ,  1.0479388 , ..., -0.6083771 ,\n",
      "         0.49046928,  0.484497  ],\n",
      "       [ 0.31512445,  1.0039058 ,  0.63870996, ...,  0.2288246 ,\n",
      "         1.7102435 ,  0.8241249 ],\n",
      "       ...,\n",
      "       [ 0.41286135,  0.68955845,  0.38557205, ...,  0.6778846 ,\n",
      "         0.868273  ,  0.60175127],\n",
      "       [ 0.72867477, -0.02795416,  0.9350679 , ...,  0.77259976,\n",
      "         0.9549209 ,  1.1620519 ],\n",
      "       [ 0.35809407,  0.8843684 , -0.05324569, ...,  0.5668914 ,\n",
      "         0.02008544,  0.6226397 ]], dtype=float32), array([[-0.32467908,  0.6566437 ,  1.0584699 , ...,  0.7804447 ,\n",
      "         1.7505165 , -0.08541405],\n",
      "       [ 0.29393774,  0.54714143,  0.71569014, ..., -0.61417794,\n",
      "         1.675803  ,  1.0676816 ],\n",
      "       [ 0.6403519 ,  0.8963709 ,  1.117283  , ..., -0.18860982,\n",
      "        -0.17623788,  0.77517307],\n",
      "       ...,\n",
      "       [ 0.62349844,  0.6760976 ,  2.0014503 , ..., -0.3033948 ,\n",
      "         0.38063353,  1.3499638 ],\n",
      "       [ 0.5969992 ,  0.2808079 ,  0.9147155 , ..., -0.02529159,\n",
      "         0.3795346 ,  0.13763538],\n",
      "       [-0.03189014,  0.18951973,  1.8856378 , ...,  0.7118889 ,\n",
      "        -0.25099456,  1.2230401 ]], dtype=float32), array([[ 0.58497316,  0.26015827,  0.13780943, ...,  0.8831958 ,\n",
      "         0.36139753,  1.4784547 ],\n",
      "       [ 0.22858125,  0.14579731, -0.26892686, ...,  1.0360192 ,\n",
      "         0.5018587 ,  0.4995721 ],\n",
      "       [ 0.46383667,  0.5903239 , -0.00875339, ...,  0.37083164,\n",
      "         0.28136653,  0.77734286],\n",
      "       ...,\n",
      "       [ 1.026125  ,  0.07313088,  0.38569012, ...,  1.260099  ,\n",
      "         1.3259759 ,  0.26117098],\n",
      "       [ 1.4906434 ,  0.5263692 ,  0.14847755, ...,  1.4124959 ,\n",
      "         1.1324711 ,  1.4099298 ],\n",
      "       [ 1.0670453 , -0.09261385,  0.47689128, ...,  1.091917  ,\n",
      "         1.0410541 ,  1.2744188 ]], dtype=float32), array([[ 0.7550621 ,  0.57618445,  0.44611156, ...,  0.8830849 ,\n",
      "         1.1297294 ,  0.12448522],\n",
      "       [-0.07658936,  0.2914613 ,  1.6140817 , ...,  0.58227944,\n",
      "         0.09246892,  0.8898102 ],\n",
      "       [ 0.29705295,  1.1162633 ,  1.1518656 , ...,  0.5323625 ,\n",
      "        -0.35307354, -0.18859628],\n",
      "       ...,\n",
      "       [ 1.9658333 ,  1.3451526 ,  0.7423036 , ...,  1.4887726 ,\n",
      "         0.6100416 , -0.47067225],\n",
      "       [ 0.9663934 ,  0.61630493,  1.3402781 , ...,  0.7778241 ,\n",
      "         0.58536136,  0.09824499],\n",
      "       [ 1.142183  ,  0.53798187,  0.46245036, ...,  0.7887528 ,\n",
      "         0.27487364, -0.5585319 ]], dtype=float32), array([[ 0.6044212 ,  0.93692887,  1.6116946 , ...,  1.0967777 ,\n",
      "         0.70594037,  0.09568803],\n",
      "       [ 0.8678371 , -0.27876866,  0.38459122, ...,  0.7826072 ,\n",
      "        -0.19435713,  0.1195621 ],\n",
      "       [ 1.2679843 ,  0.6432533 ,  0.02540576, ...,  0.9578607 ,\n",
      "         0.46036226, -0.6405479 ],\n",
      "       ...,\n",
      "       [ 0.44007075, -0.23050272,  0.99793965, ...,  1.3309295 ,\n",
      "         0.28646666, -0.07043779],\n",
      "       [ 0.55325115,  0.28015536,  0.8435302 , ...,  1.5595855 ,\n",
      "         0.05202324,  0.3459798 ],\n",
      "       [ 1.1028098 ,  0.00285479,  0.3332545 , ...,  1.188482  ,\n",
      "         0.07421397, -0.02340068]], dtype=float32), array([[ 0.03572309,  0.4055004 ,  1.1223623 , ...,  1.2439209 ,\n",
      "         1.4005983 , -0.01801178],\n",
      "       [ 0.33850786,  0.42348927,  0.17679146, ..., -0.05181345,\n",
      "         0.6224043 ,  0.8139938 ],\n",
      "       [-0.22184858,  0.7290126 ,  0.84172374, ...,  0.55379045,\n",
      "         0.46108085,  0.9850278 ],\n",
      "       ...,\n",
      "       [ 0.17133205,  1.4221286 , -0.11912607, ...,  0.46662146,\n",
      "         0.5058717 ,  0.88759995],\n",
      "       [ 0.42729688,  0.40299064,  0.91668105, ...,  1.1254051 ,\n",
      "         1.5206172 ,  0.72196627],\n",
      "       [ 0.5318605 ,  0.30905268, -0.1862529 , ...,  0.78002393,\n",
      "         1.4320632 ,  0.57860196]], dtype=float32), array([[ 0.94144773,  1.3030794 , -0.25575498, ..., -0.23290998,\n",
      "         0.8876735 ,  0.12801296],\n",
      "       [ 1.4969959 ,  1.2722483 , -0.26227596, ...,  0.49140158,\n",
      "         0.7837118 ,  0.1293911 ],\n",
      "       [ 0.94357973,  1.4813068 ,  0.7906885 , ...,  1.0569685 ,\n",
      "         0.01576751,  0.40797272],\n",
      "       ...,\n",
      "       [ 1.1081333 ,  0.6635317 ,  0.06723294, ...,  0.60977185,\n",
      "         0.53856826,  0.61236787],\n",
      "       [ 0.55621827,  0.7476722 ,  0.08177641, ...,  0.72098875,\n",
      "         0.86003244,  1.4910221 ],\n",
      "       [ 0.78041244,  1.0958422 ,  0.34955984, ..., -0.14046246,\n",
      "         0.14287755,  1.1323168 ]], dtype=float32), array([[ 0.13790438,  0.50413644,  1.0923604 , ...,  0.49954435,\n",
      "         1.0037476 ,  0.30929282],\n",
      "       [ 0.5685837 ,  1.0668129 , -0.2851656 , ..., -0.05942962,\n",
      "         0.7556985 ,  0.8571936 ],\n",
      "       [-0.24570718,  1.0053401 ,  0.7583244 , ...,  0.11242777,\n",
      "         0.7269232 ,  1.1174484 ],\n",
      "       ...,\n",
      "       [ 0.12090883,  0.54338574, -0.22447324, ...,  0.23498979,\n",
      "         0.8268408 ,  0.6343944 ],\n",
      "       [ 0.38628745,  0.07798091,  0.5445909 , ...,  0.6667279 ,\n",
      "         0.64818233,  1.1526903 ],\n",
      "       [ 0.37392095, -0.00922439,  0.45463753, ...,  0.40767655,\n",
      "         0.4262179 ,  0.42157146]], dtype=float32), array([[ 0.7230762 ,  0.17681238,  0.3381226 , ...,  0.40235776,\n",
      "         0.30727524,  0.9763659 ],\n",
      "       [ 0.87413496,  0.7671644 ,  1.0241406 , ...,  0.90911543,\n",
      "         1.0090334 ,  1.5976315 ],\n",
      "       [ 0.3693797 ,  0.7456969 ,  1.2150166 , ...,  1.182712  ,\n",
      "         0.5866605 ,  0.9060149 ],\n",
      "       ...,\n",
      "       [ 0.82182807,  1.0041412 ,  0.5180375 , ...,  0.28443158,\n",
      "         1.442291  ,  0.20188242],\n",
      "       [-0.09825888,  0.33635038, -0.19735833, ...,  0.3656069 ,\n",
      "         0.6533171 ,  1.0395488 ],\n",
      "       [ 0.8226089 ,  0.07360041,  1.1982787 , ...,  0.09755325,\n",
      "        -0.02478993,  1.1126027 ]], dtype=float32), array([[ 0.70516217,  1.1872363 ,  1.1171522 , ...,  0.9160938 ,\n",
      "        -0.01158786,  0.18250726],\n",
      "       [ 1.1280138 ,  1.3088619 ,  0.34521618, ...,  0.8755968 ,\n",
      "        -0.23332176,  0.04912856],\n",
      "       [ 1.5235958 ,  1.2684245 ,  0.6376164 , ...,  1.2575365 ,\n",
      "         0.30437776,  0.46546385],\n",
      "       ...,\n",
      "       [ 0.6824825 ,  0.35842437,  1.7911028 , ...,  1.055062  ,\n",
      "         0.09503046,  0.5448792 ],\n",
      "       [ 0.7640269 ,  0.5395143 ,  0.6811155 , ...,  1.0552373 ,\n",
      "         0.82698643,  0.92970437],\n",
      "       [ 0.929849  ,  0.67026466,  0.75759226, ...,  0.81540465,\n",
      "         1.163876  ,  0.85278505]], dtype=float32), array([[ 0.86133873,  0.5009156 , -0.28824154, ...,  0.9592607 ,\n",
      "         0.59787685, -0.6353682 ],\n",
      "       [ 0.6837584 ,  1.0774088 , -0.10719424, ...,  1.5669342 ,\n",
      "         1.7633317 ,  0.06967446],\n",
      "       [ 0.6266085 ,  0.02503949,  0.5782118 , ...,  1.1648077 ,\n",
      "         0.5708068 ,  0.35462523],\n",
      "       ...,\n",
      "       [ 1.0858791 ,  1.1883359 , -0.4723201 , ...,  1.0691468 ,\n",
      "         0.57706225, -0.1520876 ],\n",
      "       [ 1.3884382 ,  0.8544522 , -0.8220065 , ...,  0.67534584,\n",
      "         1.0616686 , -0.24457735],\n",
      "       [ 0.81769204,  0.09162456, -0.23841134, ...,  1.5015959 ,\n",
      "         0.27274954, -0.11059305]], dtype=float32), array([[ 1.1232058 ,  1.1132656 ,  0.36654127, ..., -0.54728395,\n",
      "         0.34579763, -0.5440132 ],\n",
      "       [-0.17604455,  0.87952447,  1.6635773 , ...,  0.01197843,\n",
      "        -0.03763436,  0.1933947 ],\n",
      "       [-0.01886613,  0.40412337, -0.23072779, ..., -0.09385444,\n",
      "         0.6424154 , -0.4982618 ],\n",
      "       ...,\n",
      "       [-0.3382786 ,  0.8425772 , -0.74929786, ...,  0.9526488 ,\n",
      "         0.84733176, -1.0169683 ],\n",
      "       [ 0.33261657,  0.6013427 ,  0.42315748, ..., -0.31185755,\n",
      "        -0.12181547,  0.1406644 ],\n",
      "       [ 0.41575968,  0.05496827,  0.31775308, ...,  0.27819887,\n",
      "         0.15182476,  0.39178503]], dtype=float32), array([[ 0.54466707,  0.26863182,  1.1873595 , ...,  0.85040593,\n",
      "         0.66587317,  0.04572171],\n",
      "       [-0.25387824,  0.19536537,  0.21185398, ...,  1.7826166 ,\n",
      "         0.36336663,  0.5428594 ],\n",
      "       [ 0.6475896 ,  0.0771001 ,  0.6756982 , ...,  1.8701426 ,\n",
      "         1.1674842 ,  0.3527478 ],\n",
      "       ...,\n",
      "       [ 0.49150902,  0.17511457,  1.3469368 , ...,  0.6075071 ,\n",
      "         0.64098   ,  0.59419787],\n",
      "       [ 0.32971933,  0.84060663,  0.9544908 , ...,  0.84929246,\n",
      "         1.0787617 , -0.6413588 ],\n",
      "       [ 0.759497  ,  0.03643501,  0.9994776 , ...,  1.4272466 ,\n",
      "         1.4165136 ,  0.06668809]], dtype=float32), array([[ 9.1568959e-01,  5.0917041e-01,  2.5189877e-02, ...,\n",
      "         6.8081731e-01,  1.3171402e+00,  1.1221356e+00],\n",
      "       [-3.3946410e-01,  2.5621396e-01,  9.8706836e-01, ...,\n",
      "        -1.6731627e-01,  7.1375310e-01,  7.2853953e-02],\n",
      "       [ 5.0337458e-01,  2.5422519e-01,  3.2630962e-01, ...,\n",
      "         3.3063850e-01,  1.3927379e-01,  5.0761408e-01],\n",
      "       ...,\n",
      "       [-4.0561706e-04, -2.4348617e-02,  3.2919890e-01, ...,\n",
      "         5.3787100e-01,  1.7850281e+00,  6.3301611e-01],\n",
      "       [ 4.3057689e-01,  6.4894664e-01,  1.2762603e+00, ...,\n",
      "         1.2563323e+00,  6.9851959e-01,  1.5857658e+00],\n",
      "       [-2.6082674e-02,  6.6049397e-01,  1.6283202e-01, ...,\n",
      "         1.5293697e-01,  3.8548014e-01,  5.6276822e-01]], dtype=float32), array([[ 0.5886288 ,  0.9245682 ,  0.913857  , ...,  0.41260174,\n",
      "         0.9081297 ,  1.0187862 ],\n",
      "       [ 0.8800826 ,  0.97189724,  1.1177536 , ...,  0.84439737,\n",
      "         0.0656746 ,  1.5238358 ],\n",
      "       [ 0.24082309,  0.51982015,  0.7756136 , ...,  2.040105  ,\n",
      "         1.4527073 ,  1.5326895 ],\n",
      "       ...,\n",
      "       [ 1.060554  ,  0.35310245, -0.09001827, ...,  1.5947589 ,\n",
      "         0.6717604 ,  0.9021821 ],\n",
      "       [ 0.33774796,  0.22737116,  1.372826  , ...,  1.0859113 ,\n",
      "         1.1100266 , -0.20367539],\n",
      "       [-0.00339369,  0.6096663 ,  0.6303717 , ...,  1.2094159 ,\n",
      "         0.40333676,  0.45905536]], dtype=float32), array([[ 0.2879708 ,  0.49164647,  0.90328324, ...,  1.2870557 ,\n",
      "         0.93625   ,  0.46858284],\n",
      "       [ 0.39482465,  1.1122752 ,  0.8729383 , ...,  0.6861882 ,\n",
      "         0.6393283 ,  0.30250522],\n",
      "       [-0.51247215,  0.2740968 ,  0.70155275, ...,  0.27319098,\n",
      "         0.16997689,  0.4671228 ],\n",
      "       ...,\n",
      "       [ 0.68545437,  0.20888484,  1.4577669 , ...,  0.77592075,\n",
      "         0.36867684,  0.68849003],\n",
      "       [ 1.1316211 ,  0.39001685,  0.23781225, ...,  1.461971  ,\n",
      "         1.9657799 ,  0.99646914],\n",
      "       [ 0.30523124,  0.17862195,  0.85460603, ...,  0.55484736,\n",
      "         0.5846921 , -0.5763277 ]], dtype=float32), array([[ 0.8409997 ,  1.3691362 ,  1.0813754 , ...,  0.6468005 ,\n",
      "         1.1779037 ,  0.33401066],\n",
      "       [ 1.1114635 ,  0.35147047, -0.51580065, ...,  0.08962566,\n",
      "        -0.04041207,  0.61488426],\n",
      "       [ 0.71337813,  1.0125158 ,  0.19102114, ...,  0.66931176,\n",
      "         1.115738  ,  0.4571942 ],\n",
      "       ...,\n",
      "       [ 0.28582102,  0.6026936 ,  0.1714136 , ..., -0.18588836,\n",
      "         0.6476612 ,  0.36931494],\n",
      "       [ 1.9720422 ,  0.8596215 ,  0.4308041 , ..., -0.09289744,\n",
      "         0.95457506,  1.4216084 ],\n",
      "       [ 0.7331674 ,  0.09373939, -0.21217176, ...,  0.28229466,\n",
      "         0.0932534 ,  1.4808513 ]], dtype=float32), array([[ 0.9001136 ,  0.64189243,  0.74591786, ...,  0.08621791,\n",
      "         0.3118944 ,  0.17995018],\n",
      "       [ 1.1202589 ,  0.5830476 ,  1.1066456 , ...,  0.4516357 ,\n",
      "        -0.03015737,  0.4585765 ],\n",
      "       [ 0.33705497,  0.58400065,  0.6508012 , ...,  0.36683744,\n",
      "         0.736578  ,  1.082379  ],\n",
      "       ...,\n",
      "       [ 0.81596065,  0.5453119 ,  0.9664357 , ...,  0.00518245,\n",
      "         1.3502927 ,  0.67685604],\n",
      "       [ 1.5279455 ,  0.54954445,  1.062902  , ...,  0.7399496 ,\n",
      "         1.0772007 ,  0.4953677 ],\n",
      "       [ 1.0841964 ,  0.79216576,  0.06693068, ...,  0.48999947,\n",
      "         0.6021713 ,  0.94270784]], dtype=float32), array([[ 0.3426953 , -0.05040306,  0.52908045, ...,  0.79567665,\n",
      "        -0.23075533,  0.41226113],\n",
      "       [ 0.8881236 ,  0.32730848,  0.62572694, ...,  0.551491  ,\n",
      "         0.378624  , -0.33452174],\n",
      "       [ 0.05764882,  0.2904553 ,  0.81175077, ...,  0.52511287,\n",
      "        -0.27224135, -0.2721149 ],\n",
      "       ...,\n",
      "       [ 1.1219591 , -0.16450557,  0.881387  , ...,  0.9102901 ,\n",
      "         0.10892248,  0.64958113],\n",
      "       [ 0.7318155 ,  0.38497087,  0.8265233 , ...,  0.55503595,\n",
      "         0.67947996,  0.58978367],\n",
      "       [ 0.3834215 ,  0.6964159 ,  0.48604077, ...,  0.00911912,\n",
      "        -0.2666237 ,  0.693702  ]], dtype=float32), array([[ 1.0750393 ,  1.4328456 ,  0.6768098 , ...,  0.20972735,\n",
      "         0.9346858 ,  0.315313  ],\n",
      "       [ 0.6283385 ,  1.3570385 , -0.5213318 , ..., -0.49501887,\n",
      "         0.642576  ,  0.31074503],\n",
      "       [ 1.3643653 ,  0.77330106,  0.24933341, ...,  0.54734135,\n",
      "         0.95969474,  0.15832685],\n",
      "       ...,\n",
      "       [ 1.1313049 ,  0.42918342,  0.7841397 , ...,  0.04675983,\n",
      "         0.90031177,  0.6179756 ],\n",
      "       [ 1.1432592 ,  0.34124884,  0.3304373 , ...,  0.9616345 ,\n",
      "         0.37881613,  1.0063673 ],\n",
      "       [ 1.0449462 ,  0.91475046,  0.6743775 , ...,  0.7695502 ,\n",
      "         0.56867486,  0.08106419]], dtype=float32), array([[ 0.9282058 ,  1.7151744 ,  0.82467055, ...,  1.1264127 ,\n",
      "         0.5313375 , -0.26891103],\n",
      "       [ 1.2052679 ,  0.94309366,  0.79126906, ...,  0.75122035,\n",
      "         0.25064987,  0.25695038],\n",
      "       [ 0.7238692 ,  1.2278533 ,  0.8860961 , ...,  0.51991713,\n",
      "         0.23333937, -0.07293361],\n",
      "       ...,\n",
      "       [ 0.9192753 ,  0.5023349 ,  0.44929916, ...,  0.87410426,\n",
      "         0.49583748, -0.51037765],\n",
      "       [ 0.69907063, -0.09290689,  1.0811427 , ...,  1.0260086 ,\n",
      "         0.07107872,  0.10529679],\n",
      "       [ 0.92914075,  0.88856643,  0.14474645, ...,  1.1086857 ,\n",
      "         0.5457104 ,  0.12285066]], dtype=float32), array([[ 0.41783968,  0.5809418 ,  0.59960455, ...,  0.76908237,\n",
      "         0.89251125,  0.18574882],\n",
      "       [ 0.6136614 ,  0.7781049 ,  1.0373309 , ...,  0.23423398,\n",
      "         0.72225165, -0.0942218 ],\n",
      "       [ 0.21008946,  0.11898047,  0.6969599 , ...,  0.2211254 ,\n",
      "         0.28610694,  1.0532633 ],\n",
      "       ...,\n",
      "       [ 1.0884993 ,  0.8676474 ,  0.26812145, ...,  0.8400847 ,\n",
      "         0.63668585,  0.6450256 ],\n",
      "       [ 0.6871612 ,  0.08776289,  0.49390298, ...,  0.07515593,\n",
      "        -0.08459845,  0.28198314],\n",
      "       [ 0.39169356,  0.57539934,  0.18263224, ...,  0.04615471,\n",
      "         0.06929201,  0.15863693]], dtype=float32), array([[ 0.68972194, -0.22388443,  1.7302382 , ...,  1.1247157 ,\n",
      "         0.9030485 ,  1.3066219 ],\n",
      "       [ 0.52492434,  0.76551044,  1.49      , ..., -0.19256762,\n",
      "         1.0137818 ,  0.454524  ],\n",
      "       [ 0.9897048 ,  0.6918098 ,  0.87011147, ...,  0.26702806,\n",
      "         0.40218833,  0.83601123],\n",
      "       ...,\n",
      "       [ 0.26512045, -0.03415066,  0.8587725 , ..., -0.00646254,\n",
      "         0.41982457,  1.4377738 ],\n",
      "       [ 0.59953254,  0.8343488 ,  1.1284448 , ...,  0.2153947 ,\n",
      "         0.40820196,  0.8135679 ],\n",
      "       [-0.1422947 ,  0.4957065 ,  0.83942115, ...,  0.79060256,\n",
      "         0.18512206,  0.6340484 ]], dtype=float32), array([[ 0.4043136 , -0.35527524,  0.02211547, ...,  0.22371387,\n",
      "         0.24310042, -0.18772116],\n",
      "       [ 0.40874562,  1.0267357 ,  0.15919718, ...,  0.9196727 ,\n",
      "         1.0047802 ,  0.7393981 ],\n",
      "       [ 0.34524986,  0.3138886 ,  0.2386035 , ...,  0.559782  ,\n",
      "        -0.14351967,  1.2118917 ],\n",
      "       ...,\n",
      "       [ 0.3444198 ,  0.5621245 , -0.22133428, ...,  0.17936236,\n",
      "         0.96203864,  0.43721512],\n",
      "       [ 0.30364364,  0.48355404,  0.22993118, ...,  0.6280957 ,\n",
      "         0.4837844 ,  0.67389   ],\n",
      "       [ 0.8629811 ,  0.36018378,  0.36538818, ...,  1.4621938 ,\n",
      "         0.2963153 ,  0.34009778]], dtype=float32), array([[-0.10107604, -0.33632234, -0.2241003 , ...,  0.61735713,\n",
      "        -0.15599874, -0.01314121],\n",
      "       [-0.6183832 ,  0.45397907,  0.7038572 , ...,  1.460377  ,\n",
      "         0.27542695,  0.89261955],\n",
      "       [ 0.58697295,  0.49496725,  0.62586296, ...,  0.3434705 ,\n",
      "         0.03331622,  0.39515156],\n",
      "       ...,\n",
      "       [ 1.2325261 ,  0.5879129 ,  0.32444033, ...,  0.43785706,\n",
      "         0.3493544 ,  0.1842456 ],\n",
      "       [-0.21926993, -0.38044134,  0.31802413, ...,  0.4617934 ,\n",
      "         1.9036742 ,  0.3068294 ],\n",
      "       [-0.01507442, -0.8445562 ,  0.31200305, ...,  0.44860548,\n",
      "         0.38214964,  0.89094484]], dtype=float32), array([[ 6.5357059e-01,  2.4584267e-01,  2.7459919e-02, ...,\n",
      "         1.1596307e+00,  1.2021961e+00,  7.1224314e-01],\n",
      "       [ 2.6046690e-01,  3.3304024e-01,  2.5075892e-01, ...,\n",
      "         7.7737492e-01,  5.5396855e-01,  2.7901930e-01],\n",
      "       [ 5.9117043e-01, -5.1926303e-01,  1.6972383e+00, ...,\n",
      "         6.0564089e-01, -7.5474530e-01,  1.3308628e+00],\n",
      "       ...,\n",
      "       [ 1.8396451e-01,  5.4564452e-01, -6.1807036e-04, ...,\n",
      "         7.3847532e-01,  4.6944630e-01,  2.3366685e+00],\n",
      "       [-1.7115572e-01,  4.7226542e-01,  5.8706570e-01, ...,\n",
      "         3.7531412e-01,  1.1296302e-02,  1.2135129e+00],\n",
      "       [ 1.1472405e-01,  7.2263968e-01,  2.7925232e-01, ...,\n",
      "         5.6651068e-01,  9.1950810e-01,  3.0505025e-01]], dtype=float32), array([[-0.28752095,  0.43445328, -0.3583171 , ...,  0.47592837,\n",
      "         1.078481  ,  0.34113377],\n",
      "       [ 0.62924856,  0.05177411,  0.49420238, ...,  1.1741889 ,\n",
      "         1.8804069 ,  0.8865139 ],\n",
      "       [ 0.23405048,  0.58055437,  0.88643855, ...,  0.09153385,\n",
      "         0.66588324,  0.6839005 ],\n",
      "       ...,\n",
      "       [ 0.78214145, -0.14503834,  0.55548143, ...,  0.5975537 ,\n",
      "        -0.29621175,  0.73716927],\n",
      "       [ 0.39794117, -0.10454828, -0.09438339, ...,  0.20017931,\n",
      "         1.2401723 ,  0.2030242 ],\n",
      "       [-0.9242395 ,  0.28556058,  0.07131198, ...,  0.18905921,\n",
      "         1.1808959 ,  0.56521684]], dtype=float32), array([[ 0.6074678 ,  0.338739  ,  1.1706455 , ...,  1.3328501 ,\n",
      "         0.31619883,  0.4857214 ],\n",
      "       [-0.6681142 ,  1.0879214 ,  1.250674  , ...,  0.3473326 ,\n",
      "         0.0422613 ,  0.14407547],\n",
      "       [ 1.1904173 ,  0.33972958,  1.2101688 , ...,  0.68972045,\n",
      "         1.3469037 ,  0.3319115 ],\n",
      "       ...,\n",
      "       [ 0.6710021 ,  0.18688594,  0.6810912 , ...,  0.5249443 ,\n",
      "        -0.12565401,  0.13461816],\n",
      "       [-0.5478425 ,  0.74386716,  1.1109531 , ...,  0.17407386,\n",
      "         1.0588603 ,  0.651967  ],\n",
      "       [ 0.31016508, -0.43589237,  0.82205075, ...,  0.8388068 ,\n",
      "         1.4011886 ,  0.02090633]], dtype=float32), array([[ 1.2610645 ,  0.74971515,  0.6666405 , ...,  0.75003123,\n",
      "        -0.24605773,  0.05381972],\n",
      "       [ 0.22808024,  0.6973001 ,  0.6960125 , ...,  0.18074161,\n",
      "         0.31579039, -0.4384542 ],\n",
      "       [ 0.69376504,  0.6554121 ,  0.699878  , ...,  1.4475197 ,\n",
      "         0.68259525,  0.5993086 ],\n",
      "       ...,\n",
      "       [ 0.9902015 ,  0.70180035,  0.8720309 , ...,  0.81463087,\n",
      "         0.5320154 ,  0.37585676],\n",
      "       [ 0.8937774 ,  1.2439016 , -0.07098301, ...,  0.5821854 ,\n",
      "        -0.12263727,  0.30793422],\n",
      "       [-0.20183223,  1.1920571 ,  0.2735452 , ...,  0.32600927,\n",
      "         0.5195494 ,  0.6722637 ]], dtype=float32), array([[ 0.83466804,  1.0724893 ,  0.151144  , ...,  1.3633345 ,\n",
      "         1.7169858 ,  0.74521124],\n",
      "       [ 0.5697299 ,  1.1266873 ,  0.05769995, ...,  1.2296548 ,\n",
      "         1.245208  ,  0.91318214],\n",
      "       [ 1.069691  ,  0.89852774,  0.61678755, ...,  0.04671265,\n",
      "         1.2951515 ,  0.93939245],\n",
      "       ...,\n",
      "       [ 0.7599931 ,  0.6763124 ,  0.34158736, ...,  0.6858784 ,\n",
      "         1.1039913 ,  0.9968126 ],\n",
      "       [ 1.608794  ,  0.47550863,  0.13713497, ...,  0.59308517,\n",
      "        -0.01737335,  0.38164923],\n",
      "       [ 0.63731647, -0.10342878, -0.30693874, ...,  0.95874834,\n",
      "         1.0424812 ,  0.29470587]], dtype=float32), array([[-0.08354234, -0.3236275 ,  0.21900249, ...,  0.9847411 ,\n",
      "         0.88762856,  0.59289855],\n",
      "       [ 0.19747776,  0.11440626, -0.01543906, ...,  1.0892663 ,\n",
      "         0.22059475,  0.65853006],\n",
      "       [ 0.1148491 ,  0.00749141,  0.51926005, ...,  0.22490712,\n",
      "         0.6176762 ,  0.69006485],\n",
      "       ...,\n",
      "       [ 0.2558112 ,  0.00182968, -0.07025921, ...,  1.0788345 ,\n",
      "         0.10109699,  0.7005678 ],\n",
      "       [-0.22446284,  0.07299468,  0.76650834, ...,  1.6651447 ,\n",
      "        -0.4594761 ,  0.5171346 ],\n",
      "       [ 0.21313134, -0.09235269,  0.03978378, ...,  1.4694997 ,\n",
      "         1.0283284 ,  1.0960767 ]], dtype=float32), array([[-0.80561227,  0.5216505 ,  0.9150908 , ...,  0.8447281 ,\n",
      "         0.08339781,  0.41678992],\n",
      "       [-0.35302106,  0.06978741,  0.93169594, ...,  0.09616916,\n",
      "        -0.457502  ,  0.8960396 ],\n",
      "       [ 0.47088993, -0.01017612,  0.4014242 , ...,  0.10536037,\n",
      "         0.61797494,  0.70753074],\n",
      "       ...,\n",
      "       [-0.3750581 ,  0.4991356 ,  0.63624644, ...,  0.02684941,\n",
      "         0.51768005,  1.1110429 ],\n",
      "       [ 0.5049062 , -0.39683506,  0.59660006, ..., -0.05258802,\n",
      "         0.8613808 ,  0.96527034],\n",
      "       [ 0.3623375 ,  0.13970312,  0.2554623 , ..., -0.42221984,\n",
      "         0.76919615,  0.32213545]], dtype=float32), array([[ 0.21655849,  0.8158333 ,  0.49505204, ...,  0.9125897 ,\n",
      "         0.588825  ,  0.7457278 ],\n",
      "       [ 0.5370212 ,  1.0628016 ,  0.1537455 , ...,  1.7385435 ,\n",
      "         1.4216456 ,  0.07129519],\n",
      "       [ 0.3326667 ,  0.3123216 ,  0.68534005, ...,  0.6888948 ,\n",
      "        -0.00963604,  0.25042114],\n",
      "       ...,\n",
      "       [ 0.44479233,  0.22034374,  0.3277501 , ...,  0.99749994,\n",
      "         0.31382766,  1.3273555 ],\n",
      "       [ 0.21085322,  0.3372855 ,  0.16057143, ...,  0.5161005 ,\n",
      "         0.46473852,  0.2066813 ],\n",
      "       [ 0.08410476,  0.6408928 ,  0.768239  , ...,  1.5902987 ,\n",
      "         0.61121553, -0.17432433]], dtype=float32), array([[ 6.0952079e-01,  6.1138475e-01, -1.5891680e-01, ...,\n",
      "         9.8421097e-01,  4.9213576e-01,  3.1042230e-01],\n",
      "       [ 1.3122311e+00,  2.9936579e-01,  4.7871470e-04, ...,\n",
      "         7.0530462e-01,  6.4528298e-01,  6.6940355e-01],\n",
      "       [ 6.6585481e-01,  3.8814926e-01,  7.8484118e-01, ...,\n",
      "         8.1772089e-01,  4.7761220e-01,  2.7635342e-01],\n",
      "       ...,\n",
      "       [ 8.5904700e-01,  2.9299933e-01, -3.9653832e-01, ...,\n",
      "         7.5032389e-01,  3.0359349e-01,  8.9726472e-01],\n",
      "       [ 1.0355914e+00,  8.3070040e-01,  8.5580933e-01, ...,\n",
      "         1.5757051e+00, -1.6146007e-01,  5.9292006e-01],\n",
      "       [ 1.5182482e+00,  2.5298160e-01,  5.0141668e-01, ...,\n",
      "         9.7647661e-01,  5.0725162e-02,  3.8893986e-01]], dtype=float32), array([[ 0.01801294, -0.2621378 ,  1.0527287 , ...,  0.18064107,\n",
      "         0.8649967 ,  0.9305116 ],\n",
      "       [-0.5152538 ,  0.50252455,  1.3051255 , ..., -0.5837932 ,\n",
      "         1.4164145 ,  1.0076388 ],\n",
      "       [ 0.46966398,  0.3612162 ,  0.6108885 , ...,  0.4544837 ,\n",
      "         0.96790236,  0.9656894 ],\n",
      "       ...,\n",
      "       [ 0.03969821,  0.83842707,  1.4949127 , ..., -0.16690794,\n",
      "         2.567505  , -0.69959164],\n",
      "       [ 0.35485667, -0.40773925,  0.97538185, ..., -0.56397474,\n",
      "         0.8836052 ,  1.6796505 ],\n",
      "       [-0.14592817,  0.981053  ,  0.674315  , ...,  0.6594357 ,\n",
      "         1.4825025 ,  0.76232886]], dtype=float32), array([[ 0.9790339 , -0.01669487,  0.75578004, ...,  0.74387455,\n",
      "         1.0654881 ,  0.41406813],\n",
      "       [-0.08407569,  0.12280935,  1.6627517 , ...,  1.5538318 ,\n",
      "         0.9764796 ,  0.3229453 ],\n",
      "       [ 0.6004314 ,  1.2488235 ,  1.0470967 , ...,  1.521796  ,\n",
      "         1.5027094 ,  0.24412042],\n",
      "       ...,\n",
      "       [ 0.7123426 ,  0.3193505 ,  1.3881752 , ...,  0.44998157,\n",
      "         0.9748071 ,  0.34939075],\n",
      "       [ 1.0061688 ,  0.579099  ,  0.97045296, ...,  0.9428641 ,\n",
      "         1.7227662 ,  0.10734963],\n",
      "       [-0.23210055,  1.0459541 ,  1.4151757 , ...,  0.95604086,\n",
      "         1.0707147 ,  0.68591285]], dtype=float32), array([[-0.00698576,  0.79232097,  0.7109481 , ...,  0.7248134 ,\n",
      "         0.29624683,  0.85100716],\n",
      "       [-0.04980329,  0.26457834,  0.52460945, ...,  0.65987414,\n",
      "         0.10596826,  1.2277552 ],\n",
      "       [ 0.02740132,  0.24566454,  0.12626103, ...,  0.0454217 ,\n",
      "         0.9217166 , -0.29926735],\n",
      "       ...,\n",
      "       [-1.2228038 , -0.32621685, -0.8005129 , ...,  0.9094731 ,\n",
      "        -0.69811136,  1.4346346 ],\n",
      "       [-0.4957615 ,  0.8598218 ,  1.1389264 , ...,  0.7172707 ,\n",
      "         0.46863663,  1.1355642 ],\n",
      "       [ 0.81782055,  0.06617433, -0.3278571 , ...,  0.13327797,\n",
      "         0.35660794,  0.8669032 ]], dtype=float32), array([[ 1.393893  ,  0.64037025,  0.21074912, ...,  0.33978266,\n",
      "         0.38992396,  0.02274583],\n",
      "       [ 0.8146627 ,  0.70241153,  0.6452927 , ...,  0.5936607 ,\n",
      "         1.8322916 ,  0.14366327],\n",
      "       [ 0.49552286,  1.4758978 ,  1.0000501 , ...,  0.17269716,\n",
      "        -0.08828518, -0.1269489 ],\n",
      "       ...,\n",
      "       [ 0.9207027 ,  0.3872304 ,  1.1636889 , ..., -0.36542028,\n",
      "         0.1153605 , -0.21999651],\n",
      "       [ 0.53621006,  0.5711717 ,  1.1703576 , ...,  0.46880385,\n",
      "         0.6055446 ,  0.4051471 ],\n",
      "       [ 1.2587996 ,  0.39226747,  0.8566942 , ...,  0.17602906,\n",
      "         0.88192475, -0.04463065]], dtype=float32), array([[ 1.5017704 ,  0.60551006,  0.44478884, ..., -0.46507382,\n",
      "         1.3262382 ,  0.47280478],\n",
      "       [ 0.48284876,  1.7163408 , -0.06328028, ...,  0.1475794 ,\n",
      "         0.45679632,  0.9774997 ],\n",
      "       [ 0.42990878,  1.4907466 ,  0.79461515, ...,  0.03628421,\n",
      "         1.494477  ,  0.36487064],\n",
      "       ...,\n",
      "       [ 1.0252302 ,  0.8581386 ,  1.2798032 , ...,  0.6696613 ,\n",
      "         0.18919766,  1.164703  ],\n",
      "       [ 0.72754997,  1.0857984 ,  0.5845896 , ..., -0.5033649 ,\n",
      "        -0.207432  ,  1.4391226 ],\n",
      "       [ 1.4662819 ,  0.75425965,  1.4645721 , ..., -0.12364602,\n",
      "         0.35105166,  0.6676743 ]], dtype=float32), array([[-0.06203388,  0.340114  ,  0.14371711, ...,  1.0159206 ,\n",
      "         0.8475032 ,  0.21998587],\n",
      "       [ 0.26891527, -0.46802658,  0.7541054 , ...,  1.1589143 ,\n",
      "         0.8275203 ,  0.379648  ],\n",
      "       [ 0.6242693 ,  0.48772487, -0.81480694, ...,  0.14728971,\n",
      "         0.86132693,  1.410048  ],\n",
      "       ...,\n",
      "       [-0.1951559 , -0.19355145, -0.4201712 , ...,  0.81386346,\n",
      "         0.9433993 ,  1.3283101 ],\n",
      "       [ 0.0636215 , -0.1797202 ,  0.72277975, ...,  1.4452648 ,\n",
      "         0.40468854,  1.0284421 ],\n",
      "       [-0.52354103,  0.74941397,  0.06620067, ...,  0.17149116,\n",
      "         1.7064707 ,  0.44359422]], dtype=float32), array([[ 1.5129039 ,  1.3293388 ,  0.7996937 , ...,  0.6642736 ,\n",
      "         0.21497779,  0.67201686],\n",
      "       [ 0.93184984,  1.0165966 ,  0.61020374, ...,  0.8371234 ,\n",
      "        -0.1561032 , -0.07769144],\n",
      "       [ 1.4381139 ,  0.9219811 ,  0.3772811 , ...,  0.50012136,\n",
      "        -0.19443035,  0.882316  ],\n",
      "       ...,\n",
      "       [ 1.1106595 ,  0.57487607,  0.17884383, ...,  1.2586532 ,\n",
      "        -0.3583629 ,  0.7850567 ],\n",
      "       [ 0.23898797,  1.6429919 ,  0.07161537, ...,  0.901567  ,\n",
      "         0.5867655 ,  0.42658347],\n",
      "       [ 1.5428495 ,  1.2028167 , -0.5448988 , ...,  0.25889486,\n",
      "         1.5193706 ,  0.9873638 ]], dtype=float32), array([[ 0.5038769 ,  0.79324806,  0.35884145, ...,  1.4681978 ,\n",
      "         1.2619544 ,  0.68834937],\n",
      "       [ 0.32284406, -0.37499633,  0.36562762, ...,  0.98191553,\n",
      "         1.8121237 ,  0.778476  ],\n",
      "       [ 0.31242895, -0.338191  ,  0.07352224, ...,  0.6269408 ,\n",
      "        -0.00996414,  1.6165862 ],\n",
      "       ...,\n",
      "       [-0.1942932 ,  0.8490205 ,  1.2122002 , ...,  1.0609201 ,\n",
      "         1.108985  ,  0.63899446],\n",
      "       [ 0.5375837 ,  0.2905528 ,  0.4674894 , ...,  1.536758  ,\n",
      "         0.23572795,  1.3944864 ],\n",
      "       [ 1.1032447 , -0.14237922,  0.58791023, ...,  0.57191604,\n",
      "         1.2045757 ,  0.3895546 ]], dtype=float32), array([[-0.34856734,  0.57058156, -0.04780003, ...,  0.5350123 ,\n",
      "        -0.25359485, -0.5756266 ],\n",
      "       [ 0.14905137,  0.3669645 , -0.0022583 , ...,  0.8500359 ,\n",
      "         0.02481508,  0.21565744],\n",
      "       [ 0.160603  ,  0.68004483,  0.6174713 , ...,  0.47420025,\n",
      "        -0.29127902, -0.03735834],\n",
      "       ...,\n",
      "       [ 1.3165085 , -0.01068738,  0.04226625, ...,  0.13103844,\n",
      "         0.38248578,  0.20165375],\n",
      "       [ 0.45490843,  0.25800934,  0.664436  , ...,  1.1773803 ,\n",
      "        -0.04220998,  0.7880609 ],\n",
      "       [-0.0155215 ,  0.11761573,  0.11243707, ..., -0.00573088,\n",
      "         0.7371179 , -0.32628787]], dtype=float32), array([[ 0.24218355,  0.57320774,  0.44592524, ...,  0.86681044,\n",
      "         0.7473088 ,  1.1263611 ],\n",
      "       [-0.01064676, -0.30253315,  1.2077901 , ...,  1.0416496 ,\n",
      "         0.6525536 ,  0.23828685],\n",
      "       [ 0.05170888, -0.15535155,  0.63424104, ...,  0.9822905 ,\n",
      "         0.13907382,  0.5452603 ],\n",
      "       ...,\n",
      "       [ 0.12914   , -0.10587084,  0.85826993, ...,  0.5101148 ,\n",
      "         0.6167476 ,  0.27575642],\n",
      "       [ 0.04687442,  0.2059182 ,  0.5475265 , ...,  1.4508482 ,\n",
      "        -0.33478576,  1.1585792 ],\n",
      "       [-0.05472657, -0.21570742,  0.7311954 , ...,  0.39292803,\n",
      "         0.897257  ,  0.39612234]], dtype=float32), array([[-0.0760338 ,  0.21905166,  0.6613852 , ...,  0.84874463,\n",
      "         0.43055457,  0.4692037 ],\n",
      "       [ 0.79078287,  0.18601668,  0.02550018, ...,  1.0658524 ,\n",
      "         0.9807161 ,  0.55173254],\n",
      "       [ 0.61480093,  0.56120974, -0.8870629 , ...,  1.1078129 ,\n",
      "         0.7072593 ,  0.6869911 ],\n",
      "       ...,\n",
      "       [ 0.10006405,  0.09366211, -0.58163357, ...,  0.79267275,\n",
      "         0.29026344,  0.9728857 ],\n",
      "       [ 0.6846734 ,  1.1135184 ,  0.63591605, ...,  0.78770065,\n",
      "         0.25058666,  0.49421918],\n",
      "       [ 0.2221924 ,  0.83212674,  0.06533241, ...,  1.6700535 ,\n",
      "        -0.14615908,  0.8955258 ]], dtype=float32), array([[ 1.3315679 , -0.2481251 ,  1.0641167 , ...,  0.21256423,\n",
      "         0.20934173,  0.86912787],\n",
      "       [ 1.4297757 , -0.19386876,  1.7460744 , ...,  0.13842641,\n",
      "         0.2057245 , -0.62547696],\n",
      "       [-0.5690698 ,  0.40456817,  1.4624754 , ..., -0.76055264,\n",
      "        -0.30554563,  0.9507482 ],\n",
      "       ...,\n",
      "       [ 0.76579964,  0.22035024,  0.81460965, ...,  0.2275612 ,\n",
      "         0.7378359 ,  0.5740549 ],\n",
      "       [-0.1394592 ,  0.81599337,  0.7583697 , ..., -0.36992642,\n",
      "         0.6544602 , -0.3813811 ],\n",
      "       [ 0.05222839,  0.41613588,  1.2566869 , ...,  0.4305854 ,\n",
      "         0.19247058, -0.23779213]], dtype=float32), array([[-0.01364346,  0.517298  ,  0.0687536 , ..., -0.09817414,\n",
      "         0.05774757,  0.6363142 ],\n",
      "       [ 0.74435735,  0.01958978,  0.36226732, ...,  0.6044446 ,\n",
      "        -0.03629291,  1.1972035 ],\n",
      "       [-0.372478  ,  0.429363  , -0.12628561, ...,  0.4542256 ,\n",
      "         0.78129053,  1.2360214 ],\n",
      "       ...,\n",
      "       [-0.02609174,  1.1381607 ,  0.12391812, ..., -0.2675556 ,\n",
      "         1.0770638 , -0.14366278],\n",
      "       [ 0.2522816 ,  0.44331038, -0.25343126, ...,  0.20601381,\n",
      "         0.9116569 ,  0.25647327],\n",
      "       [-1.2161059 ,  0.348366  , -0.33584172, ...,  0.16705285,\n",
      "         0.5022502 ,  0.24964091]], dtype=float32), array([[-0.21331358,  0.51652086,  0.16923201, ...,  0.20474803,\n",
      "         0.65610254,  0.42561045],\n",
      "       [-0.16361742,  0.18358675,  0.6535139 , ..., -0.07069547,\n",
      "         0.33478427,  0.9600489 ],\n",
      "       [ 0.25210774,  0.32789868,  0.79103285, ...,  0.05367365,\n",
      "         0.832528  ,  0.34721428],\n",
      "       ...,\n",
      "       [ 0.01842948, -0.35672775,  0.46317875, ...,  0.07195388,\n",
      "         0.379655  ,  1.1923525 ],\n",
      "       [ 0.13453613, -0.5363634 ,  0.0622474 , ..., -0.19463153,\n",
      "         1.1392571 ,  1.254416  ],\n",
      "       [-0.6039358 ,  0.6700146 , -0.16527396, ..., -0.25492674,\n",
      "         1.5038615 ,  1.3752623 ]], dtype=float32), array([[ 1.0490671 ,  0.7008417 , -0.35051373, ...,  0.16595563,\n",
      "         1.4507822 ,  0.4805799 ],\n",
      "       [ 0.7916979 ,  0.91197014,  0.23633009, ..., -0.12775391,\n",
      "        -0.20645863,  0.28070393],\n",
      "       [ 0.5807735 ,  0.7239064 ,  0.33076268, ..., -0.3829052 ,\n",
      "         0.01058076,  0.4058301 ],\n",
      "       ...,\n",
      "       [ 0.26653442,  0.21019489,  0.5376774 , ...,  0.41867238,\n",
      "         0.14703965,  1.7147616 ],\n",
      "       [ 0.07339246,  1.2670903 , -0.04950318, ...,  0.85188645,\n",
      "         0.6593703 ,  0.5654851 ],\n",
      "       [-0.4428932 ,  0.0293304 ,  0.6675734 , ...,  0.42719042,\n",
      "         0.1519449 ,  1.0388886 ]], dtype=float32), array([[ 0.42943206,  0.7082563 ,  0.85320497, ...,  0.798454  ,\n",
      "        -0.89849144,  0.15297805],\n",
      "       [ 0.8879646 ,  0.5206641 ,  0.7355245 , ...,  0.81621426,\n",
      "        -0.08232409,  0.44300795],\n",
      "       [-0.49525255,  1.272925  ,  0.743572  , ...,  0.41408813,\n",
      "         0.63119715,  0.03513294],\n",
      "       ...,\n",
      "       [ 0.15737627,  0.37187713,  1.2217534 , ...,  1.0772897 ,\n",
      "         0.3578948 ,  0.52523756],\n",
      "       [-0.16575107,  1.2372999 ,  0.91228586, ...,  0.6870376 ,\n",
      "        -0.10751361,  0.546032  ],\n",
      "       [ 0.7777144 ,  0.6002579 ,  0.4666227 , ...,  0.554914  ,\n",
      "         0.05211726,  0.93208843]], dtype=float32), array([[ 0.95018864,  0.17303446,  0.51584864, ...,  0.16756968,\n",
      "         0.37130255,  0.6250083 ],\n",
      "       [-0.3347171 ,  0.67347586,  0.18127081, ...,  1.0059079 ,\n",
      "         0.20617831,  0.28751653],\n",
      "       [ 0.38965943,  0.51836336,  0.6363788 , ...,  0.6874531 ,\n",
      "         0.17540693, -0.42852545],\n",
      "       ...,\n",
      "       [ 0.7983115 ,  0.12963232,  0.6662291 , ...,  1.1885074 ,\n",
      "         0.5377743 ,  0.73918414],\n",
      "       [-1.0002795 ,  0.6918129 ,  1.4773948 , ...,  0.43949053,\n",
      "        -0.48408878,  0.7307337 ],\n",
      "       [ 0.80432224, -0.1651966 ,  0.7265667 , ...,  0.26786655,\n",
      "         0.77735543, -0.1051406 ]], dtype=float32), array([[ 1.3787143 ,  0.27074435,  0.25422505, ...,  0.7776043 ,\n",
      "         1.0326076 ,  0.8500644 ],\n",
      "       [ 0.7930422 ,  0.8106104 ,  0.9572938 , ...,  0.96431357,\n",
      "         0.7322227 , -0.19247088],\n",
      "       [ 0.8323034 ,  0.18611068, -0.74068403, ...,  0.3114372 ,\n",
      "        -0.47598144,  0.5006428 ],\n",
      "       ...,\n",
      "       [ 0.35504705,  0.9089967 ,  0.8676842 , ...,  0.82394665,\n",
      "         0.8029393 ,  0.3280871 ],\n",
      "       [ 1.3509574 ,  0.24837154,  0.49988785, ...,  0.43057707,\n",
      "        -0.23141494,  0.9827759 ],\n",
      "       [ 1.2189591 ,  1.1958992 ,  0.4063357 , ...,  0.4457965 ,\n",
      "         0.05795415,  0.33862275]], dtype=float32), array([[ 0.77022344,  1.6280669 ,  1.0090967 , ...,  0.10873157,\n",
      "         1.4398301 ,  0.75461125],\n",
      "       [ 1.2175707 , -0.03834817,  1.1245091 , ...,  1.1542988 ,\n",
      "         0.50342333,  1.0503933 ],\n",
      "       [ 0.77698874, -0.13564253,  0.30955127, ...,  0.8120759 ,\n",
      "         0.9059637 ,  0.68340284],\n",
      "       ...,\n",
      "       [ 0.6078126 ,  0.14054725,  0.77454805, ...,  0.90187585,\n",
      "         1.0557594 ,  1.2714046 ],\n",
      "       [ 0.8207636 ,  0.4791892 ,  0.8478553 , ...,  1.5116818 ,\n",
      "         0.8690789 ,  1.1345849 ],\n",
      "       [ 0.91822094,  1.7220739 ,  0.750952  , ...,  0.14135551,\n",
      "         0.2909278 ,  0.5988904 ]], dtype=float32), array([[ 0.6539294 ,  1.2161951 , -0.2727372 , ..., -0.72245544,\n",
      "         0.8531708 ,  0.77022797],\n",
      "       [ 1.7123997 ,  1.161216  ,  0.5192111 , ...,  1.4646618 ,\n",
      "         0.5653535 ,  1.0542651 ],\n",
      "       [ 0.7845837 ,  0.5205226 ,  0.08587712, ...,  0.03210261,\n",
      "         0.47792214,  0.4202617 ],\n",
      "       ...,\n",
      "       [ 0.29248103,  1.2561561 , -0.07849914, ...,  0.36938465,\n",
      "         1.4930261 ,  0.5958606 ],\n",
      "       [ 0.64058185,  0.49983   ,  1.2644994 , ..., -0.4466297 ,\n",
      "         0.6418047 , -0.19600701],\n",
      "       [ 0.1135219 ,  1.1092384 ,  0.35245717, ...,  0.45560238,\n",
      "         1.4240174 ,  0.06530118]], dtype=float32), array([[ 1.1066207 ,  0.8279065 ,  0.82886094, ...,  0.28382397,\n",
      "         0.25738734,  0.1843839 ],\n",
      "       [ 0.48267788, -0.02605531,  0.6489153 , ...,  0.20819049,\n",
      "        -0.66171527,  0.6190687 ],\n",
      "       [ 0.36408457,  0.3976628 ,  0.75157976, ...,  0.6221937 ,\n",
      "         0.97110415, -0.04111356],\n",
      "       ...,\n",
      "       [ 1.4702162 ,  0.24437678,  0.20882678, ...,  1.6473726 ,\n",
      "         0.35057297,  0.5705178 ],\n",
      "       [ 0.28976932,  1.1727039 ,  2.1116552 , ...,  0.99113256,\n",
      "        -0.22785601,  0.6223756 ],\n",
      "       [ 1.118626  ,  0.39111355,  0.35132876, ...,  0.6738971 ,\n",
      "        -0.0870634 ,  0.48570117]], dtype=float32), array([[ 0.45852542,  0.68015015, -0.32674885, ...,  0.9472307 ,\n",
      "         0.53360164,  0.08206862],\n",
      "       [ 0.9249032 ,  1.3831369 ,  0.92298526, ...,  1.6998913 ,\n",
      "         0.9913329 ,  0.9507848 ],\n",
      "       [ 1.2997708 ,  1.3443723 , -0.19250512, ...,  1.0161848 ,\n",
      "         0.8173412 ,  0.35779288],\n",
      "       ...,\n",
      "       [ 0.47890195,  0.6469964 , -0.36665788, ...,  0.8095788 ,\n",
      "         0.03350067,  0.4373697 ],\n",
      "       [ 0.543244  ,  0.2857784 ,  0.5782307 , ...,  1.1753019 ,\n",
      "        -0.43915167,  0.2689337 ],\n",
      "       [ 0.5477071 ,  1.0863404 , -0.8324467 , ...,  1.6895103 ,\n",
      "         0.26137474, -0.4829656 ]], dtype=float32), array([[-0.33915854, -0.11038932,  0.64733994, ...,  1.0163679 ,\n",
      "        -0.31747955,  0.51858497],\n",
      "       [ 0.29793227, -0.6250707 ,  0.03153121, ...,  1.0017934 ,\n",
      "        -0.6930842 ,  0.240115  ],\n",
      "       [ 0.46751922,  1.149308  ,  0.34406558, ...,  1.0032525 ,\n",
      "        -0.38637894,  0.50007164],\n",
      "       ...,\n",
      "       [ 0.09939295,  0.63004637, -0.28946653, ...,  1.2721238 ,\n",
      "        -0.6482614 , -0.27847323],\n",
      "       [ 0.15270741, -0.90461683, -0.9355166 , ...,  1.0894235 ,\n",
      "         0.29122168,  0.5218079 ],\n",
      "       [-0.12009343,  0.5823808 ,  0.16098022, ...,  0.65645546,\n",
      "        -0.16635852,  0.08520481]], dtype=float32), array([[ 0.5774674 ,  0.53734875,  0.5754139 , ...,  0.1632399 ,\n",
      "         1.359898  ,  0.5477563 ],\n",
      "       [ 0.92107576,  0.39845452,  0.42338735, ...,  0.22862375,\n",
      "         0.8483872 ,  0.3077243 ],\n",
      "       [-0.03501006,  0.06370062,  0.8926461 , ...,  0.48870876,\n",
      "         0.6830144 ,  1.0022513 ],\n",
      "       ...,\n",
      "       [ 0.36596817,  0.31981856,  0.38020715, ...,  0.3346036 ,\n",
      "         0.27279994,  1.1177524 ],\n",
      "       [ 0.28060266,  0.5079293 , -0.3924396 , ...,  0.1968529 ,\n",
      "         0.24161494,  1.7832403 ],\n",
      "       [ 0.4548777 ,  0.6324398 , -0.02879545, ...,  0.06973085,\n",
      "         0.81587136,  0.18802802]], dtype=float32), array([[ 0.4073165 , -0.06388843,  0.71789205, ...,  0.5358196 ,\n",
      "         0.6859274 ,  0.60108787],\n",
      "       [ 0.02079185,  0.10514903,  0.5253519 , ...,  0.05503574,\n",
      "        -0.08021355,  0.4389202 ],\n",
      "       [ 0.6673641 ,  0.34625322,  0.77952373, ...,  1.146345  ,\n",
      "         1.2136118 ,  0.94930005],\n",
      "       ...,\n",
      "       [ 0.8477541 ,  0.99423474,  0.3463396 , ...,  0.67767704,\n",
      "        -0.3072674 ,  0.5186047 ],\n",
      "       [-0.02866648,  0.35610244,  0.663802  , ...,  1.3231782 ,\n",
      "        -0.11594325, -0.15214035],\n",
      "       [-0.17550522,  0.55970407,  0.7166407 , ...,  0.51289666,\n",
      "         0.8144057 ,  0.35946622]], dtype=float32)]\n"
     ]
    }
   ],
   "source": [
    "result = eval(testing_ys, mat_dim, z_dim)\n"
   ]
  },
  {
   "cell_type": "code",
   "execution_count": 28,
   "metadata": {},
   "outputs": [
    {
     "name": "stderr",
     "output_type": "stream",
     "text": [
      "W: 15.645: 100%|██████████| 100/100 [2:19:54<00:00, 83.94s/it]\n"
     ]
    },
    {
     "data": {
      "text/plain": [
       "160384"
      ]
     },
     "execution_count": 28,
     "metadata": {},
     "output_type": "execute_result"
    }
   ],
   "source": [
    "models = create_INN(7, 64,dimension=mat_dim**2,dimension_condition=int(mat_dim**2/4))\n",
    "sum(p.numel() for p in models.parameters() if p.requires_grad)#"
   ]
  }
 ],
 "metadata": {
  "kernelspec": {
   "display_name": "Python 3",
   "language": "python",
   "name": "python3"
  },
  "language_info": {
   "codemirror_mode": {
    "name": "ipython",
    "version": 3
   },
   "file_extension": ".py",
   "mimetype": "text/x-python",
   "name": "python",
   "nbconvert_exporter": "python",
   "pygments_lexer": "ipython3",
   "version": "3.8.5"
  }
 },
 "nbformat": 4,
 "nbformat_minor": 4
}
