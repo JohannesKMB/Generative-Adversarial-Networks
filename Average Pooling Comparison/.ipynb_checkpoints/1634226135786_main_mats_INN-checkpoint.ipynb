{
 "cells": [
  {
   "cell_type": "code",
   "execution_count": 1,
   "metadata": {},
   "outputs": [],
   "source": [
    "from torch.optim import Adam, SGD\n",
    "import torch\n",
    "import numpy as np\n",
    "import ot\n",
    "import matplotlib.pyplot as plt\n",
    "from tqdm import tqdm\n",
    "\n",
    "from Util_mixture import *\n",
    "#from Util import *"
   ]
  },
  {
   "cell_type": "code",
   "execution_count": 2,
   "metadata": {},
   "outputs": [],
   "source": [
    "from sklearn.datasets import fetch_openml\n",
    "import matplotlib.pyplot as plt\n",
    "import numpy as np"
   ]
  },
  {
   "cell_type": "code",
   "execution_count": 3,
   "metadata": {},
   "outputs": [
    {
     "data": {
      "image/png": "[encoded data removed]",
      "text/plain": [
       "<Figure size 288x108 with 1 Axes>"
      ]
     },
     "metadata": {
      "needs_background": "light"
     },
     "output_type": "display_data"
    }
   ],
   "source": [
    "mnist = fetch_openml('mnist_784')\n",
    "X = (mnist.data>127.5)*1.0\n",
    "X.shape\n",
    "plt.figure(figsize=(4,1.5))\n",
    "ax = plt.subplot(1,2,1); ax.set_title('before'); ax.imshow(X[2].reshape(28,28),cmap='gray')\n",
    "plt.show()"
   ]
  },
  {
   "cell_type": "code",
   "execution_count": 4,
   "metadata": {},
   "outputs": [],
   "source": [
    "def train_and_eval(testing_ys, mat_dim, z_dim):\n",
    "\n",
    "\n",
    "    num_layers, sub_net_size = 7, 64\n",
    "    #print number of parameters\n",
    "    model = create_INN(num_layers, sub_net_size,dimension=mat_dim**2,dimension_condition=int(mat_dim**2/4))\n",
    "\n",
    "    #optimizer = Adam(params, lr = 1e-4)\n",
    "    lr = 1e-4\n",
    "    optimizer = Adam(model.parameters(), lr=lr)\n",
    "\n",
    "\n",
    "\n",
    "\n",
    "\n",
    "    num_epochs = 400#8\n",
    "    batch_size = 128\n",
    "    num_samples_per_epoch = 1024#6400\n",
    "    optimizer = Adam(model.parameters(), lr = 1e-4)\n",
    "    #1e-4 0.185\n",
    "    #2e-4 0.2\n",
    "    #5e-5 0.17\n",
    "    #3e-5 0.18\n",
    "    #7e-5 0.22\n",
    "    \n",
    "\n",
    "\n",
    "    #700 0.16\n",
    "    #1000 0.149\n",
    "\n",
    "    num_epochs = 100#50#600#8\n",
    "    \n",
    "    batch_size = 64#128\n",
    "    \n",
    "    num_samples_per_epoch = 2048#1024#6400\n",
    "\n",
    "    prog_bar = tqdm(total=num_epochs)\n",
    "    for i in range(num_epochs):\n",
    "        data_loader = get_epoch_data_loader_new(num_samples_per_epoch, batch_size, mat_dim)\n",
    "        #loss = gl(models, data_loader, opt_gen, opt_crit, z_dim, mat_dim)\n",
    "        #loss = train_inn_epoch(optimizer, models, params, b, data_loader, forward_map, mixture_params, convex_comb_factor=convex_comb_factor)\n",
    "        loss = train_inn_epoch_mat(optimizer, model, data_loader, mat_dim)\n",
    "        prog_bar.set_description('loss: {:.4f}'.format(loss))\n",
    "        prog_bar.update()\n",
    "    prog_bar.close()\n",
    "\n",
    "\n",
    "    \n",
    "\n",
    "    return model"
   ]
  },
  {
   "cell_type": "code",
   "execution_count": 5,
   "metadata": {},
   "outputs": [],
   "source": [
    "def eval(testing_ys, mat_dim, z_dim):\n",
    "    result = []\n",
    "    testing_x_per_y = 2048\n",
    "    \n",
    "    weights1, weights2 = np.ones((testing_x_per_y,)) / testing_x_per_y, np.ones((testing_x_per_y,)) / testing_x_per_y\n",
    "    weights1 = weights1.astype(np.float64)\n",
    "    weights2 = weights2.astype(np.float64)\n",
    "    w1 = 0.\n",
    "\n",
    "    testing_num_y = len(testing_ys)\n",
    "    prog_bar = tqdm(total=testing_num_y)\n",
    "    prog_bar.set_description('Computing Wasserstein distances')\n",
    "    for i, y in enumerate(testing_ys):\n",
    "        #true_posterior_params = get_mixture_posterior(mixture_params, forward_map, b**2 * torch.eye(DIMENSION, device=device), y)\n",
    "        #true_posterior_samples = draw_mixture_dist(true_posterior_params, testing_x_per_y).cpu().numpy()\n",
    "        true_posterior_samples = draw_posterior_matrix(y, mat_dim, testing_x_per_y)\n",
    "        inflated_ys = y.flatten()[None, :].repeat(testing_x_per_y, 1)\n",
    "        true_post = true_posterior_samples.reshape(-1, mat_dim ** 2)\n",
    "        noise1 = torch.randn(testing_x_per_y, z_dim).to(device)\n",
    "        rtarget = inflated_ys\n",
    "        #testinp = torch.cat((noise1, rtarget.view(testing_x_per_y,-1)), dim=1)\n",
    "        #testinp = torch.cat((noise1, rtarget.view(testing_x_per_y, -1)), dim=1)\n",
    "        samples1 = model(torch.randn(testing_x_per_y, mat_dim**2, device=device), c= inflated_ys)[0].detach().cpu().numpy()\n",
    "        #samples1 = models[1](testinp).detach().cpu().numpy()\n",
    "        #print(y, samples1.shape)\n",
    "        samples1 = samples1.reshape(testing_x_per_y, mat_dim* mat_dim)\n",
    "        result += [samples1]\n",
    "        #print(np.round(samples1[0]))\n",
    "\n",
    "        #samples1 = forward_SNF(torch.randn(testing_x_per_y, DIMENSION, device=device), models, b, inflated_ys, mixture_params, forward_map)[0].detach().cpu().numpy()\n",
    "        #samples2 = forward_SNF_det(torch.randn(testing_x_per_y, DIMENSION, device=device), models, b, inflated_ys, mixture_params, forward_map)[0].detach().cpu().numpy()\n",
    "        M1 = ot.dist(samples1, true_post)\n",
    "\n",
    "        w1 += ot.emd2(weights1, weights2, M1)\n",
    "        prog_bar.set_description('W: {:.3f}'.format(w1 / (i + 1)))\n",
    "        prog_bar.update()\n",
    "    return result\n",
    "    \n",
    "\n"
   ]
  },
  {
   "cell_type": "code",
   "execution_count": 6,
   "metadata": {},
   "outputs": [],
   "source": [
    "result_list = []\n",
    "\n",
    "testing_num_y = 100\n",
    "mat_dim = 8\n",
    "z_dim = mat_dim\n",
    "\n",
    "#forward_map = create_forward_model(scale=0.02)"
   ]
  },
  {
   "cell_type": "code",
   "execution_count": 7,
   "metadata": {},
   "outputs": [
    {
     "data": {
      "text/plain": [
       "'forward keine id mehr scale=scale/i+1\\nmehr dimensionen\\nvgl inn\\nmixture parameter randomizen'"
      ]
     },
     "execution_count": 7,
     "metadata": {},
     "output_type": "execute_result"
    }
   ],
   "source": [
    "'''forward keine id mehr scale=scale/i+1\n",
    "mehr dimensionen\n",
    "vgl inn\n",
    "mixture parameter randomizen'''"
   ]
  },
  {
   "cell_type": "code",
   "execution_count": 8,
   "metadata": {},
   "outputs": [],
   "source": [
    "#testing_xs = draw_x_mats(testing_num_y, mat_dim, z_dim)\n",
    "testing_xs = draw_x_mats(100, mat_dim)\n",
    "\n",
    "#print('testing x', testing_xs.shape)\n",
    "                \n",
    "testing_ys = forward_mat(testing_xs)\n",
    "#print(testing_xs.shape, testing_ys.shape)\n"
   ]
  },
  {
   "cell_type": "code",
   "execution_count": 9,
   "metadata": {},
   "outputs": [
    {
     "name": "stderr",
     "output_type": "stream",
     "text": [
      "loss: -31.1842: 100%|██████████| 100/100 [00:49<00:00,  2.03it/s]\n"
     ]
    }
   ],
   "source": [
    "\n",
    "model = train_and_eval(testing_ys, mat_dim, z_dim)\n"
   ]
  },
  {
   "cell_type": "code",
   "execution_count": null,
   "metadata": {},
   "outputs": [
    {
     "name": "stderr",
     "output_type": "stream",
     "text": [
      "Computing Wasserstein distances:   0%|          | 0/100 [00:00<?, ?it/s]"
     ]
    },
    {
     "name": "stdout",
     "output_type": "stream",
     "text": [
      "torch.Size([100, 8, 8]) torch.Size([100, 4, 4])\n",
      "4\n"
     ]
    },
    {
     "name": "stderr",
     "output_type": "stream",
     "text": [
      "W: 15.886:  22%|██▏       | 22/100 [00:45<02:41,  2.07s/it]             "
     ]
    }
   ],
   "source": [
    "print(testing_xs.shape, testing_ys.shape)\n",
    "print(len(split(testing_ys[0], mat_dim)))\n",
    "result = eval(testing_ys, mat_dim, z_dim)\n",
    "print(result)"
   ]
  },
  {
   "cell_type": "code",
   "execution_count": null,
   "metadata": {},
   "outputs": [],
   "source": [
    "print(result[0].shape)\n",
    "mse = []\n",
    "for i in range(result[0].shape[0]):\n",
    "    mse += [((np.array(testing_xs[0]) - np.array(result[0][i]))**2).mean(axis=None)]\n",
    "    "
   ]
  },
  {
   "cell_type": "code",
   "execution_count": null,
   "metadata": {},
   "outputs": [],
   "source": [
    "print(np.array(mse).mean())\n",
    "print(mse)"
   ]
  },
  {
   "cell_type": "code",
   "execution_count": null,
   "metadata": {},
   "outputs": [],
   "source": [
    "\n",
    "test = forward_mat(torch.round(torch.tensor(result[0][20], dtype=torch.float32).reshape(1,mat_dim,mat_dim)))\n",
    "print(test)\n",
    "print(testing_ys[0])\n",
    "print(test == testing_ys[0])\n",
    "print(testing_xs[0])\n",
    "print(torch.round(torch.tensor(result[0][20], dtype=torch.float32)))"
   ]
  },
  {
   "cell_type": "code",
   "execution_count": null,
   "metadata": {},
   "outputs": [],
   "source": [
    "'''\n",
    "torch.save(models[1].state_dict(), r'C:\\Users\\Karl\\TUB\\Master Thesis\\gen_mat.pt')\n",
    "torch.save(models[0].state_dict(), r'C:\\Users\\Karl\\TUB\\Master Thesis\\crit_mat.pt')\n",
    "'''"
   ]
  },
  {
   "cell_type": "code",
   "execution_count": null,
   "metadata": {},
   "outputs": [],
   "source": [
    "'''crit, gen = create_GAN(mat_dim, mat_dim)\n",
    "crit.load_state_dict(torch.load(r'C:\\Users\\Karl\\TUB\\Master Thesis\\crit_mat.pt'))\n",
    "crit.eval()\n",
    "gen.load_state_dict(torch.load(r'C:\\Users\\Karl\\TUB\\Master Thesis\\gen_mat.pt'))\n",
    "gen.eval()\n",
    "models = (crit, gen)\n",
    "'''"
   ]
  },
  {
   "cell_type": "code",
   "execution_count": null,
   "metadata": {},
   "outputs": [],
   "source": [
    "64**2"
   ]
  },
  {
   "cell_type": "code",
   "execution_count": null,
   "metadata": {},
   "outputs": [],
   "source": [
    "for i, y in enumerate(testing_ys):\n",
    "    print(i, y.shape, y.flatten().shape, y.flatten()[0])\n",
    "\n",
    "    #true_posterior_params = get_mixture_posterior(mixture_params, forward_map, b**2 * torch.eye(DIMENSION, device=device), y)\n",
    "    #true_posterior_samples = draw_mixture_dist(true_posterior_params, testing_x_per_y).cpu().numpy()\n",
    "    true_posterior_samples = draw_mats_post(y)\n",
    "    inflated_ys = y.flatten()[None, :].repeat(2048, 1)\n",
    "    print(y.flatten(), inflated_ys.shape)\n",
    "    true_post = true_posterior_samples.reshape(-1, 16)\n",
    "    noise1 = torch.randn(true_post.shape[0], 16).to(device)\n",
    "    rtarget = inflated_ys\n",
    "    #rtarget = true_post\n",
    "    #testinp = torch.cat((noise1, rtarget.view(testing_x_per_y,-1)), dim=1)\n",
    "    testinp = torch.cat((noise1, rtarget.view(2048,-1)), dim=1)\n",
    "\n",
    "    samples1 = models[1](testinp).detach().cpu().numpy()\n",
    "    print(samples1, y)"
   ]
  },
  {
   "cell_type": "code",
   "execution_count": null,
   "metadata": {},
   "outputs": [],
   "source": [
    "np.random.choice(90, 3)\n",
    "'''\n",
    "bereits probiert:\n",
    "6 layer crit\n",
    "8 layer crit\n",
    "6 layer gen\n",
    "1000 epochs\n",
    "same same but 4048 samples\n",
    "0.2 lrelu\n",
    "training data torch.Size([64, 64, 64]) torch.Size([64, 32, 32])\n",
    "'''"
   ]
  },
  {
   "cell_type": "code",
   "execution_count": null,
   "metadata": {},
   "outputs": [],
   "source": [
    "x = np.array([   [ [1],[2],[3] ], [ [4],[5],[6] ]   ])\n",
    "print(x)\n",
    "print(x[:,:])\n",
    "print(x[...,0])\n",
    "print(x[...])\n",
    "print(x[0,...])\n",
    "print(x[1,...])"
   ]
  },
  {
   "cell_type": "code",
   "execution_count": null,
   "metadata": {},
   "outputs": [],
   "source": [
    "x = draw_mixture_dist(mixture_params, testing_num_y)\n",
    "print(x.shape)\n",
    "print(x[:,0])\n",
    "plt.hist(x[0,:])"
   ]
  },
  {
   "cell_type": "code",
   "execution_count": null,
   "metadata": {},
   "outputs": [],
   "source": [
    "q25, q75 = np.percentile(x,[.25,.75])\n",
    "bin_width = 2*(q75 - q25)*len(x)**(-1/3)\n",
    "bins = round((x.max() - x.min())/bin_width)\n",
    "print(\"Freedman–Diaconis number of bins:\", bins)\n",
    "plt.hist(x, bins = bins)"
   ]
  },
  {
   "cell_type": "code",
   "execution_count": null,
   "metadata": {},
   "outputs": [],
   "source": [
    "pytorch_total_params = sum(p.numel() for p in model.parameters() if p.requires_grad)"
   ]
  },
  {
   "cell_type": "code",
   "execution_count": null,
   "metadata": {},
   "outputs": [],
   "source": [
    "models = create_GAN()"
   ]
  },
  {
   "cell_type": "code",
   "execution_count": null,
   "metadata": {},
   "outputs": [],
   "source": [
    "sum(p.numel() for p in models[1].parameters() if p.requires_grad)"
   ]
  },
  {
   "cell_type": "code",
   "execution_count": null,
   "metadata": {},
   "outputs": [],
   "source": [
    "torch.save(models[1].state_dict(), r'C:\\Users\\Karl\\TUB\\Master Thesis\\gen_toy_5dim_1000epochs.pt')\n",
    "torch.save(models[0].state_dict(), r'C:\\Users\\Karl\\TUB\\Master Thesis\\crit_toy_5dim_1000epochs.pt')"
   ]
  },
  {
   "cell_type": "code",
   "execution_count": null,
   "metadata": {},
   "outputs": [],
   "source": []
  },
  {
   "cell_type": "code",
   "execution_count": null,
   "metadata": {},
   "outputs": [],
   "source": [
    "A = torch.tensor([[1, 1, 1, 0], [1, 1, 0, 0], [1, 1, 0, 0], [1, 0, 1, 1]])\n",
    "A = torch.tensor([[1,1,1],[0,1,1],[1,1,1], [0,1,0]])\n",
    "A = np.round(np.random.random((64,64)))\n",
    "#A = torch.zeros(10,10)\n",
    "print(A.shape)\n",
    "if A.shape[1]%2 == 1:\n",
    "    A = torch.hstack((A, torch.zeros(A.shape[0],1)))\n",
    "if A.shape[0]%2 == 1:\n",
    "    A = torch.vstack((A, torch.zeros(A.shape[1])))\n",
    "print(A,'A')\n",
    "i, j = 0, 0\n",
    "stride = 2\n",
    "c = torch.zeros(A.shape[0]//stride, A.shape[1]//stride)\n",
    "print(c.shape)\n",
    "for _ in range(A.shape[0]):\n",
    "    for _ in range(A.shape[1]):\n",
    "        if i%2 == 0 and j%2 == 0:\n",
    "            try:\n",
    "                c[i//2, j//2] += A[i, j]\n",
    "                c[i//2, j//2] += A[i+1, j]\n",
    "                c[i//2, j//2] += A[i, j+1]\n",
    "                c[i//2, j//2] += A[i+1, j+1]\n",
    "            except:\n",
    "                print('oh noez', i,j)\n",
    "        i += 1\n",
    "        if i >= A.shape[0]:\n",
    "            i = 0\n",
    "    j += 1\n",
    "    if j >= A.shape[1]:\n",
    "            j = 0\n",
    "c"
   ]
  },
  {
   "cell_type": "code",
   "execution_count": null,
   "metadata": {},
   "outputs": [],
   "source": [
    "m = nn.MaxPool2d(3, stride=2)\n",
    "input = torch.randn(1, 1, 4, 4)\n",
    "output = m(input)\n",
    "print(output, input)"
   ]
  },
  {
   "cell_type": "code",
   "execution_count": null,
   "metadata": {},
   "outputs": [],
   "source": [
    "#c = torch.tensor([[1,4], [1,2]])\n",
    "#c = A\n",
    "def build_candidates(c):\n",
    "    candidates = []\n",
    "    cand = []\n",
    "    for m,row in enumerate(c):\n",
    "        for n,i in enumerate(row):\n",
    "            if int(i) == 0 or int(i) == 4:\n",
    "                cand += [torch.tensor([[i * 0.25, i * 0.25], [i * 0.25, i * 0.25]])]\n",
    "            elif int(i) == 1:\n",
    "                cand += [torch.tensor([[1, 0], [0, 0]])]\n",
    "                cand += [torch.tensor([[0, 1], [0, 0]])]\n",
    "                cand += [torch.tensor([[0, 0], [1, 0]])]\n",
    "                cand += [torch.tensor([[0, 0], [0, 1]])]\n",
    "            elif int(i) == 2:\n",
    "                cand += [torch.tensor([[1, 1], [0, 0]])]\n",
    "                cand += [torch.tensor([[0, 0], [1, 1]])]\n",
    "                cand += [torch.tensor([[1, 0], [1, 0]])]\n",
    "                cand += [torch.tensor([[0, 1], [0, 1]])]\n",
    "                cand += [torch.tensor([[1, 0], [0, 1]])]\n",
    "                cand += [torch.tensor([[0, 1], [1, 0]])]\n",
    "            else:\n",
    "                cand += [torch.tensor([[1, 1], [1, 0]])]\n",
    "                cand += [torch.tensor([[1, 1], [0, 1]])]\n",
    "                cand += [torch.tensor([[1, 0], [1, 1]])]\n",
    "                cand += [torch.tensor([[0, 1], [1, 1]])]\n",
    "\n",
    "            candidates += [cand]\n",
    "            cand = []\n",
    "    return candidates\n",
    "#print(candidates)\n",
    "'''\n",
    "fin = []\n",
    "for i in candidates[0]:\n",
    "    for j in candidates[1]:\n",
    "        for k in candidates[2]:\n",
    "            for l in candidates[3]:\n",
    "                \n",
    "                upperb = np.hstack((i, j))\n",
    "                lowerb = np.hstack((k, l))\n",
    "                f = np.vstack((upperb, lowerb))\n",
    "                fin += [f]\n",
    "print(len(fin))\n",
    "for i in fin:\n",
    "    print(i)\n",
    "'''\n"
   ]
  },
  {
   "cell_type": "code",
   "execution_count": null,
   "metadata": {},
   "outputs": [],
   "source": [
    "torch.vstack((torch.ones(3,4),torch.zeros(4)))"
   ]
  },
  {
   "cell_type": "code",
   "execution_count": null,
   "metadata": {},
   "outputs": [],
   "source": [
    "candidates = build_candidates(c)\n",
    "fins = build_mat(candidates)"
   ]
  },
  {
   "cell_type": "code",
   "execution_count": null,
   "metadata": {},
   "outputs": [],
   "source": [
    "def build_mat(candidates):\n",
    "    fin = []\n",
    "    for i in candidates[0]:\n",
    "        for j in candidates[1]:\n",
    "            for k in candidates[2]:\n",
    "                for l in candidates[3]:\n",
    "                    \n",
    "                    upperb = np.hstack((i, j))\n",
    "                    lowerb = np.hstack((k, l))\n",
    "                    f = np.vstack((upperb, lowerb))\n",
    "                    fin += [f]\n",
    "    return torch.tensor(fin)\n",
    "    \n",
    "def split(c):\n",
    "    cs = []\n",
    "    i,j = 0,0\n",
    "    for _ in range(c.shape[0]):\n",
    "        for _ in range(c.shape[1]):\n",
    "            if i%2 == 0 and j%2 == 0:\n",
    "                try:\n",
    "                    chat = c[i:i+2, j:j+2]\n",
    "                    cs += [chat]\n",
    "                except:\n",
    "                    print('oh noez', i,j)\n",
    "            i += 1\n",
    "            if i >= A.shape[0]:\n",
    "                i = 0\n",
    "        j += 1\n",
    "        if j >= A.shape[1]:\n",
    "                j = 0\n",
    "    return cs\n",
    "\n",
    "def divide(box):\n",
    "    \n",
    "    m = box.shape[0]\n",
    "    n = box.shape[1]\n",
    "    box1 = box[0:m//2, 0:n//2]\n",
    "    box2 = box[0:m//2, n//2:]\n",
    "    box3 = box[m//2:, 0:n//2]\n",
    "    box4 = box[m//2:, n//2:]\n",
    "    \n",
    "    return [box1, box2, box3, box4]\n",
    "nest_level = 2\n",
    "act_level = 0\n",
    "def nested(act_level, nest_level, box):\n",
    "    if act_level == nest_level:\n",
    "        return box\n",
    "    else:\n",
    "        act_level += 1\n",
    "        box = divide(box)\n",
    "        return nested(act_level, nest_level, box)"
   ]
  },
  {
   "cell_type": "code",
   "execution_count": null,
   "metadata": {},
   "outputs": [],
   "source": [
    "finss = []\n",
    "rowc = []\n",
    "i,j = 0,0\n",
    "for chat in splitted:\n",
    "    candidates = build_candidates(chat)\n",
    "    fins = build_mat(candidates)\n",
    "    finss += [fins]\n",
    "    i += 1\n",
    "    if i > 1:\n",
    "        for mats1 in finss[0]:\n",
    "            for mats2 in finss[1]:\n",
    "                rowc += [np.vstack(mats1, mats2)]\n",
    "        finss = []\n",
    "        j += 1\n",
    "        i = 0\n",
    "    if j >= c.shape[0] // 2:\n",
    "        \n",
    "                \n",
    "            \n",
    "    \n"
   ]
  },
  {
   "cell_type": "code",
   "execution_count": null,
   "metadata": {},
   "outputs": [],
   "source": [
    "import math\n",
    "math.factorial(4)"
   ]
  },
  {
   "cell_type": "code",
   "execution_count": null,
   "metadata": {},
   "outputs": [],
   "source": [
    "c"
   ]
  },
  {
   "cell_type": "code",
   "execution_count": null,
   "metadata": {},
   "outputs": [],
   "source": [
    "def build_candidates_shallow():\n",
    "    if end:\n",
    "        candidates = build_candidates_deep\n",
    "        fins = build_mat(candidates)\n",
    "        return fins\n",
    "    else:\n",
    "        candidates = build_candidates_shallow\n",
    "        fins = build_mat(candidates)\n",
    "        return fins\n"
   ]
  },
  {
   "cell_type": "code",
   "execution_count": null,
   "metadata": {},
   "outputs": [],
   "source": [
    "for element in boxlist:\n",
    "    if type(element) is list:\n",
    "        return func"
   ]
  },
  {
   "cell_type": "code",
   "execution_count": null,
   "metadata": {},
   "outputs": [],
   "source": [
    "64*864*576*864"
   ]
  },
  {
   "cell_type": "code",
   "execution_count": null,
   "metadata": {},
   "outputs": [],
   "source": [
    "fins = []\n",
    "c = np.array([[2,2],[2,2]])\n",
    "candidates = build_candidates(c)\n",
    "fin = build_mat(candidates)\n",
    "print(fin.reshape(-1, 16).shape)\n",
    "\n",
    "\n",
    "if False:\n",
    "    for boxxx in divide(c):\n",
    "        candidates = build_candidates(boxxx)\n",
    "        fin = build_mat(candidates)\n",
    "        fins += [fin]\n",
    "            \n"
   ]
  },
  {
   "cell_type": "code",
   "execution_count": null,
   "metadata": {},
   "outputs": [],
   "source": [
    "nest_level = 2\n",
    "act_level = 0\n",
    "def nested(act_level, nest_level, box):\n",
    "    if act_level == nest_level:\n",
    "        return divide(box)\n",
    "    else:\n",
    "        act_level += 1\n",
    "        try:\n",
    "            box = divide(box)\n",
    "        except:\n",
    "            \n",
    "            return nested(act_level, nest_level, box[act_level])\n",
    "print(nested(act_level, nest_level, c))\n",
    "        "
   ]
  },
  {
   "cell_type": "code",
   "execution_count": null,
   "metadata": {},
   "outputs": [],
   "source": [
    "def make_tuples(depth, n, start=0):\n",
    "    if depth == 0:\n",
    "        yield ()\n",
    "    else:\n",
    "        for x in range(start, n):\n",
    "            for t in make_tuples(depth - 1, n, x + 1):\n",
    "                yield (x,) + t"
   ]
  },
  {
   "cell_type": "code",
   "execution_count": null,
   "metadata": {},
   "outputs": [],
   "source": [
    "for (i1, i2, i3) in make_tuples(3, 10):\n",
    "\n",
    "    pass"
   ]
  },
  {
   "cell_type": "code",
   "execution_count": null,
   "metadata": {},
   "outputs": [],
   "source": [
    "init = 1\n",
    "def rec(box, init, divs=[]):\n",
    "    if init == 1:\n",
    "        init = 0\n",
    "        divs = []\n",
    "    if type(box) is list:\n",
    "        for b in box:\n",
    "            print(b)\n",
    "            divs.append([rec(b, init, divs)])\n",
    "    else:\n",
    "        box = divide(box)\n",
    "        \n",
    "        return rec(box, init)\n",
    "    \n",
    "    return divs\n",
    "\n",
    "print(rec(c, init))\n",
    "        "
   ]
  },
  {
   "cell_type": "code",
   "execution_count": null,
   "metadata": {},
   "outputs": [],
   "source": [
    "w = torch.tensor(np.array([[2,1],[2,4]]))\n",
    "w = torch.cat([w,w])\n",
    "print(w)\n",
    "print(w.reshape(-1,2,2))\n",
    "w.shape"
   ]
  },
  {
   "cell_type": "code",
   "execution_count": null,
   "metadata": {},
   "outputs": [],
   "source": [
    "w = torch.tensor(np.array([[2,1],[2,4]]))\n",
    "\n",
    "w[None, :].repeat(8, 1)"
   ]
  },
  {
   "cell_type": "code",
   "execution_count": null,
   "metadata": {},
   "outputs": [],
   "source": [
    "h = get_epoch_data_loader_new(1000, 32)\n",
    "for batch_id, (real, rtarget) in enumerate(h()):\n",
    "    print(batch_id, real.shape, rtarget.shape)"
   ]
  },
  {
   "cell_type": "code",
   "execution_count": null,
   "metadata": {},
   "outputs": [],
   "source": [
    "y = torch.tensor([[1,2],[3,4]])\n",
    "yy = y[None, :].repeat(10, 1)\n",
    "yy"
   ]
  },
  {
   "cell_type": "code",
   "execution_count": null,
   "metadata": {},
   "outputs": [],
   "source": [
    "def draw_mats(num_samples, shape=4):\n",
    "    return torch.tensor(np.round(np.random.rand(num_samples, shape, shape)), dtype=torch.float32)\n",
    "\n",
    "def count(A, stride=2):\n",
    "    i, j = 0, 0\n",
    "    M, N = A.shape[0], A.shape[1]\n",
    "   \n",
    "    c = torch.zeros(M//stride, N//stride)\n",
    "    for _ in range(M):\n",
    "        for _ in range(N):\n",
    "            if i%2 == 0 and j%2 == 0:\n",
    "                \n",
    "                c[i//2, j//2] += A[i, j]\n",
    "                c[i//2, j//2] += A[i+1, j]\n",
    "                c[i//2, j//2] += A[i, j+1]\n",
    "                c[i//2, j//2] += A[i+1, j+1]\n",
    "                \n",
    "            i += 1\n",
    "            if i >= M:\n",
    "                i = 0\n",
    "        j += 1\n",
    "        if j >= N:\n",
    "                j = 0\n",
    "    return torch.tensor(c, dtype=torch.float32)\n",
    "def forward_mat(x):\n",
    "    mats = torch.tensor([])\n",
    "    for i in range(x.shape[0]):\n",
    "        mats = torch.cat((mats, count(x[i])))        \n",
    "    return mats.reshape(x.shape[0], x.shape[1]//2, x.shape[1]//2)\n",
    "def get_epoch_data_loader_new(num_samples_per_epoch, batch_size):\n",
    "    x = draw_mats(num_samples_per_epoch)\n",
    "    y = forward_mat(x)\n",
    "    def epoch_data_loader_new():\n",
    "        for i in range(0, num_samples_per_epoch, batch_size):\n",
    "            yield x[i:i+batch_size].clone(), y[i:i+batch_size].clone()\n",
    "\n",
    "    return epoch_data_loader_new\n",
    "def build_candidates(c):\n",
    "    candidates = []\n",
    "    cand = []\n",
    "    for m,row in enumerate(c):\n",
    "        for n,i in enumerate(row):\n",
    "            if int(i) == 0 or int(i) == 4:\n",
    "                cand += [torch.tensor([[i * 0.25, i * 0.25], [i * 0.25, i * 0.25]])]\n",
    "            elif int(i) == 1:\n",
    "                cand += [torch.tensor([[1, 0], [0, 0]])]\n",
    "                cand += [torch.tensor([[0, 1], [0, 0]])]\n",
    "                cand += [torch.tensor([[0, 0], [1, 0]])]\n",
    "                cand += [torch.tensor([[0, 0], [0, 1]])]\n",
    "            elif int(i) == 2:\n",
    "                cand += [torch.tensor([[1, 1], [0, 0]])]\n",
    "                cand += [torch.tensor([[0, 0], [1, 1]])]\n",
    "                cand += [torch.tensor([[1, 0], [1, 0]])]\n",
    "                cand += [torch.tensor([[0, 1], [0, 1]])]\n",
    "                cand += [torch.tensor([[1, 0], [0, 1]])]\n",
    "                cand += [torch.tensor([[0, 1], [1, 0]])]\n",
    "            else:\n",
    "                cand += [torch.tensor([[1, 1], [1, 0]])]\n",
    "                cand += [torch.tensor([[1, 1], [0, 1]])]\n",
    "                cand += [torch.tensor([[1, 0], [1, 1]])]\n",
    "                cand += [torch.tensor([[0, 1], [1, 1]])]\n",
    "\n",
    "            candidates += [cand]\n",
    "            cand = []\n",
    "    return candidates\n",
    "\n",
    "def draw_mats_post(y):\n",
    "    fin = []\n",
    "    candidates = build_candidates(y)\n",
    "    for i in candidates[0]:\n",
    "        for j in candidates[1]:\n",
    "            for k in candidates[2]:\n",
    "                for l in candidates[3]:\n",
    "                    \n",
    "                    upperb = np.hstack((i, j))\n",
    "                    lowerb = np.hstack((k, l))\n",
    "                    f = np.vstack((upperb, lowerb))\n",
    "                    fin += [f]\n",
    "    return torch.tensor(fin, dtype=torch.float32)"
   ]
  },
  {
   "cell_type": "code",
   "execution_count": null,
   "metadata": {},
   "outputs": [],
   "source": [
    "def build_candidates_ind(c):\n",
    "    candidates = []\n",
    "    cand = []\n",
    "    for m,row in enumerate(c):\n",
    "        for n,i in enumerate(row):\n",
    "            if int(i) == 0:\n",
    "                cand += [np.array([])]\n",
    "            elif int(i) == 1:\n",
    "                cand += [np.array([(0,0)])]\n",
    "                cand += [np.array([(0,1)])]\n",
    "                cand += [np.array([(1,0)])]\n",
    "                cand += [np.array([(1,1)])]\n",
    "            elif int(i) == 2:\n",
    "                cand += [np.array([(0,0), (0,1)])]\n",
    "                cand += [np.array([(1,0), (1,1)])]\n",
    "                cand += [np.array([(0,0), (1,0)])]\n",
    "                cand += [np.array([(0,1), (1,1)])]\n",
    "                cand += [np.array([(0,0), (1,1)])]\n",
    "                cand += [np.array([(0,1), (1,0)])]\n",
    "            elif int(i) == 3:\n",
    "                cand += [np.array([(0,0), (0,1), (1,0)])]\n",
    "                cand += [np.array([(0,0), (0,1), (1,1)])]\n",
    "                cand += [np.array([(0,0), (1,0), (1,1)])]\n",
    "                cand += [np.array([(0,1), (1,0), (1,1)])]\n",
    "            else:\n",
    "                cand += [np.array([(0,0), (0,1), (1,0), (1,1)])]\n",
    "\n",
    "            candidates += [cand]\n",
    "            cand = []\n",
    "    return candidates"
   ]
  },
  {
   "cell_type": "code",
   "execution_count": null,
   "metadata": {},
   "outputs": [],
   "source": [
    "def build_from_2x2(c, mat, m=0, n=0):\n",
    "    for k, build_list in enumerate(build_candidates_ind(c)):\n",
    "    \n",
    "        r_ind = np.random.choice(len(build_list))\n",
    "        indicees = build_list[r_ind]\n",
    "        for index in indicees:\n",
    "            i = index[0]\n",
    "            j = index[1]\n",
    "            if k == 0:\n",
    "                mat[i+m, j+n] = 1\n",
    "            elif k == 1:\n",
    "                mat[i+m, j + 2 + n] = 1\n",
    "            elif k == 2:\n",
    "                mat[i + 2 + m, j+n] = 1\n",
    "            else:\n",
    "                mat[i+2+m, j+2+n] = 1\n",
    "    return mat\n"
   ]
  },
  {
   "cell_type": "code",
   "execution_count": null,
   "metadata": {},
   "outputs": [],
   "source": [
    "def reconstruct(shape, c):\n",
    "    splitted = split(c)\n",
    "    mat = np.zeros(shape)\n",
    "    m = 0\n",
    "    i, j = 0,0\n",
    "    for splitt in splitted:\n",
    "        mat = build_from_2x2(splitt, mat, i,j)\n",
    "\n",
    "        i += 4\n",
    "        m += 1\n",
    "\n",
    "        if m > 0 and m%int(shape/4) == 0:\n",
    "            j += 4\n",
    "            i = 0\n",
    "            m = 0\n",
    "            \n",
    "    return mat\n",
    "\n",
    "\n"
   ]
  },
  {
   "cell_type": "code",
   "execution_count": null,
   "metadata": {},
   "outputs": [],
   "source": [
    "for i in np.array([(1,1), (2,2), (2,1)]):\n",
    "    print(i+10)"
   ]
  },
  {
   "cell_type": "code",
   "execution_count": null,
   "metadata": {},
   "outputs": [],
   "source": [
    "np.zeros((23,23))"
   ]
  },
  {
   "cell_type": "code",
   "execution_count": null,
   "metadata": {},
   "outputs": [],
   "source": [
    "def build_block(candidates, num_samples=1):\n",
    "    blockmatrices = []\n",
    "    for i in range(num_samples):\n",
    "        block = []\n",
    "        \n",
    "        for build_list in candidates:\n",
    "            \n",
    "            ind = np.random.choice(len(build_list))\n",
    "            block += [build_list[ind]]\n",
    "        upperb = np.hstack((block[0], block[1]))\n",
    "        lowerb = np.hstack((block[2], block[3]))\n",
    "        blockM = np.vstack((upperb, lowerb))\n",
    "        blockmatrices += [blockM]\n",
    "    return blockmatrices"
   ]
  },
  {
   "cell_type": "code",
   "execution_count": null,
   "metadata": {},
   "outputs": [],
   "source": [
    "def build_big_block(blocks, num_samples=1):\n",
    "    bb = []\n",
    "    i = 0\n",
    "    for i in range(num_samples):\n",
    "        block = []\n",
    "        \n",
    "        while i < 4:\n",
    "            i += 1\n",
    "            ind = np.random.choice(len(blocks))\n",
    "            block += [blocks[ind]]\n",
    "        upperb = np.hstack((block[0], block[1]))\n",
    "        lowerb = np.hstack((block[2], block[3]))\n",
    "        blockM = np.vstack((upperb, lowerb))\n",
    "        bb += [blockM]\n",
    "    return bb\n",
    "    "
   ]
  },
  {
   "cell_type": "code",
   "execution_count": null,
   "metadata": {},
   "outputs": [],
   "source": [
    "y = torch.tensor([[1,2], [4,2]])\n",
    "c = build_candidates(y)\n",
    "m = build_block(c, 4)\n",
    "print(m)\n",
    "p = build_big_block(m, 1)\n",
    "#print(p)"
   ]
  },
  {
   "cell_type": "code",
   "execution_count": null,
   "metadata": {},
   "outputs": [],
   "source": [
    "ma = np.array([[1,2],[3,4]])\n",
    "ma[(0,0), (1,1)]"
   ]
  },
  {
   "cell_type": "code",
   "execution_count": null,
   "metadata": {},
   "outputs": [],
   "source": [
    "li = [(1,2),(3,4)]\n",
    "li[0]"
   ]
  },
  {
   "cell_type": "code",
   "execution_count": null,
   "metadata": {},
   "outputs": [],
   "source": [
    "16/4"
   ]
  },
  {
   "cell_type": "code",
   "execution_count": null,
   "metadata": {},
   "outputs": [],
   "source": [
    "for i in range(10):\n",
    "        data_loader = get_epoch_data_loader_new(2048, 64, 64)\n",
    "        print('t')\n",
    "        loss = gl(models, data_loader, opt_gen, opt_crit)"
   ]
  },
  {
   "cell_type": "code",
   "execution_count": null,
   "metadata": {},
   "outputs": [],
   "source": [
    "m = nn.AvgPool2d(2, stride=(2,2))\n",
    "inp = 10*torch.tensor(np.round(np.random.rand(2, 64, 64)), dtype=torch.float32)\n",
    "print(inp)\n",
    "output = m(inp)\n",
    "print(output)"
   ]
  },
  {
   "cell_type": "code",
   "execution_count": null,
   "metadata": {},
   "outputs": [],
   "source": [
    "int(2.5)"
   ]
  },
  {
   "cell_type": "code",
   "execution_count": null,
   "metadata": {},
   "outputs": [],
   "source": [
    "models = create_INN(7, 64,dimension=mat_dim**2,dimension_condition=int(mat_dim**2/4))\n",
    "sum(p.numel() for p in models.parameters() if p.requires_grad)"
   ]
  },
  {
   "cell_type": "code",
   "execution_count": null,
   "metadata": {},
   "outputs": [],
   "source": []
  }
 ],
 "metadata": {
  "kernelspec": {
   "display_name": "Python 3",
   "language": "python",
   "name": "python3"
  },
  "language_info": {
   "codemirror_mode": {
    "name": "ipython",
    "version": 3
   },
   "file_extension": ".py",
   "mimetype": "text/x-python",
   "name": "python",
   "nbconvert_exporter": "python",
   "pygments_lexer": "ipython3",
   "version": "3.8.5"
  }
 },
 "nbformat": 4,
 "nbformat_minor": 4
}
