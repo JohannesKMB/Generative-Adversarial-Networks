{
 "cells": [
  {
   "cell_type": "code",
   "execution_count": 32,
   "metadata": {},
   "outputs": [],
   "source": [
    "from torch.optim import Adam, SGD\n",
    "import torch\n",
    "import numpy as np\n",
    "import ot\n",
    "import matplotlib.pyplot as plt\n",
    "from tqdm import tqdm\n",
    "\n",
    "from Util_mixture import *\n",
    "#from Util import *"
   ]
  },
  {
   "cell_type": "code",
   "execution_count": 33,
   "metadata": {},
   "outputs": [],
   "source": [
    "from sklearn.datasets import fetch_openml\n",
    "import matplotlib.pyplot as plt\n",
    "import numpy as np"
   ]
  },
  {
   "cell_type": "code",
   "execution_count": 34,
   "metadata": {},
   "outputs": [
    {
     "data": {
      "image/png": "[encoded data removed]",
      "text/plain": [
       "<Figure size 288x108 with 1 Axes>"
      ]
     },
     "metadata": {
      "needs_background": "light"
     },
     "output_type": "display_data"
    }
   ],
   "source": [
    "mnist = fetch_openml('mnist_784')\n",
    "X = (mnist.data>127.5)*1.0\n",
    "X.shape\n",
    "plt.figure(figsize=(4,1.5))\n",
    "ax = plt.subplot(1,2,1); ax.set_title('before'); ax.imshow(X[2].reshape(28,28),cmap='gray')\n",
    "plt.show()"
   ]
  },
  {
   "cell_type": "code",
   "execution_count": 35,
   "metadata": {},
   "outputs": [],
   "source": [
    "#crit 4 layer\n",
    "#gen 4 layer \n",
    "class Critic_multin_big(nn.Module):\n",
    "    def __init__(self, img_dim, target_dim):\n",
    "        super().__init__()\n",
    "        self.crit = nn.Sequential(\n",
    "        nn.Linear(img_dim + img_dim + target_dim, 256),\n",
    "        nn.LeakyReLU(0.1),\n",
    "        nn.Linear(256,256),\n",
    "        nn.LeakyReLU(0.1),\n",
    "        nn.Linear(256,256),\n",
    "        nn.LeakyReLU(0.1),\n",
    "        nn.Linear(256,256),\n",
    "        nn.LeakyReLU(0.05),\n",
    "        nn.Linear(256,1)\n",
    "        )\n",
    "        \n",
    "    def forward(self, x, t, batch_size=64):\n",
    "        x = torch.cat((x, t.view(batch_size, -1)), dim=1)\n",
    "        return self.crit(x)\n",
    "class Generator_big(nn.Module):\n",
    "    def __init__(self, z_dim, img_dim, target_dim):\n",
    "        super().__init__()\n",
    "        self.gen = nn.Sequential(\n",
    "            nn.Linear(z_dim + target_dim, 256),\n",
    "            nn.LeakyReLU(0.1),\n",
    "            nn.Linear(256, 256),\n",
    "            nn.LeakyReLU(0.1),\n",
    "            nn.Linear(256,256),\n",
    "            nn.LeakyReLU(0.1),\n",
    "            nn.Linear(256, img_dim),\n",
    "            #nn.Tanh(),\n",
    "            nn.Sigmoid(),\n",
    "            #nn.LeakyReLU(0.1),\n",
    "        )\n",
    "    def forward(self, x):\n",
    "            return self.gen(x)\n",
    "def create_GAN(mat_dim, z_dim):\n",
    "    image_dim = mat_dim ** 2\n",
    "    target_dim = int(mat_dim ** 2 / 4)\n",
    "    \n",
    "    crit = Critic_multin_big(image_dim, target_dim).to(device)\n",
    "\n",
    "    gen = Generator_big(z_dim, image_dim, target_dim).to(device)\n",
    "    \n",
    "    return crit, gen\n",
    "\n",
    "def loss_W(crit_1, crit_2, crit_3):\n",
    "    return torch.mean(1/2 * (crit_1 + crit_2) - crit_3)\n",
    "\n",
    "def loss_Drift(crit):\n",
    "    return torch.mean(crit ** 2)\n",
    "\n",
    "def loss_gp(fake1, fake2, real, rtarget, crit, batch_size):\n",
    "    t = rtarget.clone().detach().requires_grad_(True)\n",
    "    eps = torch.rand(1).to(device)\n",
    "    XX1 = torch.cat((eps * real + (1 - eps) * fake1, eps * fake1 + (1 - eps) * fake2), dim=1)\n",
    "    XX2 = torch.cat((eps * fake1 + (1 - eps) * fake1, eps * real + (1 - eps) * fake2), dim=1)\n",
    "    D1 = crit(XX1, t, batch_size)\n",
    "    D2 = crit(XX2, t, batch_size)\n",
    "    \n",
    "    '''\n",
    "    Gamma = torch.zeros_like(torch.empty(batch_size, 1))\n",
    "    for i in range(batch_size):\n",
    "        Gamma[i] = 1/2 * (torch.autograd.grad(D1[i,:], XX1[i,:])[0] + torch.autograd.grad(D2[i,:], XX2[i,:])[0])\n",
    "    '''\n",
    "    Gamma1 = torch.autograd.grad(\n",
    "        inputs=[XX1, t], \n",
    "        outputs=D1,\n",
    "        grad_outputs=torch.ones_like(D1),\n",
    "        create_graph=True,\n",
    "        retain_graph=True)[0]\n",
    "    Gamma2 = torch.autograd.grad(\n",
    "        inputs=[XX2, t], \n",
    "        outputs=D2,\n",
    "        grad_outputs=torch.ones_like(D2),\n",
    "        create_graph=True,\n",
    "        retain_graph=True)[0]\n",
    "    \n",
    "    Gamma = 1/2 * (Gamma1 + Gamma2)\n",
    "    \n",
    "    return torch.mean((torch.norm(Gamma, p=2) - 1) ** 2)\n",
    "\n",
    "def gl(models, data_loader, opt_gen, opt_crit, z_dim, mat_dim, n_critic=10):\n",
    "    \n",
    "    crit = models[0]\n",
    "    gen = models[1]\n",
    "    for batch_id, (real, rtarget) in enumerate(data_loader()):\n",
    "    \n",
    "    \n",
    "    \n",
    "        batch_size = real.shape[0]\n",
    "        #print('training data', real.shape, rtarget.shape)\n",
    "\n",
    "        real = real.view(-1, mat_dim ** 2).to(device)\n",
    "        rtarget = rtarget.view(-1, int(mat_dim ** 2 / 4)).to(device)\n",
    "        #print(real.shape, rtarget.shape)\n",
    "        #print(rtarget)\n",
    "\n",
    "        noise1 = torch.randn(batch_size, z_dim).to(device)\n",
    "        noise2 = torch.randn(batch_size, z_dim).to(device)\n",
    "        #print('1', noise1.shape)\n",
    "        noise1 = torch.cat((noise1, rtarget.view(batch_size,-1)), dim=1)\n",
    "        noise2 = torch.cat((noise2, rtarget.view(batch_size,-1)), dim=1)\n",
    "        #print('1', noise1.shape)\n",
    "\n",
    "        fake1 = gen(noise1)\n",
    "        fake2 = gen(noise2)\n",
    "\n",
    "        inp1 = torch.cat((real, fake1), dim=1)\n",
    "        inp2 = torch.cat((fake2, real), dim=1)\n",
    "        inp3 = torch.cat((fake1, fake2), dim=1)\n",
    "\n",
    "        crit1 = crit(inp1, rtarget, batch_size).view(-1)\n",
    "        crit2 = crit(inp2, rtarget, batch_size).view(-1)\n",
    "        crit3 = crit(inp3, rtarget, batch_size).view(-1)\n",
    "\n",
    "        L_G = loss_W(crit1, crit2, crit3) \n",
    "        gen.zero_grad()\n",
    "\n",
    "        L_G.backward()\n",
    "        opt_gen.step()\n",
    "        for _ in range(n_critic):\n",
    "            noise1 = torch.randn(batch_size, z_dim).to(device)\n",
    "            noise2 = torch.randn(batch_size, z_dim).to(device)\n",
    "\n",
    "            noise1 = torch.cat((noise1, rtarget.view(batch_size,-1)), dim=1).to(device)\n",
    "            noise2 = torch.cat((noise2, rtarget.view(batch_size,-1)), dim=1).to(device)\n",
    "\n",
    "            fake1 = gen(noise1)\n",
    "            fake2 = gen(noise2)\n",
    "\n",
    "            inp1 = torch.cat((real, fake1), dim=1)\n",
    "            inp2 = torch.cat((fake2, real), dim=1)\n",
    "            inp3 = torch.cat((fake1, fake2), dim=1)\n",
    "            inp4 = torch.cat((real, real), dim=1)\n",
    "\n",
    "            crit1 = crit(inp1, rtarget, batch_size).view(-1)\n",
    "            crit2 = crit(inp2, rtarget, batch_size).view(-1)\n",
    "            crit3 = crit(inp3, rtarget, batch_size).view(-1)\n",
    "            crit4 = crit(inp4, rtarget, batch_size).view(-1)\n",
    "            \n",
    "            a = loss_W(crit1, crit2, crit3)\n",
    "            b = loss_Drift(crit4)\n",
    "            c = loss_gp(fake1, fake2, real, rtarget, crit, batch_size)\n",
    "\n",
    "            L_D = (\n",
    "           -a + 1e-3 * b + 10 * c\n",
    "                )\n",
    "\n",
    "            crit.zero_grad()\n",
    "            L_D.backward(retain_graph=True)\n",
    "            opt_crit.step()\n",
    "            \n",
    "            \n",
    "    return L_D.item(), -a.item(), b.item(), c.item()"
   ]
  },
  {
   "cell_type": "code",
   "execution_count": 91,
   "metadata": {},
   "outputs": [],
   "source": [
    "def train_and_eval(testing_ys, mat_dim, z_dim):\n",
    "    \n",
    "    loss_Ds, loss_Ws, loss_drifts, loss_gps = [], [], [], []\n",
    "\n",
    "\n",
    "    #models = create_SNF(4,256)\n",
    "    #4models\n",
    "    models = create_GAN(mat_dim, z_dim)\n",
    "    params  = []\n",
    "    for i in range(len(models)):\n",
    "        params += models[i].parameters()\n",
    "\n",
    "\n",
    "\n",
    "    #optimizer = Adam(params, lr = 1e-4)\n",
    "    #1e-4 0.185\n",
    "    #2e-4 0.2\n",
    "    #5e-5 0.17\n",
    "    #3e-5 0.18\n",
    "    #7e-5 0.22\n",
    "    #lr = 5e-5 wdist 15.7\n",
    "    lr = 1e-5\n",
    "    opt_crit = Adam(models[0].parameters(), lr=lr, betas=(0.5, 0.9), weight_decay=10e-4)\n",
    "    opt_gen = Adam(models[1].parameters(), lr=lr, betas=(0.5, 0.9), weight_decay=10e-4) \n",
    "\n",
    "\n",
    "\n",
    "    #700 0.16\n",
    "    #1000 0.149\n",
    "\n",
    "    num_epochs = 100#50#600#8\n",
    "    \n",
    "    batch_size = 64#128#64#\n",
    "    \n",
    "    num_samples_per_epoch = 2048#1024#6400\n",
    "\n",
    "    prog_bar = tqdm(total=num_epochs)\n",
    "    for i in range(num_epochs):\n",
    "        data_loader = get_epoch_data_loader_new(num_samples_per_epoch, batch_size, mat_dim)\n",
    "        loss_D, loss_W, loss_drift, loss_gp = gl(models, data_loader, opt_gen, opt_crit, z_dim, mat_dim)\n",
    "        loss_Ds += [loss_D]\n",
    "        loss_Ws += [loss_W]\n",
    "        loss_drifts += [loss_drift]\n",
    "        loss_gps += [loss_gp]\n",
    "        \n",
    "        #loss = train_inn_epoch(optimizer, models, params, b, data_loader, forward_map, mixture_params, convex_comb_factor=convex_comb_factor)\n",
    "\n",
    "        prog_bar.set_description('loss: {:.4f}'.format(loss_D))\n",
    "        prog_bar.update()\n",
    "    prog_bar.close()\n",
    "\n",
    "\n",
    "    \n",
    "\n",
    "    return models, loss_Ds, loss_Ws, loss_drifts, loss_gps"
   ]
  },
  {
   "cell_type": "code",
   "execution_count": 92,
   "metadata": {},
   "outputs": [],
   "source": [
    "def eval(testing_ys, mat_dim, z_dim):\n",
    "    result = []\n",
    "    testing_x_per_y = 2048\n",
    "    weights1, weights2 = np.ones((testing_x_per_y,)) / testing_x_per_y, np.ones((testing_x_per_y,)) / testing_x_per_y\n",
    "\n",
    "    weights1 = weights1.astype(np.float64)\n",
    "    weights2 = weights2.astype(np.float64)\n",
    "    w1 = 0.\n",
    "\n",
    "    testing_num_y = len(testing_ys)\n",
    "    prog_bar = tqdm(total=testing_num_y)\n",
    "    prog_bar.set_description('Computing Wasserstein distances')\n",
    "    for i, y in enumerate(testing_ys):\n",
    "        #true_posterior_params = get_mixture_posterior(mixture_params, forward_map, b**2 * torch.eye(DIMENSION, device=device), y)\n",
    "        #true_posterior_samples = draw_mixture_dist(true_posterior_params, testing_x_per_y).cpu().numpy()\n",
    "        true_posterior_samples = draw_posterior_matrix(y, mat_dim, testing_x_per_y)\n",
    "        inflated_ys = y.flatten()[None, :].repeat(testing_x_per_y, 1)\n",
    "        #true_post = true_posterior_samples.reshape(-1, mat_dim, mat_dim)\n",
    "        true_post = true_posterior_samples.reshape(-1, mat_dim ** 2)\n",
    "        noise1 = torch.randn(testing_x_per_y, z_dim).to(device)\n",
    "        rtarget = inflated_ys\n",
    "        #testinp = torch.cat((noise1, rtarget.view(testing_x_per_y,-1)), dim=1)\n",
    "        testinp = torch.cat((noise1, rtarget.view(testing_x_per_y, -1)), dim=1)\n",
    "\n",
    "        samples1 = models[1](testinp).detach().cpu().numpy()\n",
    "        #print(y, samples1.shape)\n",
    "        #samples1 = samples1.reshape(testing_x_per_y, mat_dim,mat_dim)\n",
    "        samples1 = samples1.reshape(testing_x_per_y, mat_dim* mat_dim)\n",
    "        result += [samples1]\n",
    "        #print(np.round(samples1[0]))\n",
    "\n",
    "        #samples1 = forward_SNF(torch.randn(testing_x_per_y, DIMENSION, device=device), models, b, inflated_ys, mixture_params, forward_map)[0].detach().cpu().numpy()\n",
    "        \n",
    "        #samples2 = forward_SNF_det(torch.randn(testing_x_per_y, DIMENSION, device=device), models, b, inflated_ys, mixture_params, forward_map)[0].detach().cpu().numpy()\n",
    "        print(f'samples: {samples1.shape}, true: {true_post.shape}')\n",
    "        M1 = ot.dist(torch.tensor(samples1, dtype=torch.float32), true_post)\n",
    "\n",
    "        w1 += ot.emd2(weights1, weights2, M1)\n",
    "        prog_bar.set_description('W: {:.3f}'.format(w1 / (i + 1)))\n",
    "        prog_bar.update()\n",
    "    prog_bar.close()\n",
    "    print('Wasserstein:', w1 / testing_num_y)\n",
    "    return result\n",
    "    \n",
    "\n"
   ]
  },
  {
   "cell_type": "code",
   "execution_count": 93,
   "metadata": {},
   "outputs": [],
   "source": [
    "result_list = []\n",
    "\n",
    "testing_num_y = 100\n",
    "mat_dim = 8\n",
    "#mat_dim = 16\n",
    "z_dim = mat_dim\n",
    "#z_dim = 100\n",
    "\n",
    "#forward_map = create_forward_model(scale=0.02)"
   ]
  },
  {
   "cell_type": "code",
   "execution_count": 94,
   "metadata": {},
   "outputs": [
    {
     "data": {
      "text/plain": [
       "'forward keine id mehr scale=scale/i+1\\nmehr dimensionen\\nvgl inn\\nmixture parameter randomizen'"
      ]
     },
     "execution_count": 94,
     "metadata": {},
     "output_type": "execute_result"
    }
   ],
   "source": [
    "'''forward keine id mehr scale=scale/i+1\n",
    "mehr dimensionen\n",
    "vgl inn\n",
    "mixture parameter randomizen'''"
   ]
  },
  {
   "cell_type": "code",
   "execution_count": 95,
   "metadata": {},
   "outputs": [],
   "source": [
    "#testing_xs = draw_x_mats(testing_num_y, mat_dim, z_dim)\n",
    "testing_xs = draw_x_mats(100, mat_dim)\n",
    "\n",
    "#print('testing x', testing_xs.shape)\n",
    "                \n",
    "testing_ys = forward_mat(testing_xs)\n",
    "#print(testing_xs.shape, testing_ys.shape)\n"
   ]
  },
  {
   "cell_type": "code",
   "execution_count": 96,
   "metadata": {},
   "outputs": [
    {
     "name": "stderr",
     "output_type": "stream",
     "text": [
      "\n",
      "  0%|          | 0/100 [00:00<?, ?it/s]\u001b[A\n",
      "loss: 0.0046:   0%|          | 0/100 [00:07<?, ?it/s]\u001b[A\n",
      "loss: 0.0046:   1%|          | 1/100 [00:07<12:37,  7.65s/it]\u001b[A\n",
      "loss: -0.0142:   1%|          | 1/100 [00:15<12:37,  7.65s/it]\u001b[A\n",
      "loss: -0.0142:   2%|▏         | 2/100 [00:15<12:38,  7.74s/it]\u001b[A\n",
      "loss: -0.0359:   2%|▏         | 2/100 [00:23<12:38,  7.74s/it]\u001b[A\n",
      "loss: -0.0359:   3%|▎         | 3/100 [00:23<12:35,  7.79s/it]\u001b[A\n",
      "loss: -0.0593:   3%|▎         | 3/100 [00:31<12:35,  7.79s/it]\u001b[A\n",
      "loss: -0.0593:   4%|▍         | 4/100 [00:31<12:25,  7.76s/it]\u001b[A\n",
      "loss: -0.0832:   4%|▍         | 4/100 [00:38<12:25,  7.76s/it]\u001b[A\n",
      "loss: -0.0832:   5%|▌         | 5/100 [00:38<12:17,  7.77s/it]\u001b[A\n",
      "loss: -0.1141:   5%|▌         | 5/100 [00:46<12:17,  7.77s/it]\u001b[A\n",
      "loss: -0.1141:   6%|▌         | 6/100 [00:46<12:09,  7.77s/it]\u001b[A\n",
      "loss: -0.1414:   6%|▌         | 6/100 [00:54<12:09,  7.77s/it]\u001b[A\n",
      "loss: -0.1414:   7%|▋         | 7/100 [00:54<12:10,  7.85s/it]\u001b[A\n",
      "loss: -0.1616:   7%|▋         | 7/100 [01:02<12:10,  7.85s/it]\u001b[A\n",
      "loss: -0.1616:   8%|▊         | 8/100 [01:02<12:01,  7.84s/it]\u001b[A\n",
      "loss: -0.1752:   8%|▊         | 8/100 [01:11<12:01,  7.84s/it]\u001b[A\n",
      "loss: -0.1752:   9%|▉         | 9/100 [01:11<12:17,  8.11s/it]\u001b[A\n",
      "loss: -0.1876:   9%|▉         | 9/100 [01:19<12:17,  8.11s/it]\u001b[A\n",
      "loss: -0.1876:  10%|█         | 10/100 [01:19<12:02,  8.03s/it]\u001b[A\n",
      "loss: -0.2046:  10%|█         | 10/100 [01:27<12:02,  8.03s/it]\u001b[A\n",
      "loss: -0.2046:  11%|█         | 11/100 [01:27<12:03,  8.12s/it]\u001b[A\n",
      "loss: -0.2173:  11%|█         | 11/100 [01:35<12:03,  8.12s/it]\u001b[A\n",
      "loss: -0.2173:  12%|█▏        | 12/100 [01:35<11:53,  8.11s/it]\u001b[A\n",
      "loss: -0.2261:  12%|█▏        | 12/100 [01:43<11:53,  8.11s/it]\u001b[A\n",
      "loss: -0.2261:  13%|█▎        | 13/100 [01:43<11:43,  8.09s/it]\u001b[A\n",
      "loss: -0.2379:  13%|█▎        | 13/100 [01:51<11:43,  8.09s/it]\u001b[A\n",
      "loss: -0.2379:  14%|█▍        | 14/100 [01:51<11:30,  8.03s/it]\u001b[A\n",
      "loss: -0.2499:  14%|█▍        | 14/100 [01:59<11:30,  8.03s/it]\u001b[A\n",
      "loss: -0.2499:  15%|█▌        | 15/100 [01:59<11:22,  8.02s/it]\u001b[A\n",
      "loss: -0.2704:  15%|█▌        | 15/100 [02:07<11:22,  8.02s/it]\u001b[A\n",
      "loss: -0.2704:  16%|█▌        | 16/100 [02:07<11:21,  8.11s/it]\u001b[A\n",
      "loss: -0.2705:  16%|█▌        | 16/100 [02:16<11:21,  8.11s/it]\u001b[A\n",
      "loss: -0.2705:  17%|█▋        | 17/100 [02:16<11:25,  8.26s/it]\u001b[A\n",
      "loss: -0.2875:  17%|█▋        | 17/100 [02:25<11:25,  8.26s/it]\u001b[A\n",
      "loss: -0.2875:  18%|█▊        | 18/100 [02:25<11:28,  8.40s/it]\u001b[A\n",
      "loss: -0.3017:  18%|█▊        | 18/100 [02:33<11:28,  8.40s/it]\u001b[A\n",
      "loss: -0.3017:  19%|█▉        | 19/100 [02:33<11:09,  8.27s/it]\u001b[A\n",
      "loss: -0.3206:  19%|█▉        | 19/100 [02:40<11:09,  8.27s/it]\u001b[A\n",
      "loss: -0.3206:  20%|██        | 20/100 [02:40<10:50,  8.13s/it]\u001b[A\n",
      "loss: -0.3345:  20%|██        | 20/100 [02:49<10:50,  8.13s/it]\u001b[A\n",
      "loss: -0.3345:  21%|██        | 21/100 [02:49<10:42,  8.13s/it]\u001b[A\n",
      "loss: -0.3457:  21%|██        | 21/100 [02:57<10:42,  8.13s/it]\u001b[A\n",
      "loss: -0.3457:  22%|██▏       | 22/100 [02:57<10:43,  8.25s/it]\u001b[A\n",
      "loss: -0.3590:  22%|██▏       | 22/100 [03:05<10:43,  8.25s/it]\u001b[A\n",
      "loss: -0.3590:  23%|██▎       | 23/100 [03:05<10:21,  8.07s/it]\u001b[A\n",
      "loss: -0.3804:  23%|██▎       | 23/100 [03:13<10:21,  8.07s/it]\u001b[A\n",
      "loss: -0.3804:  24%|██▍       | 24/100 [03:13<10:09,  8.02s/it]\u001b[A\n",
      "loss: -0.4024:  24%|██▍       | 24/100 [03:20<10:09,  8.02s/it]\u001b[A\n",
      "loss: -0.4024:  25%|██▌       | 25/100 [03:20<09:55,  7.94s/it]\u001b[A\n",
      "loss: -0.4092:  25%|██▌       | 25/100 [03:28<09:55,  7.94s/it]\u001b[A\n",
      "loss: -0.4092:  26%|██▌       | 26/100 [03:28<09:42,  7.87s/it]\u001b[A\n",
      "loss: -0.4182:  26%|██▌       | 26/100 [03:36<09:42,  7.87s/it]\u001b[A\n",
      "loss: -0.4182:  27%|██▋       | 27/100 [03:36<09:36,  7.90s/it]\u001b[A\n",
      "loss: -0.4442:  27%|██▋       | 27/100 [03:45<09:36,  7.90s/it]\u001b[A\n",
      "loss: -0.4442:  28%|██▊       | 28/100 [03:45<09:42,  8.09s/it]\u001b[A\n",
      "loss: -0.4478:  28%|██▊       | 28/100 [03:52<09:42,  8.09s/it]\u001b[A\n",
      "loss: -0.4478:  29%|██▉       | 29/100 [03:52<09:26,  7.98s/it]\u001b[A\n",
      "loss: -0.3904:  29%|██▉       | 29/100 [04:00<09:26,  7.98s/it]\u001b[A\n",
      "loss: -0.3904:  30%|███       | 30/100 [04:00<09:10,  7.86s/it]\u001b[A\n",
      "loss: -0.4612:  30%|███       | 30/100 [04:07<09:10,  7.86s/it]\u001b[A\n",
      "loss: -0.4612:  31%|███       | 31/100 [04:07<08:53,  7.73s/it]\u001b[A\n",
      "loss: -0.4540:  31%|███       | 31/100 [04:15<08:53,  7.73s/it]\u001b[A\n",
      "loss: -0.4540:  32%|███▏      | 32/100 [04:15<08:52,  7.83s/it]\u001b[A\n",
      "loss: -0.4740:  32%|███▏      | 32/100 [04:23<08:52,  7.83s/it]\u001b[A\n",
      "loss: -0.4740:  33%|███▎      | 33/100 [04:23<08:47,  7.87s/it]\u001b[A\n",
      "loss: -0.4732:  33%|███▎      | 33/100 [04:31<08:47,  7.87s/it]\u001b[A\n",
      "loss: -0.4732:  34%|███▍      | 34/100 [04:31<08:42,  7.92s/it]\u001b[A\n",
      "loss: -0.4593:  34%|███▍      | 34/100 [04:39<08:42,  7.92s/it]\u001b[A\n",
      "loss: -0.4593:  35%|███▌      | 35/100 [04:39<08:24,  7.76s/it]\u001b[A\n",
      "loss: -0.4822:  35%|███▌      | 35/100 [04:46<08:24,  7.76s/it]\u001b[A\n",
      "loss: -0.4822:  36%|███▌      | 36/100 [04:46<08:07,  7.62s/it]\u001b[A\n",
      "loss: -0.4780:  36%|███▌      | 36/100 [04:53<08:07,  7.62s/it]\u001b[A\n",
      "loss: -0.4780:  37%|███▋      | 37/100 [04:53<07:48,  7.44s/it]\u001b[A\n",
      "loss: -0.4960:  37%|███▋      | 37/100 [05:00<07:48,  7.44s/it]\u001b[A\n",
      "loss: -0.4960:  38%|███▊      | 38/100 [05:00<07:35,  7.35s/it]\u001b[A\n",
      "loss: -0.4971:  38%|███▊      | 38/100 [05:07<07:35,  7.35s/it]\u001b[A\n",
      "loss: -0.4971:  39%|███▉      | 39/100 [05:07<07:25,  7.30s/it]\u001b[A\n",
      "loss: -0.4870:  39%|███▉      | 39/100 [05:15<07:25,  7.30s/it]\u001b[A\n",
      "loss: -0.4870:  40%|████      | 40/100 [05:15<07:17,  7.29s/it]\u001b[A\n",
      "loss: -0.5018:  40%|████      | 40/100 [05:22<07:17,  7.29s/it]\u001b[A\n",
      "loss: -0.5018:  41%|████      | 41/100 [05:22<07:03,  7.17s/it]\u001b[A\n",
      "loss: -0.4992:  41%|████      | 41/100 [05:29<07:03,  7.17s/it]\u001b[A\n",
      "loss: -0.4992:  42%|████▏     | 42/100 [05:29<06:54,  7.15s/it]\u001b[A\n",
      "loss: -0.5068:  42%|████▏     | 42/100 [05:36<06:54,  7.15s/it]\u001b[A\n",
      "loss: -0.5068:  43%|████▎     | 43/100 [05:36<06:56,  7.30s/it]\u001b[A\n",
      "loss: -0.5009:  43%|████▎     | 43/100 [05:44<06:56,  7.30s/it]\u001b[A\n",
      "loss: -0.5009:  44%|████▍     | 44/100 [05:44<06:46,  7.26s/it]\u001b[A\n",
      "loss: -0.5080:  44%|████▍     | 44/100 [05:51<06:46,  7.26s/it]\u001b[A\n",
      "loss: -0.5080:  45%|████▌     | 45/100 [05:51<06:43,  7.34s/it]\u001b[A\n",
      "loss: 0.1551:  45%|████▌     | 45/100 [05:58<06:43,  7.34s/it] \u001b[A\n",
      "loss: 0.1551:  46%|████▌     | 46/100 [05:58<06:36,  7.34s/it]\u001b[A\n",
      "loss: -0.5059:  46%|████▌     | 46/100 [06:06<06:36,  7.34s/it]\u001b[A\n",
      "loss: -0.5059:  47%|████▋     | 47/100 [06:06<06:34,  7.44s/it]\u001b[A\n",
      "loss: -0.5104:  47%|████▋     | 47/100 [06:13<06:34,  7.44s/it]\u001b[A\n",
      "loss: -0.5104:  48%|████▊     | 48/100 [06:13<06:22,  7.35s/it]\u001b[A\n",
      "loss: -0.5150:  48%|████▊     | 48/100 [06:20<06:22,  7.35s/it]\u001b[A\n",
      "loss: -0.5150:  49%|████▉     | 49/100 [06:20<06:10,  7.26s/it]\u001b[A\n",
      "loss: -0.5037:  49%|████▉     | 49/100 [06:27<06:10,  7.26s/it]\u001b[A\n",
      "loss: -0.5037:  50%|█████     | 50/100 [06:27<05:57,  7.14s/it]\u001b[A\n",
      "loss: -0.5096:  50%|█████     | 50/100 [06:34<05:57,  7.14s/it]\u001b[A\n",
      "loss: -0.5096:  51%|█████     | 51/100 [06:34<05:48,  7.11s/it]\u001b[A\n",
      "loss: -0.5207:  51%|█████     | 51/100 [06:42<05:48,  7.11s/it]\u001b[A\n",
      "loss: -0.5207:  52%|█████▏    | 52/100 [06:42<05:47,  7.24s/it]\u001b[A\n",
      "loss: -0.5113:  52%|█████▏    | 52/100 [06:49<05:47,  7.24s/it]\u001b[A\n",
      "loss: -0.5113:  53%|█████▎    | 53/100 [06:49<05:47,  7.40s/it]\u001b[A\n",
      "loss: -0.5056:  53%|█████▎    | 53/100 [06:57<05:47,  7.40s/it]\u001b[A\n",
      "loss: -0.5056:  54%|█████▍    | 54/100 [06:57<05:35,  7.29s/it]\u001b[A\n",
      "loss: -0.5025:  54%|█████▍    | 54/100 [07:04<05:35,  7.29s/it]\u001b[A\n",
      "loss: -0.5025:  55%|█████▌    | 55/100 [07:04<05:27,  7.28s/it]\u001b[A\n",
      "loss: -0.5264:  55%|█████▌    | 55/100 [07:11<05:27,  7.28s/it]\u001b[A\n",
      "loss: -0.5264:  56%|█████▌    | 56/100 [07:11<05:19,  7.27s/it]\u001b[A\n",
      "loss: -0.5235:  56%|█████▌    | 56/100 [07:18<05:19,  7.27s/it]\u001b[A\n",
      "loss: -0.5235:  57%|█████▋    | 57/100 [07:18<05:13,  7.29s/it]\u001b[A\n",
      "loss: -0.5261:  57%|█████▋    | 57/100 [07:26<05:13,  7.29s/it]\u001b[A\n",
      "loss: -0.5261:  58%|█████▊    | 58/100 [07:26<05:11,  7.43s/it]\u001b[A\n",
      "loss: -0.5356:  58%|█████▊    | 58/100 [07:33<05:11,  7.43s/it]\u001b[A\n",
      "loss: -0.5356:  59%|█████▉    | 59/100 [07:33<04:57,  7.26s/it]\u001b[A\n",
      "loss: -0.5311:  59%|█████▉    | 59/100 [07:40<04:57,  7.26s/it]\u001b[A\n",
      "loss: -0.5311:  60%|██████    | 60/100 [07:40<04:44,  7.12s/it]\u001b[A\n",
      "loss: -0.0121:  60%|██████    | 60/100 [07:46<04:44,  7.12s/it]\u001b[A\n",
      "loss: -0.0121:  61%|██████    | 61/100 [07:46<04:33,  7.00s/it]\u001b[A\n"
     ]
    },
    {
     "name": "stderr",
     "output_type": "stream",
     "text": [
      "loss: -0.2112:  61%|██████    | 61/100 [07:53<04:33,  7.00s/it]\u001b[A\n",
      "loss: -0.2112:  62%|██████▏   | 62/100 [07:53<04:21,  6.87s/it]\u001b[A\n",
      "loss: -0.5261:  62%|██████▏   | 62/100 [08:00<04:21,  6.87s/it]\u001b[A\n",
      "loss: -0.5261:  63%|██████▎   | 63/100 [08:00<04:16,  6.93s/it]\u001b[A\n",
      "loss: -0.5351:  63%|██████▎   | 63/100 [08:07<04:16,  6.93s/it]\u001b[A\n",
      "loss: -0.5351:  64%|██████▍   | 64/100 [08:07<04:12,  7.01s/it]\u001b[A\n",
      "loss: -0.5244:  64%|██████▍   | 64/100 [08:14<04:12,  7.01s/it]\u001b[A\n",
      "loss: -0.5244:  65%|██████▌   | 65/100 [08:14<04:05,  7.01s/it]\u001b[A\n",
      "loss: -0.5338:  65%|██████▌   | 65/100 [08:21<04:05,  7.01s/it]\u001b[A\n",
      "loss: -0.5338:  66%|██████▌   | 66/100 [08:21<03:58,  7.00s/it]\u001b[A\n",
      "loss: -0.3464:  66%|██████▌   | 66/100 [08:28<03:58,  7.00s/it]\u001b[A\n",
      "loss: -0.3464:  67%|██████▋   | 67/100 [08:28<03:52,  7.05s/it]\u001b[A\n",
      "loss: -0.5381:  67%|██████▋   | 67/100 [08:36<03:52,  7.05s/it]\u001b[A\n",
      "loss: -0.5381:  68%|██████▊   | 68/100 [08:36<03:50,  7.21s/it]\u001b[A\n",
      "loss: -0.5243:  68%|██████▊   | 68/100 [08:43<03:50,  7.21s/it]\u001b[A\n",
      "loss: -0.5243:  69%|██████▉   | 69/100 [08:43<03:43,  7.22s/it]\u001b[A\n",
      "loss: -0.5447:  69%|██████▉   | 69/100 [08:50<03:43,  7.22s/it]\u001b[A\n",
      "loss: -0.5447:  70%|███████   | 70/100 [08:50<03:34,  7.16s/it]\u001b[A\n",
      "loss: -0.5412:  70%|███████   | 70/100 [08:58<03:34,  7.16s/it]\u001b[A\n",
      "loss: -0.5412:  71%|███████   | 71/100 [08:58<03:28,  7.19s/it]\u001b[A\n",
      "loss: -0.5615:  71%|███████   | 71/100 [09:04<03:28,  7.19s/it]\u001b[A\n",
      "loss: -0.5615:  72%|███████▏  | 72/100 [09:04<03:18,  7.10s/it]\u001b[A\n",
      "loss: -0.5544:  72%|███████▏  | 72/100 [09:11<03:18,  7.10s/it]\u001b[A\n",
      "loss: -0.5544:  73%|███████▎  | 73/100 [09:11<03:10,  7.06s/it]\u001b[A\n",
      "loss: -0.5401:  73%|███████▎  | 73/100 [09:18<03:10,  7.06s/it]\u001b[A\n",
      "loss: -0.5401:  74%|███████▍  | 74/100 [09:18<03:02,  7.01s/it]\u001b[A\n",
      "loss: -0.5532:  74%|███████▍  | 74/100 [09:25<03:02,  7.01s/it]\u001b[A\n",
      "loss: -0.5532:  75%|███████▌  | 75/100 [09:25<02:54,  6.98s/it]\u001b[A\n",
      "loss: -0.5642:  75%|███████▌  | 75/100 [09:32<02:54,  6.98s/it]\u001b[A\n",
      "loss: -0.5642:  76%|███████▌  | 76/100 [09:32<02:47,  6.96s/it]\u001b[A\n",
      "loss: -0.5547:  76%|███████▌  | 76/100 [09:39<02:47,  6.96s/it]\u001b[A\n",
      "loss: -0.5547:  77%|███████▋  | 77/100 [09:39<02:40,  6.96s/it]\u001b[A\n",
      "loss: -0.5665:  77%|███████▋  | 77/100 [09:47<02:40,  6.96s/it]\u001b[A\n",
      "loss: -0.5665:  78%|███████▊  | 78/100 [09:47<02:38,  7.18s/it]\u001b[A\n",
      "loss: -0.3465:  78%|███████▊  | 78/100 [09:54<02:38,  7.18s/it]\u001b[A\n",
      "loss: -0.3465:  79%|███████▉  | 79/100 [09:54<02:33,  7.31s/it]\u001b[A\n",
      "loss: -0.5665:  79%|███████▉  | 79/100 [10:01<02:33,  7.31s/it]\u001b[A\n",
      "loss: -0.5665:  80%|████████  | 80/100 [10:01<02:24,  7.21s/it]\u001b[A\n",
      "loss: -0.5698:  80%|████████  | 80/100 [10:08<02:24,  7.21s/it]\u001b[A\n",
      "loss: -0.5698:  81%|████████  | 81/100 [10:08<02:15,  7.14s/it]\u001b[A\n",
      "loss: 0.0939:  81%|████████  | 81/100 [10:16<02:15,  7.14s/it] \u001b[A\n",
      "loss: 0.0939:  82%|████████▏ | 82/100 [10:16<02:09,  7.18s/it]\u001b[A\n",
      "loss: -0.5565:  82%|████████▏ | 82/100 [10:23<02:09,  7.18s/it]\u001b[A\n",
      "loss: -0.5565:  83%|████████▎ | 83/100 [10:23<02:02,  7.19s/it]\u001b[A\n",
      "loss: -0.5588:  83%|████████▎ | 83/100 [10:30<02:02,  7.19s/it]\u001b[A\n",
      "loss: -0.5588:  84%|████████▍ | 84/100 [10:30<01:54,  7.15s/it]\u001b[A\n",
      "loss: -0.5568:  84%|████████▍ | 84/100 [10:37<01:54,  7.15s/it]\u001b[A\n",
      "loss: -0.5568:  85%|████████▌ | 85/100 [10:37<01:47,  7.16s/it]\u001b[A\n",
      "loss: -0.5704:  85%|████████▌ | 85/100 [10:44<01:47,  7.16s/it]\u001b[A\n",
      "loss: -0.5704:  86%|████████▌ | 86/100 [10:44<01:40,  7.21s/it]\u001b[A\n",
      "loss: -0.5866:  86%|████████▌ | 86/100 [10:52<01:40,  7.21s/it]\u001b[A\n",
      "loss: -0.5866:  87%|████████▋ | 87/100 [10:52<01:35,  7.38s/it]\u001b[A\n",
      "loss: 0.3489:  87%|████████▋ | 87/100 [11:01<01:35,  7.38s/it] \u001b[A\n",
      "loss: 0.3489:  88%|████████▊ | 88/100 [11:01<01:32,  7.75s/it]\u001b[A\n",
      "loss: -0.5834:  88%|████████▊ | 88/100 [11:09<01:32,  7.75s/it]\u001b[A\n",
      "loss: -0.5834:  89%|████████▉ | 89/100 [11:09<01:25,  7.73s/it]\u001b[A\n",
      "loss: -0.5858:  89%|████████▉ | 89/100 [11:16<01:25,  7.73s/it]\u001b[A\n",
      "loss: -0.5858:  90%|█████████ | 90/100 [11:16<01:15,  7.57s/it]\u001b[A\n",
      "loss: 1.3000:  90%|█████████ | 90/100 [11:23<01:15,  7.57s/it] \u001b[A\n",
      "loss: 1.3000:  91%|█████████ | 91/100 [11:23<01:07,  7.45s/it]\u001b[A\n",
      "loss: -0.5809:  91%|█████████ | 91/100 [11:30<01:07,  7.45s/it]\u001b[A\n",
      "loss: -0.5809:  92%|█████████▏| 92/100 [11:30<00:58,  7.35s/it]\u001b[A\n",
      "loss: -0.5755:  92%|█████████▏| 92/100 [11:37<00:58,  7.35s/it]\u001b[A\n",
      "loss: -0.5755:  93%|█████████▎| 93/100 [11:37<00:51,  7.31s/it]\u001b[A\n",
      "loss: -0.5864:  93%|█████████▎| 93/100 [11:44<00:51,  7.31s/it]\u001b[A\n",
      "loss: -0.5864:  94%|█████████▍| 94/100 [11:44<00:43,  7.25s/it]\u001b[A\n",
      "loss: -0.5911:  94%|█████████▍| 94/100 [11:52<00:43,  7.25s/it]\u001b[A\n",
      "loss: -0.5911:  95%|█████████▌| 95/100 [11:52<00:36,  7.24s/it]\u001b[A\n",
      "loss: -0.5893:  95%|█████████▌| 95/100 [11:59<00:36,  7.24s/it]\u001b[A\n",
      "loss: -0.5893:  96%|█████████▌| 96/100 [11:59<00:29,  7.27s/it]\u001b[A\n",
      "loss: -0.5969:  96%|█████████▌| 96/100 [12:06<00:29,  7.27s/it]\u001b[A\n",
      "loss: -0.5969:  97%|█████████▋| 97/100 [12:06<00:21,  7.19s/it]\u001b[A\n",
      "loss: -0.5050:  97%|█████████▋| 97/100 [12:13<00:21,  7.19s/it]\u001b[A\n",
      "loss: -0.5050:  98%|█████████▊| 98/100 [12:13<00:14,  7.16s/it]\u001b[A\n",
      "loss: -0.5837:  98%|█████████▊| 98/100 [12:20<00:14,  7.16s/it]\u001b[A\n",
      "loss: -0.5837:  99%|█████████▉| 99/100 [12:20<00:07,  7.22s/it]\u001b[A\n",
      "loss: -0.5985:  99%|█████████▉| 99/100 [12:29<00:07,  7.22s/it]\u001b[A\n",
      "loss: -0.5985: 100%|██████████| 100/100 [12:29<00:00,  7.49s/it]\u001b[A\n"
     ]
    }
   ],
   "source": [
    "\n",
    "models, loss_Ds, loss_Ws, loss_drifts, loss_gps = train_and_eval(testing_ys, mat_dim, z_dim)\n"
   ]
  },
  {
   "cell_type": "code",
   "execution_count": 42,
   "metadata": {},
   "outputs": [
    {
     "name": "stderr",
     "output_type": "stream",
     "text": [
      "Computing Wasserstein distances:   0%|          | 0/100 [00:00<?, ?it/s]"
     ]
    },
    {
     "name": "stdout",
     "output_type": "stream",
     "text": [
      "torch.Size([100, 8, 8]) torch.Size([100, 4, 4])\n",
      "4\n",
      "samples: (2048, 64), true: torch.Size([2048, 64])\n"
     ]
    },
    {
     "name": "stderr",
     "output_type": "stream",
     "text": [
      "W: 13.918:   1%|          | 1/100 [00:02<03:28,  2.11s/it]              "
     ]
    },
    {
     "name": "stdout",
     "output_type": "stream",
     "text": [
      "samples: (2048, 64), true: torch.Size([2048, 64])\n"
     ]
    },
    {
     "name": "stderr",
     "output_type": "stream",
     "text": [
      "W: 14.756:   2%|▏         | 2/100 [00:04<03:27,  2.12s/it]"
     ]
    },
    {
     "name": "stdout",
     "output_type": "stream",
     "text": [
      "samples: (2048, 64), true: torch.Size([2048, 64])\n"
     ]
    },
    {
     "name": "stderr",
     "output_type": "stream",
     "text": [
      "W: 14.963:   3%|▎         | 3/100 [00:06<03:24,  2.11s/it]"
     ]
    },
    {
     "name": "stdout",
     "output_type": "stream",
     "text": [
      "samples: (2048, 64), true: torch.Size([2048, 64])\n"
     ]
    },
    {
     "name": "stderr",
     "output_type": "stream",
     "text": [
      "W: 14.938:   4%|▍         | 4/100 [00:08<03:20,  2.08s/it]"
     ]
    },
    {
     "name": "stdout",
     "output_type": "stream",
     "text": [
      "samples: (2048, 64), true: torch.Size([2048, 64])\n"
     ]
    },
    {
     "name": "stderr",
     "output_type": "stream",
     "text": [
      "W: 14.771:   5%|▌         | 5/100 [00:10<03:18,  2.09s/it]"
     ]
    },
    {
     "name": "stdout",
     "output_type": "stream",
     "text": [
      "samples: (2048, 64), true: torch.Size([2048, 64])\n"
     ]
    },
    {
     "name": "stderr",
     "output_type": "stream",
     "text": [
      "W: 14.712:   6%|▌         | 6/100 [00:12<03:15,  2.08s/it]"
     ]
    },
    {
     "name": "stdout",
     "output_type": "stream",
     "text": [
      "samples: (2048, 64), true: torch.Size([2048, 64])\n"
     ]
    },
    {
     "name": "stderr",
     "output_type": "stream",
     "text": [
      "W: 14.774:   7%|▋         | 7/100 [00:14<03:11,  2.06s/it]"
     ]
    },
    {
     "name": "stdout",
     "output_type": "stream",
     "text": [
      "samples: (2048, 64), true: torch.Size([2048, 64])\n"
     ]
    },
    {
     "name": "stderr",
     "output_type": "stream",
     "text": [
      "W: 14.569:   8%|▊         | 8/100 [00:16<03:06,  2.02s/it]"
     ]
    },
    {
     "name": "stdout",
     "output_type": "stream",
     "text": [
      "samples: (2048, 64), true: torch.Size([2048, 64])\n"
     ]
    },
    {
     "name": "stderr",
     "output_type": "stream",
     "text": [
      "W: 14.561:   9%|▉         | 9/100 [00:18<03:06,  2.05s/it]"
     ]
    },
    {
     "name": "stdout",
     "output_type": "stream",
     "text": [
      "samples: (2048, 64), true: torch.Size([2048, 64])\n"
     ]
    },
    {
     "name": "stderr",
     "output_type": "stream",
     "text": [
      "W: 14.766:  10%|█         | 10/100 [00:20<03:03,  2.04s/it]"
     ]
    },
    {
     "name": "stdout",
     "output_type": "stream",
     "text": [
      "samples: (2048, 64), true: torch.Size([2048, 64])\n"
     ]
    },
    {
     "name": "stderr",
     "output_type": "stream",
     "text": [
      "W: 14.729:  11%|█         | 11/100 [00:22<03:02,  2.05s/it]"
     ]
    },
    {
     "name": "stdout",
     "output_type": "stream",
     "text": [
      "samples: (2048, 64), true: torch.Size([2048, 64])\n"
     ]
    },
    {
     "name": "stderr",
     "output_type": "stream",
     "text": [
      "W: 14.706:  12%|█▏        | 12/100 [00:24<03:01,  2.07s/it]"
     ]
    },
    {
     "name": "stdout",
     "output_type": "stream",
     "text": [
      "samples: (2048, 64), true: torch.Size([2048, 64])\n"
     ]
    },
    {
     "name": "stderr",
     "output_type": "stream",
     "text": [
      "W: 14.659:  13%|█▎        | 13/100 [00:26<02:59,  2.06s/it]"
     ]
    },
    {
     "name": "stdout",
     "output_type": "stream",
     "text": [
      "samples: (2048, 64), true: torch.Size([2048, 64])\n"
     ]
    },
    {
     "name": "stderr",
     "output_type": "stream",
     "text": [
      "W: 14.765:  14%|█▍        | 14/100 [00:28<02:58,  2.07s/it]"
     ]
    },
    {
     "name": "stdout",
     "output_type": "stream",
     "text": [
      "samples: (2048, 64), true: torch.Size([2048, 64])\n"
     ]
    },
    {
     "name": "stderr",
     "output_type": "stream",
     "text": [
      "W: 14.774:  15%|█▌        | 15/100 [00:31<02:57,  2.09s/it]"
     ]
    },
    {
     "name": "stdout",
     "output_type": "stream",
     "text": [
      "samples: (2048, 64), true: torch.Size([2048, 64])\n"
     ]
    },
    {
     "name": "stderr",
     "output_type": "stream",
     "text": [
      "W: 14.907:  16%|█▌        | 16/100 [00:33<02:57,  2.12s/it]"
     ]
    },
    {
     "name": "stdout",
     "output_type": "stream",
     "text": [
      "samples: (2048, 64), true: torch.Size([2048, 64])\n"
     ]
    },
    {
     "name": "stderr",
     "output_type": "stream",
     "text": [
      "W: 14.885:  17%|█▋        | 17/100 [00:35<02:54,  2.11s/it]"
     ]
    },
    {
     "name": "stdout",
     "output_type": "stream",
     "text": [
      "samples: (2048, 64), true: torch.Size([2048, 64])\n"
     ]
    },
    {
     "name": "stderr",
     "output_type": "stream",
     "text": [
      "W: 14.890:  18%|█▊        | 18/100 [00:37<02:50,  2.08s/it]"
     ]
    },
    {
     "name": "stdout",
     "output_type": "stream",
     "text": [
      "samples: (2048, 64), true: torch.Size([2048, 64])\n"
     ]
    },
    {
     "name": "stderr",
     "output_type": "stream",
     "text": [
      "W: 14.879:  19%|█▉        | 19/100 [00:39<02:51,  2.12s/it]"
     ]
    },
    {
     "name": "stdout",
     "output_type": "stream",
     "text": [
      "samples: (2048, 64), true: torch.Size([2048, 64])\n"
     ]
    },
    {
     "name": "stderr",
     "output_type": "stream",
     "text": [
      "W: 14.830:  20%|██        | 20/100 [00:41<02:49,  2.11s/it]"
     ]
    },
    {
     "name": "stdout",
     "output_type": "stream",
     "text": [
      "samples: (2048, 64), true: torch.Size([2048, 64])\n"
     ]
    },
    {
     "name": "stderr",
     "output_type": "stream",
     "text": [
      "W: 14.770:  21%|██        | 21/100 [00:43<02:44,  2.09s/it]"
     ]
    },
    {
     "name": "stdout",
     "output_type": "stream",
     "text": [
      "samples: (2048, 64), true: torch.Size([2048, 64])\n"
     ]
    },
    {
     "name": "stderr",
     "output_type": "stream",
     "text": [
      "W: 14.711:  22%|██▏       | 22/100 [00:45<02:40,  2.06s/it]"
     ]
    },
    {
     "name": "stdout",
     "output_type": "stream",
     "text": [
      "samples: (2048, 64), true: torch.Size([2048, 64])\n"
     ]
    },
    {
     "name": "stderr",
     "output_type": "stream",
     "text": [
      "W: 14.718:  23%|██▎       | 23/100 [00:47<02:39,  2.07s/it]"
     ]
    },
    {
     "name": "stdout",
     "output_type": "stream",
     "text": [
      "samples: (2048, 64), true: torch.Size([2048, 64])\n"
     ]
    },
    {
     "name": "stderr",
     "output_type": "stream",
     "text": [
      "W: 14.688:  24%|██▍       | 24/100 [00:49<02:36,  2.06s/it]"
     ]
    },
    {
     "name": "stdout",
     "output_type": "stream",
     "text": [
      "samples: (2048, 64), true: torch.Size([2048, 64])\n"
     ]
    },
    {
     "name": "stderr",
     "output_type": "stream",
     "text": [
      "W: 14.678:  25%|██▌       | 25/100 [00:51<02:33,  2.05s/it]"
     ]
    },
    {
     "name": "stdout",
     "output_type": "stream",
     "text": [
      "samples: (2048, 64), true: torch.Size([2048, 64])\n"
     ]
    },
    {
     "name": "stderr",
     "output_type": "stream",
     "text": [
      "W: 14.672:  26%|██▌       | 26/100 [00:53<02:31,  2.05s/it]"
     ]
    },
    {
     "name": "stdout",
     "output_type": "stream",
     "text": [
      "samples: (2048, 64), true: torch.Size([2048, 64])\n"
     ]
    },
    {
     "name": "stderr",
     "output_type": "stream",
     "text": [
      "W: 14.712:  27%|██▋       | 27/100 [00:56<02:32,  2.09s/it]"
     ]
    },
    {
     "name": "stdout",
     "output_type": "stream",
     "text": [
      "samples: (2048, 64), true: torch.Size([2048, 64])\n"
     ]
    },
    {
     "name": "stderr",
     "output_type": "stream",
     "text": [
      "W: 14.714:  28%|██▊       | 28/100 [00:58<02:30,  2.09s/it]"
     ]
    },
    {
     "name": "stdout",
     "output_type": "stream",
     "text": [
      "samples: (2048, 64), true: torch.Size([2048, 64])\n"
     ]
    },
    {
     "name": "stderr",
     "output_type": "stream",
     "text": [
      "W: 14.715:  29%|██▉       | 29/100 [01:00<02:27,  2.08s/it]"
     ]
    },
    {
     "name": "stdout",
     "output_type": "stream",
     "text": [
      "samples: (2048, 64), true: torch.Size([2048, 64])\n"
     ]
    },
    {
     "name": "stderr",
     "output_type": "stream",
     "text": [
      "W: 14.705:  30%|███       | 30/100 [01:02<02:23,  2.05s/it]"
     ]
    },
    {
     "name": "stdout",
     "output_type": "stream",
     "text": [
      "samples: (2048, 64), true: torch.Size([2048, 64])\n"
     ]
    },
    {
     "name": "stderr",
     "output_type": "stream",
     "text": [
      "W: 14.702:  31%|███       | 31/100 [01:04<02:20,  2.04s/it]"
     ]
    },
    {
     "name": "stdout",
     "output_type": "stream",
     "text": [
      "samples: (2048, 64), true: torch.Size([2048, 64])\n"
     ]
    },
    {
     "name": "stderr",
     "output_type": "stream",
     "text": [
      "W: 14.697:  32%|███▏      | 32/100 [01:06<02:19,  2.04s/it]"
     ]
    },
    {
     "name": "stdout",
     "output_type": "stream",
     "text": [
      "samples: (2048, 64), true: torch.Size([2048, 64])\n"
     ]
    },
    {
     "name": "stderr",
     "output_type": "stream",
     "text": [
      "W: 14.694:  33%|███▎      | 33/100 [01:08<02:18,  2.07s/it]"
     ]
    },
    {
     "name": "stdout",
     "output_type": "stream",
     "text": [
      "samples: (2048, 64), true: torch.Size([2048, 64])\n"
     ]
    },
    {
     "name": "stderr",
     "output_type": "stream",
     "text": [
      "W: 14.643:  34%|███▍      | 34/100 [01:10<02:15,  2.05s/it]"
     ]
    },
    {
     "name": "stdout",
     "output_type": "stream",
     "text": [
      "samples: (2048, 64), true: torch.Size([2048, 64])\n"
     ]
    },
    {
     "name": "stderr",
     "output_type": "stream",
     "text": [
      "W: 14.667:  35%|███▌      | 35/100 [01:12<02:15,  2.09s/it]"
     ]
    },
    {
     "name": "stdout",
     "output_type": "stream",
     "text": [
      "samples: (2048, 64), true: torch.Size([2048, 64])\n"
     ]
    },
    {
     "name": "stderr",
     "output_type": "stream",
     "text": [
      "W: 14.704:  36%|███▌      | 36/100 [01:14<02:13,  2.08s/it]"
     ]
    },
    {
     "name": "stdout",
     "output_type": "stream",
     "text": [
      "samples: (2048, 64), true: torch.Size([2048, 64])\n"
     ]
    },
    {
     "name": "stderr",
     "output_type": "stream",
     "text": [
      "W: 14.702:  37%|███▋      | 37/100 [01:16<02:11,  2.09s/it]"
     ]
    },
    {
     "name": "stdout",
     "output_type": "stream",
     "text": [
      "samples: (2048, 64), true: torch.Size([2048, 64])\n"
     ]
    },
    {
     "name": "stderr",
     "output_type": "stream",
     "text": [
      "W: 14.754:  38%|███▊      | 38/100 [01:18<02:10,  2.10s/it]"
     ]
    },
    {
     "name": "stdout",
     "output_type": "stream",
     "text": [
      "samples: (2048, 64), true: torch.Size([2048, 64])\n"
     ]
    },
    {
     "name": "stderr",
     "output_type": "stream",
     "text": [
      "W: 14.706:  39%|███▉      | 39/100 [01:20<02:07,  2.09s/it]"
     ]
    },
    {
     "name": "stdout",
     "output_type": "stream",
     "text": [
      "samples: (2048, 64), true: torch.Size([2048, 64])\n"
     ]
    },
    {
     "name": "stderr",
     "output_type": "stream",
     "text": [
      "W: 14.748:  40%|████      | 40/100 [01:23<02:05,  2.09s/it]"
     ]
    },
    {
     "name": "stdout",
     "output_type": "stream",
     "text": [
      "samples: (2048, 64), true: torch.Size([2048, 64])\n"
     ]
    },
    {
     "name": "stderr",
     "output_type": "stream",
     "text": [
      "W: 14.726:  41%|████      | 41/100 [01:25<02:02,  2.07s/it]"
     ]
    },
    {
     "name": "stdout",
     "output_type": "stream",
     "text": [
      "samples: (2048, 64), true: torch.Size([2048, 64])\n"
     ]
    },
    {
     "name": "stderr",
     "output_type": "stream",
     "text": [
      "W: 14.722:  42%|████▏     | 42/100 [01:27<01:59,  2.06s/it]"
     ]
    },
    {
     "name": "stdout",
     "output_type": "stream",
     "text": [
      "samples: (2048, 64), true: torch.Size([2048, 64])\n"
     ]
    },
    {
     "name": "stderr",
     "output_type": "stream",
     "text": [
      "W: 14.736:  43%|████▎     | 43/100 [01:29<01:57,  2.07s/it]"
     ]
    },
    {
     "name": "stdout",
     "output_type": "stream",
     "text": [
      "samples: (2048, 64), true: torch.Size([2048, 64])\n"
     ]
    },
    {
     "name": "stderr",
     "output_type": "stream",
     "text": [
      "W: 14.720:  44%|████▍     | 44/100 [01:31<01:55,  2.06s/it]"
     ]
    },
    {
     "name": "stdout",
     "output_type": "stream",
     "text": [
      "samples: (2048, 64), true: torch.Size([2048, 64])\n"
     ]
    },
    {
     "name": "stderr",
     "output_type": "stream",
     "text": [
      "W: 14.685:  45%|████▌     | 45/100 [01:33<01:53,  2.07s/it]"
     ]
    },
    {
     "name": "stdout",
     "output_type": "stream",
     "text": [
      "samples: (2048, 64), true: torch.Size([2048, 64])\n"
     ]
    },
    {
     "name": "stderr",
     "output_type": "stream",
     "text": [
      "W: 14.643:  46%|████▌     | 46/100 [01:35<01:50,  2.04s/it]"
     ]
    },
    {
     "name": "stdout",
     "output_type": "stream",
     "text": [
      "samples: (2048, 64), true: torch.Size([2048, 64])\n"
     ]
    },
    {
     "name": "stderr",
     "output_type": "stream",
     "text": [
      "W: 14.641:  47%|████▋     | 47/100 [01:37<01:48,  2.06s/it]"
     ]
    },
    {
     "name": "stdout",
     "output_type": "stream",
     "text": [
      "samples: (2048, 64), true: torch.Size([2048, 64])\n"
     ]
    },
    {
     "name": "stderr",
     "output_type": "stream",
     "text": [
      "W: 14.625:  48%|████▊     | 48/100 [01:39<01:46,  2.05s/it]"
     ]
    },
    {
     "name": "stdout",
     "output_type": "stream",
     "text": [
      "samples: (2048, 64), true: torch.Size([2048, 64])\n"
     ]
    },
    {
     "name": "stderr",
     "output_type": "stream",
     "text": [
      "W: 14.642:  49%|████▉     | 49/100 [01:41<01:43,  2.03s/it]"
     ]
    },
    {
     "name": "stdout",
     "output_type": "stream",
     "text": [
      "samples: (2048, 64), true: torch.Size([2048, 64])\n"
     ]
    },
    {
     "name": "stderr",
     "output_type": "stream",
     "text": [
      "W: 14.631:  50%|█████     | 50/100 [01:43<01:41,  2.04s/it]"
     ]
    },
    {
     "name": "stdout",
     "output_type": "stream",
     "text": [
      "samples: (2048, 64), true: torch.Size([2048, 64])\n"
     ]
    },
    {
     "name": "stderr",
     "output_type": "stream",
     "text": [
      "W: 14.625:  51%|█████     | 51/100 [01:45<01:38,  2.02s/it]"
     ]
    },
    {
     "name": "stdout",
     "output_type": "stream",
     "text": [
      "samples: (2048, 64), true: torch.Size([2048, 64])\n"
     ]
    },
    {
     "name": "stderr",
     "output_type": "stream",
     "text": [
      "W: 14.671:  52%|█████▏    | 52/100 [01:47<01:38,  2.06s/it]"
     ]
    },
    {
     "name": "stdout",
     "output_type": "stream",
     "text": [
      "samples: (2048, 64), true: torch.Size([2048, 64])\n"
     ]
    },
    {
     "name": "stderr",
     "output_type": "stream",
     "text": [
      "W: 14.700:  53%|█████▎    | 53/100 [01:49<01:36,  2.05s/it]"
     ]
    },
    {
     "name": "stdout",
     "output_type": "stream",
     "text": [
      "samples: (2048, 64), true: torch.Size([2048, 64])\n"
     ]
    },
    {
     "name": "stderr",
     "output_type": "stream",
     "text": [
      "W: 14.704:  54%|█████▍    | 54/100 [01:51<01:33,  2.04s/it]"
     ]
    },
    {
     "name": "stdout",
     "output_type": "stream",
     "text": [
      "samples: (2048, 64), true: torch.Size([2048, 64])\n"
     ]
    },
    {
     "name": "stderr",
     "output_type": "stream",
     "text": [
      "W: 14.735:  55%|█████▌    | 55/100 [01:53<01:33,  2.08s/it]"
     ]
    },
    {
     "name": "stdout",
     "output_type": "stream",
     "text": [
      "samples: (2048, 64), true: torch.Size([2048, 64])\n"
     ]
    },
    {
     "name": "stderr",
     "output_type": "stream",
     "text": [
      "W: 14.700:  56%|█████▌    | 56/100 [01:55<01:30,  2.06s/it]"
     ]
    },
    {
     "name": "stdout",
     "output_type": "stream",
     "text": [
      "samples: (2048, 64), true: torch.Size([2048, 64])\n"
     ]
    },
    {
     "name": "stderr",
     "output_type": "stream",
     "text": [
      "W: 14.697:  57%|█████▋    | 57/100 [01:57<01:28,  2.06s/it]"
     ]
    },
    {
     "name": "stdout",
     "output_type": "stream",
     "text": [
      "samples: (2048, 64), true: torch.Size([2048, 64])\n"
     ]
    },
    {
     "name": "stderr",
     "output_type": "stream",
     "text": [
      "W: 14.697:  58%|█████▊    | 58/100 [02:00<01:27,  2.09s/it]"
     ]
    },
    {
     "name": "stdout",
     "output_type": "stream",
     "text": [
      "samples: (2048, 64), true: torch.Size([2048, 64])\n"
     ]
    },
    {
     "name": "stderr",
     "output_type": "stream",
     "text": [
      "W: 14.686:  59%|█████▉    | 59/100 [02:01<01:24,  2.05s/it]"
     ]
    },
    {
     "name": "stdout",
     "output_type": "stream",
     "text": [
      "samples: (2048, 64), true: torch.Size([2048, 64])\n"
     ]
    },
    {
     "name": "stderr",
     "output_type": "stream",
     "text": [
      "W: 14.706:  60%|██████    | 60/100 [02:04<01:22,  2.06s/it]"
     ]
    },
    {
     "name": "stdout",
     "output_type": "stream",
     "text": [
      "samples: (2048, 64), true: torch.Size([2048, 64])\n"
     ]
    },
    {
     "name": "stderr",
     "output_type": "stream",
     "text": [
      "W: 14.696:  61%|██████    | 61/100 [02:06<01:19,  2.04s/it]"
     ]
    },
    {
     "name": "stdout",
     "output_type": "stream",
     "text": [
      "samples: (2048, 64), true: torch.Size([2048, 64])\n"
     ]
    },
    {
     "name": "stderr",
     "output_type": "stream",
     "text": [
      "W: 14.720:  62%|██████▏   | 62/100 [02:08<01:18,  2.07s/it]"
     ]
    },
    {
     "name": "stdout",
     "output_type": "stream",
     "text": [
      "samples: (2048, 64), true: torch.Size([2048, 64])\n"
     ]
    },
    {
     "name": "stderr",
     "output_type": "stream",
     "text": [
      "W: 14.696:  63%|██████▎   | 63/100 [02:10<01:16,  2.06s/it]"
     ]
    },
    {
     "name": "stdout",
     "output_type": "stream",
     "text": [
      "samples: (2048, 64), true: torch.Size([2048, 64])\n"
     ]
    },
    {
     "name": "stderr",
     "output_type": "stream",
     "text": [
      "W: 14.699:  64%|██████▍   | 64/100 [02:12<01:13,  2.05s/it]"
     ]
    },
    {
     "name": "stdout",
     "output_type": "stream",
     "text": [
      "samples: (2048, 64), true: torch.Size([2048, 64])\n"
     ]
    },
    {
     "name": "stderr",
     "output_type": "stream",
     "text": [
      "W: 14.684:  65%|██████▌   | 65/100 [02:14<01:11,  2.05s/it]"
     ]
    },
    {
     "name": "stdout",
     "output_type": "stream",
     "text": [
      "samples: (2048, 64), true: torch.Size([2048, 64])\n"
     ]
    },
    {
     "name": "stderr",
     "output_type": "stream",
     "text": [
      "W: 14.657:  66%|██████▌   | 66/100 [02:16<01:10,  2.07s/it]"
     ]
    },
    {
     "name": "stdout",
     "output_type": "stream",
     "text": [
      "samples: (2048, 64), true: torch.Size([2048, 64])\n"
     ]
    },
    {
     "name": "stderr",
     "output_type": "stream",
     "text": [
      "W: 14.649:  67%|██████▋   | 67/100 [02:18<01:07,  2.05s/it]"
     ]
    },
    {
     "name": "stdout",
     "output_type": "stream",
     "text": [
      "samples: (2048, 64), true: torch.Size([2048, 64])\n"
     ]
    },
    {
     "name": "stderr",
     "output_type": "stream",
     "text": [
      "W: 14.642:  68%|██████▊   | 68/100 [02:20<01:05,  2.06s/it]"
     ]
    },
    {
     "name": "stdout",
     "output_type": "stream",
     "text": [
      "samples: (2048, 64), true: torch.Size([2048, 64])\n"
     ]
    },
    {
     "name": "stderr",
     "output_type": "stream",
     "text": [
      "W: 14.639:  69%|██████▉   | 69/100 [02:22<01:03,  2.05s/it]"
     ]
    },
    {
     "name": "stdout",
     "output_type": "stream",
     "text": [
      "samples: (2048, 64), true: torch.Size([2048, 64])\n"
     ]
    },
    {
     "name": "stderr",
     "output_type": "stream",
     "text": [
      "W: 14.590:  70%|███████   | 70/100 [02:24<01:00,  2.02s/it]"
     ]
    },
    {
     "name": "stdout",
     "output_type": "stream",
     "text": [
      "samples: (2048, 64), true: torch.Size([2048, 64])\n"
     ]
    },
    {
     "name": "stderr",
     "output_type": "stream",
     "text": [
      "W: 14.577:  71%|███████   | 71/100 [02:26<00:59,  2.06s/it]"
     ]
    },
    {
     "name": "stdout",
     "output_type": "stream",
     "text": [
      "samples: (2048, 64), true: torch.Size([2048, 64])\n"
     ]
    },
    {
     "name": "stderr",
     "output_type": "stream",
     "text": [
      "W: 14.597:  72%|███████▏  | 72/100 [02:28<00:58,  2.08s/it]"
     ]
    },
    {
     "name": "stdout",
     "output_type": "stream",
     "text": [
      "samples: (2048, 64), true: torch.Size([2048, 64])\n"
     ]
    },
    {
     "name": "stderr",
     "output_type": "stream",
     "text": [
      "W: 14.592:  73%|███████▎  | 73/100 [02:30<00:56,  2.09s/it]"
     ]
    },
    {
     "name": "stdout",
     "output_type": "stream",
     "text": [
      "samples: (2048, 64), true: torch.Size([2048, 64])\n"
     ]
    },
    {
     "name": "stderr",
     "output_type": "stream",
     "text": [
      "W: 14.613:  74%|███████▍  | 74/100 [02:32<00:54,  2.10s/it]"
     ]
    },
    {
     "name": "stdout",
     "output_type": "stream",
     "text": [
      "samples: (2048, 64), true: torch.Size([2048, 64])\n"
     ]
    },
    {
     "name": "stderr",
     "output_type": "stream",
     "text": [
      "W: 14.603:  75%|███████▌  | 75/100 [02:35<00:52,  2.09s/it]"
     ]
    },
    {
     "name": "stdout",
     "output_type": "stream",
     "text": [
      "samples: (2048, 64), true: torch.Size([2048, 64])\n"
     ]
    },
    {
     "name": "stderr",
     "output_type": "stream",
     "text": [
      "W: 14.636:  76%|███████▌  | 76/100 [02:37<00:50,  2.09s/it]"
     ]
    },
    {
     "name": "stdout",
     "output_type": "stream",
     "text": [
      "samples: (2048, 64), true: torch.Size([2048, 64])\n"
     ]
    },
    {
     "name": "stderr",
     "output_type": "stream",
     "text": [
      "W: 14.652:  77%|███████▋  | 77/100 [02:39<00:48,  2.10s/it]"
     ]
    },
    {
     "name": "stdout",
     "output_type": "stream",
     "text": [
      "samples: (2048, 64), true: torch.Size([2048, 64])\n"
     ]
    },
    {
     "name": "stderr",
     "output_type": "stream",
     "text": [
      "W: 14.656:  78%|███████▊  | 78/100 [02:41<00:45,  2.08s/it]"
     ]
    },
    {
     "name": "stdout",
     "output_type": "stream",
     "text": [
      "samples: (2048, 64), true: torch.Size([2048, 64])\n"
     ]
    },
    {
     "name": "stderr",
     "output_type": "stream",
     "text": [
      "W: 14.674:  79%|███████▉  | 79/100 [02:43<00:43,  2.08s/it]"
     ]
    },
    {
     "name": "stdout",
     "output_type": "stream",
     "text": [
      "samples: (2048, 64), true: torch.Size([2048, 64])\n"
     ]
    },
    {
     "name": "stderr",
     "output_type": "stream",
     "text": [
      "W: 14.690:  80%|████████  | 80/100 [02:45<00:42,  2.11s/it]"
     ]
    },
    {
     "name": "stdout",
     "output_type": "stream",
     "text": [
      "samples: (2048, 64), true: torch.Size([2048, 64])\n"
     ]
    },
    {
     "name": "stderr",
     "output_type": "stream",
     "text": [
      "W: 14.683:  81%|████████  | 81/100 [02:47<00:40,  2.13s/it]"
     ]
    },
    {
     "name": "stdout",
     "output_type": "stream",
     "text": [
      "samples: (2048, 64), true: torch.Size([2048, 64])\n"
     ]
    },
    {
     "name": "stderr",
     "output_type": "stream",
     "text": [
      "W: 14.655:  82%|████████▏ | 82/100 [02:49<00:38,  2.13s/it]"
     ]
    },
    {
     "name": "stdout",
     "output_type": "stream",
     "text": [
      "samples: (2048, 64), true: torch.Size([2048, 64])\n"
     ]
    },
    {
     "name": "stderr",
     "output_type": "stream",
     "text": [
      "W: 14.664:  83%|████████▎ | 83/100 [02:51<00:35,  2.11s/it]"
     ]
    },
    {
     "name": "stdout",
     "output_type": "stream",
     "text": [
      "samples: (2048, 64), true: torch.Size([2048, 64])\n"
     ]
    },
    {
     "name": "stderr",
     "output_type": "stream",
     "text": [
      "W: 14.677:  84%|████████▍ | 84/100 [02:54<00:33,  2.11s/it]"
     ]
    },
    {
     "name": "stdout",
     "output_type": "stream",
     "text": [
      "samples: (2048, 64), true: torch.Size([2048, 64])\n"
     ]
    },
    {
     "name": "stderr",
     "output_type": "stream",
     "text": [
      "W: 14.701:  85%|████████▌ | 85/100 [02:56<00:31,  2.11s/it]"
     ]
    },
    {
     "name": "stdout",
     "output_type": "stream",
     "text": [
      "samples: (2048, 64), true: torch.Size([2048, 64])\n"
     ]
    },
    {
     "name": "stderr",
     "output_type": "stream",
     "text": [
      "W: 14.704:  86%|████████▌ | 86/100 [02:58<00:29,  2.10s/it]"
     ]
    },
    {
     "name": "stdout",
     "output_type": "stream",
     "text": [
      "samples: (2048, 64), true: torch.Size([2048, 64])\n"
     ]
    },
    {
     "name": "stderr",
     "output_type": "stream",
     "text": [
      "W: 14.710:  87%|████████▋ | 87/100 [03:00<00:27,  2.09s/it]"
     ]
    },
    {
     "name": "stdout",
     "output_type": "stream",
     "text": [
      "samples: (2048, 64), true: torch.Size([2048, 64])\n"
     ]
    },
    {
     "name": "stderr",
     "output_type": "stream",
     "text": [
      "W: 14.686:  88%|████████▊ | 88/100 [03:02<00:24,  2.07s/it]"
     ]
    },
    {
     "name": "stdout",
     "output_type": "stream",
     "text": [
      "samples: (2048, 64), true: torch.Size([2048, 64])\n"
     ]
    },
    {
     "name": "stderr",
     "output_type": "stream",
     "text": [
      "W: 14.689:  89%|████████▉ | 89/100 [03:04<00:22,  2.07s/it]"
     ]
    },
    {
     "name": "stdout",
     "output_type": "stream",
     "text": [
      "samples: (2048, 64), true: torch.Size([2048, 64])\n"
     ]
    },
    {
     "name": "stderr",
     "output_type": "stream",
     "text": [
      "W: 14.696:  90%|█████████ | 90/100 [03:06<00:20,  2.10s/it]"
     ]
    },
    {
     "name": "stdout",
     "output_type": "stream",
     "text": [
      "samples: (2048, 64), true: torch.Size([2048, 64])\n"
     ]
    },
    {
     "name": "stderr",
     "output_type": "stream",
     "text": [
      "W: 14.691:  91%|█████████ | 91/100 [03:08<00:18,  2.09s/it]"
     ]
    },
    {
     "name": "stdout",
     "output_type": "stream",
     "text": [
      "samples: (2048, 64), true: torch.Size([2048, 64])\n"
     ]
    },
    {
     "name": "stderr",
     "output_type": "stream",
     "text": [
      "W: 14.695:  92%|█████████▏| 92/100 [03:10<00:16,  2.07s/it]"
     ]
    },
    {
     "name": "stdout",
     "output_type": "stream",
     "text": [
      "samples: (2048, 64), true: torch.Size([2048, 64])\n"
     ]
    },
    {
     "name": "stderr",
     "output_type": "stream",
     "text": [
      "W: 14.716:  93%|█████████▎| 93/100 [03:12<00:14,  2.09s/it]"
     ]
    },
    {
     "name": "stdout",
     "output_type": "stream",
     "text": [
      "samples: (2048, 64), true: torch.Size([2048, 64])\n"
     ]
    },
    {
     "name": "stderr",
     "output_type": "stream",
     "text": [
      "W: 14.724:  94%|█████████▍| 94/100 [03:14<00:12,  2.10s/it]"
     ]
    },
    {
     "name": "stdout",
     "output_type": "stream",
     "text": [
      "samples: (2048, 64), true: torch.Size([2048, 64])\n"
     ]
    },
    {
     "name": "stderr",
     "output_type": "stream",
     "text": [
      "W: 14.709:  95%|█████████▌| 95/100 [03:16<00:10,  2.09s/it]"
     ]
    },
    {
     "name": "stdout",
     "output_type": "stream",
     "text": [
      "samples: (2048, 64), true: torch.Size([2048, 64])\n"
     ]
    },
    {
     "name": "stderr",
     "output_type": "stream",
     "text": [
      "W: 14.672:  96%|█████████▌| 96/100 [03:19<00:08,  2.11s/it]"
     ]
    },
    {
     "name": "stdout",
     "output_type": "stream",
     "text": [
      "samples: (2048, 64), true: torch.Size([2048, 64])\n"
     ]
    },
    {
     "name": "stderr",
     "output_type": "stream",
     "text": [
      "W: 14.668:  97%|█████████▋| 97/100 [03:21<00:06,  2.14s/it]"
     ]
    },
    {
     "name": "stdout",
     "output_type": "stream",
     "text": [
      "samples: (2048, 64), true: torch.Size([2048, 64])\n"
     ]
    },
    {
     "name": "stderr",
     "output_type": "stream",
     "text": [
      "W: 14.688:  98%|█████████▊| 98/100 [03:23<00:04,  2.14s/it]"
     ]
    },
    {
     "name": "stdout",
     "output_type": "stream",
     "text": [
      "samples: (2048, 64), true: torch.Size([2048, 64])\n"
     ]
    },
    {
     "name": "stderr",
     "output_type": "stream",
     "text": [
      "W: 14.681:  99%|█████████▉| 99/100 [03:25<00:02,  2.14s/it]"
     ]
    },
    {
     "name": "stdout",
     "output_type": "stream",
     "text": [
      "samples: (2048, 64), true: torch.Size([2048, 64])\n"
     ]
    },
    {
     "name": "stderr",
     "output_type": "stream",
     "text": [
      "W: 14.688: 100%|██████████| 100/100 [03:27<00:00,  2.08s/it]"
     ]
    },
    {
     "name": "stdout",
     "output_type": "stream",
     "text": [
      "Wasserstein: 14.68767139754258\n"
     ]
    },
    {
     "name": "stderr",
     "output_type": "stream",
     "text": [
      "\n"
     ]
    }
   ],
   "source": [
    "print(testing_xs.shape, testing_ys.shape)\n",
    "print(len(split(testing_ys[0], mat_dim)))\n",
    "result = eval(testing_ys, mat_dim, z_dim)"
   ]
  },
  {
   "cell_type": "code",
   "execution_count": 39,
   "metadata": {},
   "outputs": [
    {
     "name": "stdout",
     "output_type": "stream",
     "text": [
      "(2048, 64)\n",
      "0.28484106\n"
     ]
    }
   ],
   "source": [
    "print(result[0].shape)\n",
    "mse = []\n",
    "for i in range(result[0].shape[0]):\n",
    "    mse += [((np.array(testing_xs[1]) - np.array(result[1][i].reshape(8,8)))**2).mean(axis=None)]\n",
    "print(np.array(mse).mean())\n"
   ]
  },
  {
   "cell_type": "code",
   "execution_count": 21,
   "metadata": {},
   "outputs": [
    {
     "data": {
      "text/plain": [
       "'W-dist WGAN: 15.54, INN: 15.81'"
      ]
     },
     "execution_count": 21,
     "metadata": {},
     "output_type": "execute_result"
    }
   ],
   "source": [
    "'''W-dist WGAN: 15.54, INN: 15.81'''"
   ]
  },
  {
   "cell_type": "code",
   "execution_count": 65,
   "metadata": {},
   "outputs": [
    {
     "data": {
      "text/plain": [
       "(Critic_multin_big(\n",
       "   (crit): Sequential(\n",
       "     (0): Linear(in_features=144, out_features=256, bias=True)\n",
       "     (1): LeakyReLU(negative_slope=0.1)\n",
       "     (2): Linear(in_features=256, out_features=256, bias=True)\n",
       "     (3): LeakyReLU(negative_slope=0.1)\n",
       "     (4): Linear(in_features=256, out_features=256, bias=True)\n",
       "     (5): LeakyReLU(negative_slope=0.1)\n",
       "     (6): Linear(in_features=256, out_features=256, bias=True)\n",
       "     (7): LeakyReLU(negative_slope=0.05)\n",
       "     (8): Linear(in_features=256, out_features=1, bias=True)\n",
       "   )\n",
       " ),\n",
       " Generator_big(\n",
       "   (gen): Sequential(\n",
       "     (0): Linear(in_features=24, out_features=256, bias=True)\n",
       "     (1): LeakyReLU(negative_slope=0.1)\n",
       "     (2): Linear(in_features=256, out_features=256, bias=True)\n",
       "     (3): LeakyReLU(negative_slope=0.1)\n",
       "     (4): Linear(in_features=256, out_features=256, bias=True)\n",
       "     (5): LeakyReLU(negative_slope=0.1)\n",
       "     (6): Linear(in_features=256, out_features=64, bias=True)\n",
       "     (7): Sigmoid()\n",
       "   )\n",
       " ))"
      ]
     },
     "execution_count": 65,
     "metadata": {},
     "output_type": "execute_result"
    }
   ],
   "source": [
    "models"
   ]
  },
  {
   "cell_type": "code",
   "execution_count": null,
   "metadata": {},
   "outputs": [],
   "source": [
    "from sklearn import preprocessing\n",
    "print(np.array(mse).mean())\n",
    "print(preprocessing.normalize(result[0][4]))\n",
    "print(testing_xs[0])"
   ]
  },
  {
   "cell_type": "code",
   "execution_count": 14,
   "metadata": {},
   "outputs": [
    {
     "ename": "NameError",
     "evalue": "name 'result' is not defined",
     "output_type": "error",
     "traceback": [
      "\u001b[1;31m---------------------------------------------------------------------------\u001b[0m",
      "\u001b[1;31mNameError\u001b[0m                                 Traceback (most recent call last)",
      "\u001b[1;32m<ipython-input-14-f564ee5e58c5>\u001b[0m in \u001b[0;36m<module>\u001b[1;34m\u001b[0m\n\u001b[1;32m----> 1\u001b[1;33m \u001b[0mtest\u001b[0m \u001b[1;33m=\u001b[0m \u001b[0mforward_mat\u001b[0m\u001b[1;33m(\u001b[0m\u001b[0mtorch\u001b[0m\u001b[1;33m.\u001b[0m\u001b[0mround\u001b[0m\u001b[1;33m(\u001b[0m\u001b[0mtorch\u001b[0m\u001b[1;33m.\u001b[0m\u001b[0mtensor\u001b[0m\u001b[1;33m(\u001b[0m\u001b[0mresult\u001b[0m\u001b[1;33m[\u001b[0m\u001b[1;36m0\u001b[0m\u001b[1;33m]\u001b[0m\u001b[1;33m[\u001b[0m\u001b[1;36m20\u001b[0m\u001b[1;33m]\u001b[0m\u001b[1;33m,\u001b[0m \u001b[0mdtype\u001b[0m\u001b[1;33m=\u001b[0m\u001b[0mtorch\u001b[0m\u001b[1;33m.\u001b[0m\u001b[0mfloat32\u001b[0m\u001b[1;33m)\u001b[0m\u001b[1;33m.\u001b[0m\u001b[0mreshape\u001b[0m\u001b[1;33m(\u001b[0m\u001b[1;36m1\u001b[0m\u001b[1;33m,\u001b[0m\u001b[0mmat_dim\u001b[0m\u001b[1;33m,\u001b[0m\u001b[0mmat_dim\u001b[0m\u001b[1;33m)\u001b[0m\u001b[1;33m)\u001b[0m\u001b[1;33m)\u001b[0m\u001b[1;33m\u001b[0m\u001b[1;33m\u001b[0m\u001b[0m\n\u001b[0m\u001b[0;32m      2\u001b[0m \u001b[0mprint\u001b[0m\u001b[1;33m(\u001b[0m\u001b[0mtest\u001b[0m\u001b[1;33m)\u001b[0m\u001b[1;33m\u001b[0m\u001b[1;33m\u001b[0m\u001b[0m\n\u001b[0;32m      3\u001b[0m \u001b[0mprint\u001b[0m\u001b[1;33m(\u001b[0m\u001b[0mtesting_ys\u001b[0m\u001b[1;33m[\u001b[0m\u001b[1;36m0\u001b[0m\u001b[1;33m]\u001b[0m\u001b[1;33m)\u001b[0m\u001b[1;33m\u001b[0m\u001b[1;33m\u001b[0m\u001b[0m\n\u001b[0;32m      4\u001b[0m \u001b[0mprint\u001b[0m\u001b[1;33m(\u001b[0m\u001b[0mtest\u001b[0m \u001b[1;33m==\u001b[0m \u001b[0mtesting_ys\u001b[0m\u001b[1;33m[\u001b[0m\u001b[1;36m0\u001b[0m\u001b[1;33m]\u001b[0m\u001b[1;33m)\u001b[0m\u001b[1;33m\u001b[0m\u001b[1;33m\u001b[0m\u001b[0m\n\u001b[0;32m      5\u001b[0m \u001b[0mprint\u001b[0m\u001b[1;33m(\u001b[0m\u001b[0mtesting_xs\u001b[0m\u001b[1;33m[\u001b[0m\u001b[1;36m0\u001b[0m\u001b[1;33m]\u001b[0m\u001b[1;33m)\u001b[0m\u001b[1;33m\u001b[0m\u001b[1;33m\u001b[0m\u001b[0m\n",
      "\u001b[1;31mNameError\u001b[0m: name 'result' is not defined"
     ]
    }
   ],
   "source": [
    "\n",
    "test = forward_mat(torch.round(torch.tensor(result[0][20], dtype=torch.float32).reshape(1,mat_dim,mat_dim)))\n",
    "print(test)\n",
    "print(testing_ys[0])\n",
    "print(test == testing_ys[0])\n",
    "print(testing_xs[0])\n",
    "print(torch.round(torch.tensor(result[0][20], dtype=torch.float32)))"
   ]
  },
  {
   "cell_type": "code",
   "execution_count": 31,
   "metadata": {},
   "outputs": [],
   "source": [
    "\n",
    "torch.save(models[1].state_dict(), r'C:\\Users\\Karl\\TUB\\Master Thesis\\gen_mat_13W.pt')\n",
    "torch.save(models[0].state_dict(), r'C:\\Users\\Karl\\TUB\\Master Thesis\\crit_mat_13W.pt')\n"
   ]
  },
  {
   "cell_type": "code",
   "execution_count": null,
   "metadata": {},
   "outputs": [],
   "source": [
    "'''crit, gen = create_GAN(mat_dim, mat_dim)\n",
    "crit.load_state_dict(torch.load(r'C:\\Users\\Karl\\TUB\\Master Thesis\\crit_mat.pt'))\n",
    "crit.eval()\n",
    "gen.load_state_dict(torch.load(r'C:\\Users\\Karl\\TUB\\Master Thesis\\gen_mat.pt'))\n",
    "gen.eval()\n",
    "models = (crit, gen)\n",
    "'''"
   ]
  },
  {
   "cell_type": "code",
   "execution_count": 87,
   "metadata": {},
   "outputs": [
    {
     "name": "stderr",
     "output_type": "stream",
     "text": [
      "<ipython-input-87-0536a18a3ed9>:13: UserWarning: To copy construct from a tensor, it is recommended to use sourceTensor.clone().detach() or sourceTensor.clone().detach().requires_grad_(True), rather than torch.tensor(sourceTensor).\n",
      "  C = forward_mat(torch.tensor(A, dtype=torch.float32).reshape(1,16,16)).reshape(8,8)\n"
     ]
    },
    {
     "data": {
      "text/plain": [
       "<matplotlib.image.AxesImage at 0x280e9c71bb0>"
      ]
     },
     "execution_count": 87,
     "metadata": {},
     "output_type": "execute_result"
    },
    {
     "data": {
      "image/png": "[encoded data removed]",
      "text/plain": [
       "<Figure size 432x288 with 1 Axes>"
      ]
     },
     "metadata": {
      "needs_background": "light"
     },
     "output_type": "display_data"
    },
    {
     "data": {
      "image/png": "[encoded data removed]",
      "text/plain": [
       "<Figure size 432x288 with 1 Axes>"
      ]
     },
     "metadata": {
      "needs_background": "light"
     },
     "output_type": "display_data"
    },
    {
     "data": {
      "image/png": "[encoded data removed]",
      "text/plain": [
       "<Figure size 432x288 with 1 Axes>"
      ]
     },
     "metadata": {
      "needs_background": "light"
     },
     "output_type": "display_data"
    }
   ],
   "source": [
    "l = 16 * [1]\n",
    "A = torch.tensor([[0,0,0,0,0,0,0,0,0,0,0,0,0,0,0,0],\n",
    "                 [0,0,0,0,0,0,0,0,0,0,0,0,0,0,0,0],\n",
    "                 [0,0,0,0,0,0,0,0,0,0,0,0,0,0,0,0],\n",
    "                 [0,0,0,0,0,0,0,0,0,0,0,0,0,0,0,0],\n",
    "                 [0,0,0,0,0,0,0,0,0,0,0,0,0,0,0,0],\n",
    "                 [0,0,0,0,0,0,0,0,0,0,0,0,0,0,0,0],\n",
    "                 [0,0,0,0,0,0,0,0,0,0,0,0,0,0,0,0],\n",
    "                 [0,0,0,0,0,0,0,0,0,0,0,0,0,0,0,0],\n",
    "                  l,l,l,l,l,l,l,l\n",
    "]) \n",
    "C = forward_mat(torch.tensor(A, dtype=torch.float32).reshape(1,16,16)).reshape(8,8)\n",
    "plt.figure()\n",
    "plt.imshow(A, cmap=plt.cm.gray)\n",
    "plt.figure()\n",
    "plt.imshow(C, cmap=plt.cm.gray)\n",
    "noise1 = torch.randn(1, z_dim)\n",
    "noise = torch.cat((noise1, C.view(1,-1)), dim=1)\n",
    "\n",
    "gen = test(noise)\n",
    "\n",
    "plt.figure()\n",
    "plt.imshow(gen.detach().numpy().reshape(16,16), cmap=plt.cm.gray)"
   ]
  },
  {
   "cell_type": "code",
   "execution_count": 108,
   "metadata": {},
   "outputs": [
    {
     "name": "stderr",
     "output_type": "stream",
     "text": [
      "<ipython-input-108-7dc0259a4042>:5: UserWarning: To copy construct from a tensor, it is recommended to use sourceTensor.clone().detach() or sourceTensor.clone().detach().requires_grad_(True), rather than torch.tensor(sourceTensor).\n",
      "  C = forward_mat(torch.tensor(A, dtype=torch.float32).reshape(1,8,8)).reshape(4,4)\n"
     ]
    },
    {
     "data": {
      "text/plain": [
       "<matplotlib.image.AxesImage at 0x280e9c6a4c0>"
      ]
     },
     "execution_count": 108,
     "metadata": {},
     "output_type": "execute_result"
    },
    {
     "data": {
      "image/png": "[encoded data removed]",
      "text/plain": [
       "<Figure size 432x288 with 1 Axes>"
      ]
     },
     "metadata": {
      "needs_background": "light"
     },
     "output_type": "display_data"
    },
    {
     "data": {
      "image/png": "[encoded data removed]",
      "text/plain": [
       "<Figure size 432x288 with 1 Axes>"
      ]
     },
     "metadata": {
      "needs_background": "light"
     },
     "output_type": "display_data"
    },
    {
     "data": {
      "image/png": "[encoded data removed]",
      "text/plain": [
       "<Figure size 432x288 with 1 Axes>"
      ]
     },
     "metadata": {
      "needs_background": "light"
     },
     "output_type": "display_data"
    }
   ],
   "source": [
    "A = np.round(np.random.random((8,8)))\n",
    "z = 8 * [0]\n",
    "o = 8 * [1]\n",
    "A = torch.tensor([o,o,o,o,z,z,z,z])\n",
    "C = forward_mat(torch.tensor(A, dtype=torch.float32).reshape(1,8,8)).reshape(4,4)\n",
    "plt.figure()\n",
    "plt.imshow(A, cmap=plt.cm.gray)\n",
    "plt.figure()\n",
    "plt.imshow(C, cmap=plt.cm.gray)\n",
    "noise1 = torch.randn(1, z_dim)\n",
    "noise = torch.cat((noise1, C.view(1,-1)), dim=1)\n",
    "test = models[1].eval()\n",
    "gen = test(noise)\n",
    "\n",
    "plt.figure()\n",
    "plt.imshow(gen.detach().numpy().reshape(8,8), cmap=plt.cm.gray)"
   ]
  },
  {
   "cell_type": "code",
   "execution_count": 85,
   "metadata": {},
   "outputs": [
    {
     "name": "stdout",
     "output_type": "stream",
     "text": [
      "torch.Size([64, 16, 16]) torch.Size([64, 8, 8])\n"
     ]
    },
    {
     "data": {
      "image/png": "[encoded data removed]",
      "text/plain": [
       "<Figure size 432x288 with 1 Axes>"
      ]
     },
     "metadata": {
      "needs_background": "light"
     },
     "output_type": "display_data"
    },
    {
     "data": {
      "image/png": "[encoded data removed]",
      "text/plain": [
       "<Figure size 432x288 with 1 Axes>"
      ]
     },
     "metadata": {
      "needs_background": "light"
     },
     "output_type": "display_data"
    },
    {
     "data": {
      "image/png": "[encoded data removed]",
      "text/plain": [
       "<Figure size 432x288 with 1 Axes>"
      ]
     },
     "metadata": {
      "needs_background": "light"
     },
     "output_type": "display_data"
    }
   ],
   "source": [
    "A = np.round(np.random.random((8,8)))\n",
    "\n",
    "\n",
    "num_samples_per_epoch = 2048\n",
    "batch_size = 64\n",
    "data_loader = get_epoch_data_loader_new(num_samples_per_epoch, batch_size, mat_dim)\n",
    "for batch_id, (real, rtarget) in enumerate(data_loader()):\n",
    "    if batch_id == 0:\n",
    "        print(real.shape,rtarget.shape)\n",
    "        plt.figure()\n",
    "        plt.imshow(real[0], cmap=plt.cm.gray)\n",
    "        plt.figure()\n",
    "        plt.imshow(rtarget[0], cmap=plt.cm.gray)\n",
    "        test = models[1]\n",
    "        noise1 = torch.randn(1, z_dim)\n",
    "        noise = torch.cat((noise1, rtarget[0].view(1,-1)), dim=1)\n",
    "        gen = test(noise)\n",
    "        plt.figure()\n",
    "        plt.imshow(gen.detach().numpy().reshape(16,16), cmap=plt.cm.gray)\n",
    "        \n",
    "\n",
    "    else: \n",
    "        pass"
   ]
  },
  {
   "cell_type": "code",
   "execution_count": 15,
   "metadata": {},
   "outputs": [
    {
     "name": "stdout",
     "output_type": "stream",
     "text": [
      "0 torch.Size([4, 4]) torch.Size([16]) tensor(7.5000)\n",
      "tensor([ 7.5000,  7.5000,  5.0000,  0.0000,  5.0000, 10.0000,  2.5000,  5.0000,\n",
      "        10.0000,  2.5000,  2.5000,  0.0000,  2.5000,  2.5000,  0.0000,  0.0000]) torch.Size([2048, 16])\n"
     ]
    },
    {
     "ename": "RuntimeError",
     "evalue": "Sizes of tensors must match except in dimension 1. Got 64 and 2048 in dimension 0 (The offending index is 1)",
     "output_type": "error",
     "traceback": [
      "\u001b[1;31m---------------------------------------------------------------------------\u001b[0m",
      "\u001b[1;31mRuntimeError\u001b[0m                              Traceback (most recent call last)",
      "\u001b[1;32m<ipython-input-15-9c5c4985ab09>\u001b[0m in \u001b[0;36m<module>\u001b[1;34m\u001b[0m\n\u001b[0;32m     12\u001b[0m     \u001b[1;31m#rtarget = true_post\u001b[0m\u001b[1;33m\u001b[0m\u001b[1;33m\u001b[0m\u001b[1;33m\u001b[0m\u001b[0m\n\u001b[0;32m     13\u001b[0m     \u001b[1;31m#testinp = torch.cat((noise1, rtarget.view(testing_x_per_y,-1)), dim=1)\u001b[0m\u001b[1;33m\u001b[0m\u001b[1;33m\u001b[0m\u001b[1;33m\u001b[0m\u001b[0m\n\u001b[1;32m---> 14\u001b[1;33m     \u001b[0mtestinp\u001b[0m \u001b[1;33m=\u001b[0m \u001b[0mtorch\u001b[0m\u001b[1;33m.\u001b[0m\u001b[0mcat\u001b[0m\u001b[1;33m(\u001b[0m\u001b[1;33m(\u001b[0m\u001b[0mnoise1\u001b[0m\u001b[1;33m,\u001b[0m \u001b[0mrtarget\u001b[0m\u001b[1;33m.\u001b[0m\u001b[0mview\u001b[0m\u001b[1;33m(\u001b[0m\u001b[1;36m2048\u001b[0m\u001b[1;33m,\u001b[0m\u001b[1;33m-\u001b[0m\u001b[1;36m1\u001b[0m\u001b[1;33m)\u001b[0m\u001b[1;33m)\u001b[0m\u001b[1;33m,\u001b[0m \u001b[0mdim\u001b[0m\u001b[1;33m=\u001b[0m\u001b[1;36m1\u001b[0m\u001b[1;33m)\u001b[0m\u001b[1;33m\u001b[0m\u001b[1;33m\u001b[0m\u001b[0m\n\u001b[0m\u001b[0;32m     15\u001b[0m \u001b[1;33m\u001b[0m\u001b[0m\n\u001b[0;32m     16\u001b[0m     \u001b[0msamples1\u001b[0m \u001b[1;33m=\u001b[0m \u001b[0mmodels\u001b[0m\u001b[1;33m[\u001b[0m\u001b[1;36m1\u001b[0m\u001b[1;33m]\u001b[0m\u001b[1;33m(\u001b[0m\u001b[0mtestinp\u001b[0m\u001b[1;33m)\u001b[0m\u001b[1;33m.\u001b[0m\u001b[0mdetach\u001b[0m\u001b[1;33m(\u001b[0m\u001b[1;33m)\u001b[0m\u001b[1;33m.\u001b[0m\u001b[0mcpu\u001b[0m\u001b[1;33m(\u001b[0m\u001b[1;33m)\u001b[0m\u001b[1;33m.\u001b[0m\u001b[0mnumpy\u001b[0m\u001b[1;33m(\u001b[0m\u001b[1;33m)\u001b[0m\u001b[1;33m\u001b[0m\u001b[1;33m\u001b[0m\u001b[0m\n",
      "\u001b[1;31mRuntimeError\u001b[0m: Sizes of tensors must match except in dimension 1. Got 64 and 2048 in dimension 0 (The offending index is 1)"
     ]
    }
   ],
   "source": [
    "for i, y in enumerate(testing_ys):\n",
    "    print(i, y.shape, y.flatten().shape, y.flatten()[0])\n",
    "\n",
    "    #true_posterior_params = get_mixture_posterior(mixture_params, forward_map, b**2 * torch.eye(DIMENSION, device=device), y)\n",
    "    #true_posterior_samples = draw_mixture_dist(true_posterior_params, testing_x_per_y).cpu().numpy()\n",
    "    true_posterior_samples = draw_mats_post(y)\n",
    "    inflated_ys = y.flatten()[None, :].repeat(2048, 1)\n",
    "    print(y.flatten(), inflated_ys.shape)\n",
    "    true_post = true_posterior_samples.reshape(-1, 16)\n",
    "    noise1 = torch.randn(true_post.shape[0], 16).to(device)\n",
    "    rtarget = inflated_ys\n",
    "    #rtarget = true_post\n",
    "    #testinp = torch.cat((noise1, rtarget.view(testing_x_per_y,-1)), dim=1)\n",
    "    testinp = torch.cat((noise1, rtarget.view(2048,-1)), dim=1)\n",
    "\n",
    "    samples1 = models[1](testinp).detach().cpu().numpy()\n",
    "    print(samples1, y)"
   ]
  },
  {
   "cell_type": "code",
   "execution_count": null,
   "metadata": {},
   "outputs": [],
   "source": [
    "np.random.choice(90, 3)\n",
    "'''\n",
    "bereits probiert:\n",
    "6 layer crit\n",
    "8 layer crit\n",
    "6 layer gen\n",
    "1000 epochs\n",
    "same same but 4048 samples\n",
    "0.2 lrelu\n",
    "training data torch.Size([64, 64, 64]) torch.Size([64, 32, 32])\n",
    "'''"
   ]
  },
  {
   "cell_type": "code",
   "execution_count": null,
   "metadata": {},
   "outputs": [],
   "source": [
    "x = np.array([   [ [1],[2],[3] ], [ [4],[5],[6] ]   ])\n",
    "print(x)\n",
    "print(x[:,:])\n",
    "print(x[...,0])\n",
    "print(x[...])\n",
    "print(x[0,...])\n",
    "print(x[1,...])"
   ]
  },
  {
   "cell_type": "code",
   "execution_count": null,
   "metadata": {},
   "outputs": [],
   "source": [
    "x = draw_mixture_dist(mixture_params, testing_num_y)\n",
    "print(x.shape)\n",
    "print(x[:,0])\n",
    "plt.hist(x[0,:])"
   ]
  },
  {
   "cell_type": "code",
   "execution_count": null,
   "metadata": {},
   "outputs": [],
   "source": [
    "q25, q75 = np.percentile(x,[.25,.75])\n",
    "bin_width = 2*(q75 - q25)*len(x)**(-1/3)\n",
    "bins = round((x.max() - x.min())/bin_width)\n",
    "print(\"Freedman–Diaconis number of bins:\", bins)\n",
    "plt.hist(x, bins = bins)"
   ]
  },
  {
   "cell_type": "code",
   "execution_count": 66,
   "metadata": {},
   "outputs": [
    {
     "ename": "NameError",
     "evalue": "name 'model' is not defined",
     "output_type": "error",
     "traceback": [
      "\u001b[1;31m---------------------------------------------------------------------------\u001b[0m",
      "\u001b[1;31mNameError\u001b[0m                                 Traceback (most recent call last)",
      "\u001b[1;32m<ipython-input-66-814638d9f3da>\u001b[0m in \u001b[0;36m<module>\u001b[1;34m\u001b[0m\n\u001b[1;32m----> 1\u001b[1;33m \u001b[0mpytorch_total_params\u001b[0m \u001b[1;33m=\u001b[0m \u001b[0msum\u001b[0m\u001b[1;33m(\u001b[0m\u001b[0mp\u001b[0m\u001b[1;33m.\u001b[0m\u001b[0mnumel\u001b[0m\u001b[1;33m(\u001b[0m\u001b[1;33m)\u001b[0m \u001b[1;32mfor\u001b[0m \u001b[0mp\u001b[0m \u001b[1;32min\u001b[0m \u001b[0mmodel\u001b[0m\u001b[1;33m.\u001b[0m\u001b[0mparameters\u001b[0m\u001b[1;33m(\u001b[0m\u001b[1;33m)\u001b[0m \u001b[1;32mif\u001b[0m \u001b[0mp\u001b[0m\u001b[1;33m.\u001b[0m\u001b[0mrequires_grad\u001b[0m\u001b[1;33m)\u001b[0m\u001b[1;33m\u001b[0m\u001b[1;33m\u001b[0m\u001b[0m\n\u001b[0m",
      "\u001b[1;31mNameError\u001b[0m: name 'model' is not defined"
     ]
    }
   ],
   "source": [
    "pytorch_total_params = sum(p.numel() for p in model.parameters() if p.requires_grad)"
   ]
  },
  {
   "cell_type": "code",
   "execution_count": null,
   "metadata": {},
   "outputs": [],
   "source": [
    "models = create_GAN()"
   ]
  },
  {
   "cell_type": "code",
   "execution_count": 67,
   "metadata": {},
   "outputs": [
    {
     "data": {
      "text/plain": [
       "154432"
      ]
     },
     "execution_count": 67,
     "metadata": {},
     "output_type": "execute_result"
    }
   ],
   "source": [
    "sum(p.numel() for p in models[1].parameters() if p.requires_grad)"
   ]
  },
  {
   "cell_type": "code",
   "execution_count": null,
   "metadata": {},
   "outputs": [],
   "source": [
    "torch.save(models[1].state_dict(), r'C:\\Users\\Karl\\TUB\\Master Thesis\\gen_toy_5dim_1000epochs.pt')\n",
    "torch.save(models[0].state_dict(), r'C:\\Users\\Karl\\TUB\\Master Thesis\\crit_toy_5dim_1000epochs.pt')"
   ]
  },
  {
   "cell_type": "code",
   "execution_count": null,
   "metadata": {},
   "outputs": [],
   "source": []
  },
  {
   "cell_type": "code",
   "execution_count": 16,
   "metadata": {},
   "outputs": [
    {
     "name": "stderr",
     "output_type": "stream",
     "text": [
      "\r",
      "Computing Wasserstein distances:   0%|          | 0/100 [00:43<?, ?it/s]"
     ]
    },
    {
     "name": "stdout",
     "output_type": "stream",
     "text": [
      "(64, 64)\n",
      "[[0. 0. 0. ... 1. 0. 1.]\n",
      " [0. 1. 0. ... 1. 1. 1.]\n",
      " [1. 1. 1. ... 1. 1. 1.]\n",
      " ...\n",
      " [0. 0. 1. ... 0. 0. 1.]\n",
      " [0. 0. 1. ... 1. 0. 1.]\n",
      " [1. 0. 1. ... 0. 0. 0.]] A\n",
      "torch.Size([32, 32])\n"
     ]
    },
    {
     "name": "stderr",
     "output_type": "stream",
     "text": [
      "\n"
     ]
    },
    {
     "data": {
      "text/plain": [
       "tensor([[1., 0., 2.,  ..., 1., 3., 3.],\n",
       "        [2., 1., 1.,  ..., 3., 1., 3.],\n",
       "        [3., 2., 2.,  ..., 1., 2., 1.],\n",
       "        ...,\n",
       "        [1., 3., 2.,  ..., 3., 2., 1.],\n",
       "        [1., 2., 3.,  ..., 3., 1., 3.],\n",
       "        [1., 4., 2.,  ..., 0., 1., 1.]])"
      ]
     },
     "execution_count": 16,
     "metadata": {},
     "output_type": "execute_result"
    }
   ],
   "source": [
    "A = torch.tensor([[1, 1, 1, 0], [1, 1, 0, 0], [1, 1, 0, 0], [1, 0, 1, 1]])\n",
    "A = torch.tensor([[1,1,1],[0,1,1],[1,1,1], [0,1,0]])\n",
    "A = np.round(np.random.random((64,64)))\n",
    "#A = torch.zeros(10,10)\n",
    "print(A.shape)\n",
    "if A.shape[1]%2 == 1:\n",
    "    A = torch.hstack((A, torch.zeros(A.shape[0],1)))\n",
    "if A.shape[0]%2 == 1:\n",
    "    A = torch.vstack((A, torch.zeros(A.shape[1])))\n",
    "print(A,'A')\n",
    "i, j = 0, 0\n",
    "stride = 2\n",
    "c = torch.zeros(A.shape[0]//stride, A.shape[1]//stride)\n",
    "print(c.shape)\n",
    "for _ in range(A.shape[0]):\n",
    "    for _ in range(A.shape[1]):\n",
    "        if i%2 == 0 and j%2 == 0:\n",
    "            try:\n",
    "                c[i//2, j//2] += A[i, j]\n",
    "                c[i//2, j//2] += A[i+1, j]\n",
    "                c[i//2, j//2] += A[i, j+1]\n",
    "                c[i//2, j//2] += A[i+1, j+1]\n",
    "            except:\n",
    "                print('oh noez', i,j)\n",
    "        i += 1\n",
    "        if i >= A.shape[0]:\n",
    "            i = 0\n",
    "    j += 1\n",
    "    if j >= A.shape[1]:\n",
    "            j = 0\n",
    "c"
   ]
  },
  {
   "cell_type": "code",
   "execution_count": 17,
   "metadata": {},
   "outputs": [
    {
     "name": "stdout",
     "output_type": "stream",
     "text": [
      "tensor([[[[1.6162]]]]) tensor([[[[ 0.9431, -0.0556,  0.2256,  0.7043],\n",
      "          [ 1.1304,  1.2765,  0.4348,  0.0962],\n",
      "          [ 1.6162, -0.6228,  0.4553,  0.6678],\n",
      "          [ 1.2643, -1.1986,  0.1698, -1.4295]]]])\n"
     ]
    }
   ],
   "source": [
    "m = nn.MaxPool2d(3, stride=2)\n",
    "input = torch.randn(1, 1, 4, 4)\n",
    "output = m(input)\n",
    "print(output, input)"
   ]
  },
  {
   "cell_type": "code",
   "execution_count": null,
   "metadata": {},
   "outputs": [],
   "source": [
    "#c = torch.tensor([[1,4], [1,2]])\n",
    "#c = A\n",
    "def build_candidates(c):\n",
    "    candidates = []\n",
    "    cand = []\n",
    "    for m,row in enumerate(c):\n",
    "        for n,i in enumerate(row):\n",
    "            if int(i) == 0 or int(i) == 4:\n",
    "                cand += [torch.tensor([[i * 0.25, i * 0.25], [i * 0.25, i * 0.25]])]\n",
    "            elif int(i) == 1:\n",
    "                cand += [torch.tensor([[1, 0], [0, 0]])]\n",
    "                cand += [torch.tensor([[0, 1], [0, 0]])]\n",
    "                cand += [torch.tensor([[0, 0], [1, 0]])]\n",
    "                cand += [torch.tensor([[0, 0], [0, 1]])]\n",
    "            elif int(i) == 2:\n",
    "                cand += [torch.tensor([[1, 1], [0, 0]])]\n",
    "                cand += [torch.tensor([[0, 0], [1, 1]])]\n",
    "                cand += [torch.tensor([[1, 0], [1, 0]])]\n",
    "                cand += [torch.tensor([[0, 1], [0, 1]])]\n",
    "                cand += [torch.tensor([[1, 0], [0, 1]])]\n",
    "                cand += [torch.tensor([[0, 1], [1, 0]])]\n",
    "            else:\n",
    "                cand += [torch.tensor([[1, 1], [1, 0]])]\n",
    "                cand += [torch.tensor([[1, 1], [0, 1]])]\n",
    "                cand += [torch.tensor([[1, 0], [1, 1]])]\n",
    "                cand += [torch.tensor([[0, 1], [1, 1]])]\n",
    "\n",
    "            candidates += [cand]\n",
    "            cand = []\n",
    "    return candidates\n",
    "#print(candidates)\n",
    "'''\n",
    "fin = []\n",
    "for i in candidates[0]:\n",
    "    for j in candidates[1]:\n",
    "        for k in candidates[2]:\n",
    "            for l in candidates[3]:\n",
    "                \n",
    "                upperb = np.hstack((i, j))\n",
    "                lowerb = np.hstack((k, l))\n",
    "                f = np.vstack((upperb, lowerb))\n",
    "                fin += [f]\n",
    "print(len(fin))\n",
    "for i in fin:\n",
    "    print(i)\n",
    "'''\n"
   ]
  },
  {
   "cell_type": "code",
   "execution_count": null,
   "metadata": {},
   "outputs": [],
   "source": [
    "torch.vstack((torch.ones(3,4),torch.zeros(4)))"
   ]
  },
  {
   "cell_type": "code",
   "execution_count": null,
   "metadata": {},
   "outputs": [],
   "source": [
    "candidates = build_candidates(c)\n",
    "fins = build_mat(candidates)"
   ]
  },
  {
   "cell_type": "code",
   "execution_count": null,
   "metadata": {},
   "outputs": [],
   "source": [
    "def build_mat(candidates):\n",
    "    fin = []\n",
    "    for i in candidates[0]:\n",
    "        for j in candidates[1]:\n",
    "            for k in candidates[2]:\n",
    "                for l in candidates[3]:\n",
    "                    \n",
    "                    upperb = np.hstack((i, j))\n",
    "                    lowerb = np.hstack((k, l))\n",
    "                    f = np.vstack((upperb, lowerb))\n",
    "                    fin += [f]\n",
    "    return torch.tensor(fin)\n",
    "    \n",
    "def split(c):\n",
    "    cs = []\n",
    "    i,j = 0,0\n",
    "    for _ in range(c.shape[0]):\n",
    "        for _ in range(c.shape[1]):\n",
    "            if i%2 == 0 and j%2 == 0:\n",
    "                try:\n",
    "                    chat = c[i:i+2, j:j+2]\n",
    "                    cs += [chat]\n",
    "                except:\n",
    "                    print('oh noez', i,j)\n",
    "            i += 1\n",
    "            if i >= A.shape[0]:\n",
    "                i = 0\n",
    "        j += 1\n",
    "        if j >= A.shape[1]:\n",
    "                j = 0\n",
    "    return cs\n",
    "\n",
    "def divide(box):\n",
    "    \n",
    "    m = box.shape[0]\n",
    "    n = box.shape[1]\n",
    "    box1 = box[0:m//2, 0:n//2]\n",
    "    box2 = box[0:m//2, n//2:]\n",
    "    box3 = box[m//2:, 0:n//2]\n",
    "    box4 = box[m//2:, n//2:]\n",
    "    \n",
    "    return [box1, box2, box3, box4]\n",
    "nest_level = 2\n",
    "act_level = 0\n",
    "def nested(act_level, nest_level, box):\n",
    "    if act_level == nest_level:\n",
    "        return box\n",
    "    else:\n",
    "        act_level += 1\n",
    "        box = divide(box)\n",
    "        return nested(act_level, nest_level, box)"
   ]
  },
  {
   "cell_type": "code",
   "execution_count": null,
   "metadata": {},
   "outputs": [],
   "source": [
    "finss = []\n",
    "rowc = []\n",
    "i,j = 0,0\n",
    "for chat in splitted:\n",
    "    candidates = build_candidates(chat)\n",
    "    fins = build_mat(candidates)\n",
    "    finss += [fins]\n",
    "    i += 1\n",
    "    if i > 1:\n",
    "        for mats1 in finss[0]:\n",
    "            for mats2 in finss[1]:\n",
    "                rowc += [np.vstack(mats1, mats2)]\n",
    "        finss = []\n",
    "        j += 1\n",
    "        i = 0\n",
    "    if j >= c.shape[0] // 2:\n",
    "        \n",
    "                \n",
    "            \n",
    "    \n"
   ]
  },
  {
   "cell_type": "code",
   "execution_count": null,
   "metadata": {},
   "outputs": [],
   "source": [
    "import math\n",
    "math.factorial(4)"
   ]
  },
  {
   "cell_type": "code",
   "execution_count": null,
   "metadata": {},
   "outputs": [],
   "source": [
    "c"
   ]
  },
  {
   "cell_type": "code",
   "execution_count": null,
   "metadata": {},
   "outputs": [],
   "source": [
    "def build_candidates_shallow():\n",
    "    if end:\n",
    "        candidates = build_candidates_deep\n",
    "        fins = build_mat(candidates)\n",
    "        return fins\n",
    "    else:\n",
    "        candidates = build_candidates_shallow\n",
    "        fins = build_mat(candidates)\n",
    "        return fins\n"
   ]
  },
  {
   "cell_type": "code",
   "execution_count": null,
   "metadata": {},
   "outputs": [],
   "source": [
    "for element in boxlist:\n",
    "    if type(element) is list:\n",
    "        return func"
   ]
  },
  {
   "cell_type": "code",
   "execution_count": null,
   "metadata": {},
   "outputs": [],
   "source": [
    "64*864*576*864"
   ]
  },
  {
   "cell_type": "code",
   "execution_count": null,
   "metadata": {},
   "outputs": [],
   "source": [
    "fins = []\n",
    "c = np.array([[2,2],[2,2]])\n",
    "candidates = build_candidates(c)\n",
    "fin = build_mat(candidates)\n",
    "print(fin.reshape(-1, 16).shape)\n",
    "\n",
    "\n",
    "if False:\n",
    "    for boxxx in divide(c):\n",
    "        candidates = build_candidates(boxxx)\n",
    "        fin = build_mat(candidates)\n",
    "        fins += [fin]\n",
    "            \n"
   ]
  },
  {
   "cell_type": "code",
   "execution_count": null,
   "metadata": {},
   "outputs": [],
   "source": [
    "nest_level = 2\n",
    "act_level = 0\n",
    "def nested(act_level, nest_level, box):\n",
    "    if act_level == nest_level:\n",
    "        return divide(box)\n",
    "    else:\n",
    "        act_level += 1\n",
    "        try:\n",
    "            box = divide(box)\n",
    "        except:\n",
    "            \n",
    "            return nested(act_level, nest_level, box[act_level])\n",
    "print(nested(act_level, nest_level, c))\n",
    "        "
   ]
  },
  {
   "cell_type": "code",
   "execution_count": null,
   "metadata": {},
   "outputs": [],
   "source": [
    "def make_tuples(depth, n, start=0):\n",
    "    if depth == 0:\n",
    "        yield ()\n",
    "    else:\n",
    "        for x in range(start, n):\n",
    "            for t in make_tuples(depth - 1, n, x + 1):\n",
    "                yield (x,) + t"
   ]
  },
  {
   "cell_type": "code",
   "execution_count": null,
   "metadata": {},
   "outputs": [],
   "source": [
    "for (i1, i2, i3) in make_tuples(3, 10):\n",
    "\n",
    "    pass"
   ]
  },
  {
   "cell_type": "code",
   "execution_count": null,
   "metadata": {},
   "outputs": [],
   "source": [
    "init = 1\n",
    "def rec(box, init, divs=[]):\n",
    "    if init == 1:\n",
    "        init = 0\n",
    "        divs = []\n",
    "    if type(box) is list:\n",
    "        for b in box:\n",
    "            print(b)\n",
    "            divs.append([rec(b, init, divs)])\n",
    "    else:\n",
    "        box = divide(box)\n",
    "        \n",
    "        return rec(box, init)\n",
    "    \n",
    "    return divs\n",
    "\n",
    "print(rec(c, init))\n",
    "        "
   ]
  },
  {
   "cell_type": "code",
   "execution_count": null,
   "metadata": {},
   "outputs": [],
   "source": [
    "w = torch.tensor(np.array([[2,1],[2,4]]))\n",
    "w = torch.cat([w,w])\n",
    "print(w)\n",
    "print(w.reshape(-1,2,2))\n",
    "w.shape"
   ]
  },
  {
   "cell_type": "code",
   "execution_count": null,
   "metadata": {},
   "outputs": [],
   "source": [
    "w = torch.tensor(np.array([[2,1],[2,4]]))\n",
    "\n",
    "w[None, :].repeat(8, 1)"
   ]
  },
  {
   "cell_type": "code",
   "execution_count": null,
   "metadata": {},
   "outputs": [],
   "source": [
    "h = get_epoch_data_loader_new(1000, 32)\n",
    "for batch_id, (real, rtarget) in enumerate(h()):\n",
    "    print(batch_id, real.shape, rtarget.shape)"
   ]
  },
  {
   "cell_type": "code",
   "execution_count": null,
   "metadata": {},
   "outputs": [],
   "source": [
    "y = torch.tensor([[1,2],[3,4]])\n",
    "yy = y[None, :].repeat(10, 1)\n",
    "yy"
   ]
  },
  {
   "cell_type": "code",
   "execution_count": null,
   "metadata": {},
   "outputs": [],
   "source": [
    "def draw_mats(num_samples, shape=4):\n",
    "    return torch.tensor(np.round(np.random.rand(num_samples, shape, shape)), dtype=torch.float32)\n",
    "\n",
    "def count(A, stride=2):\n",
    "    i, j = 0, 0\n",
    "    M, N = A.shape[0], A.shape[1]\n",
    "   \n",
    "    c = torch.zeros(M//stride, N//stride)\n",
    "    for _ in range(M):\n",
    "        for _ in range(N):\n",
    "            if i%2 == 0 and j%2 == 0:\n",
    "                \n",
    "                c[i//2, j//2] += A[i, j]\n",
    "                c[i//2, j//2] += A[i+1, j]\n",
    "                c[i//2, j//2] += A[i, j+1]\n",
    "                c[i//2, j//2] += A[i+1, j+1]\n",
    "                \n",
    "            i += 1\n",
    "            if i >= M:\n",
    "                i = 0\n",
    "        j += 1\n",
    "        if j >= N:\n",
    "                j = 0\n",
    "    return torch.tensor(c, dtype=torch.float32)\n",
    "def forward_mat(x):\n",
    "    mats = torch.tensor([])\n",
    "    for i in range(x.shape[0]):\n",
    "        mats = torch.cat((mats, count(x[i])))        \n",
    "    return mats.reshape(x.shape[0], x.shape[1]//2, x.shape[1]//2)\n",
    "def get_epoch_data_loader_new(num_samples_per_epoch, batch_size):\n",
    "    x = draw_mats(num_samples_per_epoch)\n",
    "    y = forward_mat(x)\n",
    "    def epoch_data_loader_new():\n",
    "        for i in range(0, num_samples_per_epoch, batch_size):\n",
    "            yield x[i:i+batch_size].clone(), y[i:i+batch_size].clone()\n",
    "\n",
    "    return epoch_data_loader_new\n",
    "def build_candidates(c):\n",
    "    candidates = []\n",
    "    cand = []\n",
    "    for m,row in enumerate(c):\n",
    "        for n,i in enumerate(row):\n",
    "            if int(i) == 0 or int(i) == 4:\n",
    "                cand += [torch.tensor([[i * 0.25, i * 0.25], [i * 0.25, i * 0.25]])]\n",
    "            elif int(i) == 1:\n",
    "                cand += [torch.tensor([[1, 0], [0, 0]])]\n",
    "                cand += [torch.tensor([[0, 1], [0, 0]])]\n",
    "                cand += [torch.tensor([[0, 0], [1, 0]])]\n",
    "                cand += [torch.tensor([[0, 0], [0, 1]])]\n",
    "            elif int(i) == 2:\n",
    "                cand += [torch.tensor([[1, 1], [0, 0]])]\n",
    "                cand += [torch.tensor([[0, 0], [1, 1]])]\n",
    "                cand += [torch.tensor([[1, 0], [1, 0]])]\n",
    "                cand += [torch.tensor([[0, 1], [0, 1]])]\n",
    "                cand += [torch.tensor([[1, 0], [0, 1]])]\n",
    "                cand += [torch.tensor([[0, 1], [1, 0]])]\n",
    "            else:\n",
    "                cand += [torch.tensor([[1, 1], [1, 0]])]\n",
    "                cand += [torch.tensor([[1, 1], [0, 1]])]\n",
    "                cand += [torch.tensor([[1, 0], [1, 1]])]\n",
    "                cand += [torch.tensor([[0, 1], [1, 1]])]\n",
    "\n",
    "            candidates += [cand]\n",
    "            cand = []\n",
    "    return candidates\n",
    "\n",
    "def draw_mats_post(y):\n",
    "    fin = []\n",
    "    candidates = build_candidates(y)\n",
    "    for i in candidates[0]:\n",
    "        for j in candidates[1]:\n",
    "            for k in candidates[2]:\n",
    "                for l in candidates[3]:\n",
    "                    \n",
    "                    upperb = np.hstack((i, j))\n",
    "                    lowerb = np.hstack((k, l))\n",
    "                    f = np.vstack((upperb, lowerb))\n",
    "                    fin += [f]\n",
    "    return torch.tensor(fin, dtype=torch.float32)"
   ]
  },
  {
   "cell_type": "code",
   "execution_count": null,
   "metadata": {},
   "outputs": [],
   "source": [
    "def build_candidates_ind(c):\n",
    "    candidates = []\n",
    "    cand = []\n",
    "    for m,row in enumerate(c):\n",
    "        for n,i in enumerate(row):\n",
    "            if int(i) == 0:\n",
    "                cand += [np.array([])]\n",
    "            elif int(i) == 1:\n",
    "                cand += [np.array([(0,0)])]\n",
    "                cand += [np.array([(0,1)])]\n",
    "                cand += [np.array([(1,0)])]\n",
    "                cand += [np.array([(1,1)])]\n",
    "            elif int(i) == 2:\n",
    "                cand += [np.array([(0,0), (0,1)])]\n",
    "                cand += [np.array([(1,0), (1,1)])]\n",
    "                cand += [np.array([(0,0), (1,0)])]\n",
    "                cand += [np.array([(0,1), (1,1)])]\n",
    "                cand += [np.array([(0,0), (1,1)])]\n",
    "                cand += [np.array([(0,1), (1,0)])]\n",
    "            elif int(i) == 3:\n",
    "                cand += [np.array([(0,0), (0,1), (1,0)])]\n",
    "                cand += [np.array([(0,0), (0,1), (1,1)])]\n",
    "                cand += [np.array([(0,0), (1,0), (1,1)])]\n",
    "                cand += [np.array([(0,1), (1,0), (1,1)])]\n",
    "            else:\n",
    "                cand += [np.array([(0,0), (0,1), (1,0), (1,1)])]\n",
    "\n",
    "            candidates += [cand]\n",
    "            cand = []\n",
    "    return candidates"
   ]
  },
  {
   "cell_type": "code",
   "execution_count": null,
   "metadata": {},
   "outputs": [],
   "source": [
    "def build_from_2x2(c, mat, m=0, n=0):\n",
    "    for k, build_list in enumerate(build_candidates_ind(c)):\n",
    "    \n",
    "        r_ind = np.random.choice(len(build_list))\n",
    "        indicees = build_list[r_ind]\n",
    "        for index in indicees:\n",
    "            i = index[0]\n",
    "            j = index[1]\n",
    "            if k == 0:\n",
    "                mat[i+m, j+n] = 1\n",
    "            elif k == 1:\n",
    "                mat[i+m, j + 2 + n] = 1\n",
    "            elif k == 2:\n",
    "                mat[i + 2 + m, j+n] = 1\n",
    "            else:\n",
    "                mat[i+2+m, j+2+n] = 1\n",
    "    return mat\n"
   ]
  },
  {
   "cell_type": "code",
   "execution_count": null,
   "metadata": {},
   "outputs": [],
   "source": [
    "def reconstruct(shape, c):\n",
    "    splitted = split(c)\n",
    "    mat = np.zeros(shape)\n",
    "    m = 0\n",
    "    i, j = 0,0\n",
    "    for splitt in splitted:\n",
    "        mat = build_from_2x2(splitt, mat, i,j)\n",
    "\n",
    "        i += 4\n",
    "        m += 1\n",
    "\n",
    "        if m > 0 and m%int(shape/4) == 0:\n",
    "            j += 4\n",
    "            i = 0\n",
    "            m = 0\n",
    "            \n",
    "    return mat\n",
    "\n",
    "\n"
   ]
  },
  {
   "cell_type": "code",
   "execution_count": null,
   "metadata": {},
   "outputs": [],
   "source": [
    "for i in np.array([(1,1), (2,2), (2,1)]):\n",
    "    print(i+10)"
   ]
  },
  {
   "cell_type": "code",
   "execution_count": null,
   "metadata": {},
   "outputs": [],
   "source": [
    "np.zeros((23,23))"
   ]
  },
  {
   "cell_type": "code",
   "execution_count": null,
   "metadata": {},
   "outputs": [],
   "source": [
    "def build_block(candidates, num_samples=1):\n",
    "    blockmatrices = []\n",
    "    for i in range(num_samples):\n",
    "        block = []\n",
    "        \n",
    "        for build_list in candidates:\n",
    "            \n",
    "            ind = np.random.choice(len(build_list))\n",
    "            block += [build_list[ind]]\n",
    "        upperb = np.hstack((block[0], block[1]))\n",
    "        lowerb = np.hstack((block[2], block[3]))\n",
    "        blockM = np.vstack((upperb, lowerb))\n",
    "        blockmatrices += [blockM]\n",
    "    return blockmatrices"
   ]
  },
  {
   "cell_type": "code",
   "execution_count": null,
   "metadata": {},
   "outputs": [],
   "source": [
    "def build_big_block(blocks, num_samples=1):\n",
    "    bb = []\n",
    "    i = 0\n",
    "    for i in range(num_samples):\n",
    "        block = []\n",
    "        \n",
    "        while i < 4:\n",
    "            i += 1\n",
    "            ind = np.random.choice(len(blocks))\n",
    "            block += [blocks[ind]]\n",
    "        upperb = np.hstack((block[0], block[1]))\n",
    "        lowerb = np.hstack((block[2], block[3]))\n",
    "        blockM = np.vstack((upperb, lowerb))\n",
    "        bb += [blockM]\n",
    "    return bb\n",
    "    "
   ]
  },
  {
   "cell_type": "code",
   "execution_count": null,
   "metadata": {},
   "outputs": [],
   "source": [
    "y = torch.tensor([[1,2], [4,2]])\n",
    "c = build_candidates(y)\n",
    "m = build_block(c, 4)\n",
    "print(m)\n",
    "p = build_big_block(m, 1)\n",
    "#print(p)"
   ]
  },
  {
   "cell_type": "code",
   "execution_count": null,
   "metadata": {},
   "outputs": [],
   "source": [
    "ma = np.array([[1,2],[3,4]])\n",
    "ma[(0,0), (1,1)]"
   ]
  },
  {
   "cell_type": "code",
   "execution_count": null,
   "metadata": {},
   "outputs": [],
   "source": [
    "li = [(1,2),(3,4)]\n",
    "li[0]"
   ]
  },
  {
   "cell_type": "code",
   "execution_count": null,
   "metadata": {},
   "outputs": [],
   "source": [
    "16/4"
   ]
  },
  {
   "cell_type": "code",
   "execution_count": null,
   "metadata": {},
   "outputs": [],
   "source": [
    "for i in range(10):\n",
    "        data_loader = get_epoch_data_loader_new(2048, 64, 64)\n",
    "        print('t')\n",
    "        loss = gl(models, data_loader, opt_gen, opt_crit)"
   ]
  },
  {
   "cell_type": "code",
   "execution_count": null,
   "metadata": {},
   "outputs": [],
   "source": [
    "m = nn.AvgPool2d(2, stride=(2,2))\n",
    "inp = 10*torch.tensor(np.round(np.random.rand(2, 64, 64)), dtype=torch.float32)\n",
    "print(inp)\n",
    "output = m(inp)\n",
    "print(output)"
   ]
  },
  {
   "cell_type": "code",
   "execution_count": null,
   "metadata": {},
   "outputs": [],
   "source": [
    "int(2.5)"
   ]
  },
  {
   "cell_type": "code",
   "execution_count": null,
   "metadata": {},
   "outputs": [],
   "source": [
    "pytorch_total_params = sum(p.numel() for p in model.parameters() if p.requires_grad)"
   ]
  },
  {
   "cell_type": "code",
   "execution_count": null,
   "metadata": {},
   "outputs": [],
   "source": [
    "models = create_GAN(mat_dim, z_dim)\n",
    "sum(p.numel() for p in models[1].parameters() if p.requires_grad)"
   ]
  },
  {
   "cell_type": "code",
   "execution_count": null,
   "metadata": {},
   "outputs": [],
   "source": []
  }
 ],
 "metadata": {
  "kernelspec": {
   "display_name": "Python 3",
   "language": "python",
   "name": "python3"
  },
  "language_info": {
   "codemirror_mode": {
    "name": "ipython",
    "version": 3
   },
   "file_extension": ".py",
   "mimetype": "text/x-python",
   "name": "python",
   "nbconvert_exporter": "python",
   "pygments_lexer": "ipython3",
   "version": "3.8.5"
  }
 },
 "nbformat": 4,
 "nbformat_minor": 4
}
